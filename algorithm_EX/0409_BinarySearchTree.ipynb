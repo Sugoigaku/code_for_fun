{
 "cells": [
  {
   "cell_type": "markdown",
   "metadata": {},
   "source": [
    "# Binary Search Tree #"
   ]
  },
  {
   "cell_type": "code",
   "execution_count": 1,
   "metadata": {},
   "outputs": [],
   "source": [
    "class Node:\n",
    "    __slots__ = '_item' , '_left' , '_right'\n",
    "    \n",
    "    def __init__(self, item, left=None, right=None):\n",
    "        self._item = item\n",
    "        self._left = left\n",
    "        self._right = right\n",
    "        \n",
    "class BinarySearchTree:\n",
    "    \n",
    "    def __init__ (self, root=None):\n",
    "        self._root = root\n",
    "        \n",
    "    # Get methods\n",
    "    def get(self, key):\n",
    "        return self.__get(self._root, key)\n",
    "    \n",
    "    def __get(self, node, key): #helper\n",
    "        if (node is None):\n",
    "            return None\n",
    "        if node._item == key:\n",
    "            return node\n",
    "        elif node._item < key:\n",
    "            return self.__get(node._left, key)\n",
    "        else:\n",
    "            return self.__get(node._right. key)\n",
    "        \n",
    "    # add methods\n",
    "    def add(self, value):\n",
    "        self._root = self.__add(self._root, value)\n",
    "    \n",
    "    def __add(self, node, value):\n",
    "        if node is None:\n",
    "            node = Node(value)\n",
    "        if node._item == value:\n",
    "            pass\n",
    "        elif value < node._item:\n",
    "            node._left = self.__add(node._left, value)\n",
    "        else:\n",
    "            node._right = self.__add(node._right, value)\n",
    "        \n",
    "        return node\n",
    "    \n",
    "    # remove methods\n",
    "    def remove(self, key):\n",
    "        self._root = self.__remove(self, self._root, key)\n",
    "        \n",
    "    def __remove(self, node, key):\n",
    "        if node is None:# 第一种情况，\n",
    "            return None\n",
    "        if node._item == key:\n",
    "            if node.left is None:\n",
    "                node = node.right\n",
    "            elif node.right is None:\n",
    "                node = node.left\n",
    "            else:\n",
    "                node._item = self.__get_max(node._left)\n",
    "                node._left = self.__remove(node._left, node._item)       \n",
    "        elif node._item < key:\n",
    "            node = self.__remove(node._left, key)\n",
    "        else:\n",
    "            node = self.__remove(node._right, key)\n",
    "            \n",
    "        return node\n",
    "        \n",
    "    # get max/min methods\n",
    "    def get_max(self):\n",
    "        return self.__get_max(self._root)\n",
    "    \n",
    "    def _get_max(self, node):\n",
    "        if node is None:\n",
    "            return None\n",
    "        while node._right:\n",
    "            node = node._right\n",
    "        return node._item\n",
    "    \n",
    "    def get_min(self):\n",
    "        return self.__get_min(self._root)\n",
    "    \n",
    "    def _get_min(self, node):\n",
    "        if node is None:\n",
    "            return None\n",
    "        while node._left:\n",
    "            node = node._left\n",
    "        return node._item\n",
    "    \n",
    "    # Traversal Methods\n",
    "    def preorder_traversal(self):\n",
    "        self.__preorder(self._root)\n",
    "        print()\n",
    "        \n",
    "    def __preorder(self, node):\n",
    "        if node is None:\n",
    "            return \n",
    "        print('{' , node._item , '}', end=\" \") \n",
    "        self.__preorder(node._left)\n",
    "        self.__preorder(node._right)\n",
    "        \n",
    "    def inorder_traversal(self):\n",
    "        self.__inorder(self._root)\n",
    "        print()\n",
    "        \n",
    "    def __inorder(self, node):\n",
    "        if node is None:\n",
    "            return \n",
    "        self.__inorder(node._left)\n",
    "        print('{' , node._item, '}', end=\" \")\n",
    "        self.__inorder(node._right)\n",
    "        \n",
    "    def postorder_traversal(self):\n",
    "        self.__postorder(self._root)\n",
    "        print()\n",
    "        \n",
    "    def __postorder(self, node):\n",
    "        if node is None:\n",
    "            return \n",
    "        self.__postorder(node._left)\n",
    "        self.__postorder(node._right)\n",
    "        print('{' , node._item , '}', end=\" \")"
   ]
  },
  {
   "cell_type": "code",
   "execution_count": 2,
   "metadata": {
    "scrolled": true
   },
   "outputs": [
    {
     "name": "stdout",
     "output_type": "stream",
     "text": [
      "{ 1 } { 2 } { 3 } { 4 } { 5 } { 6 } { 7 } { 8 } { 9 } { 10 } { 11 } { 12 } { 13 } \n",
      "{ 1 } { 3 } { 2 } { 5 } { 4 } { 7 } { 10 } { 12 } { 11 } { 13 } { 9 } { 8 } { 6 } \n",
      "{ 6 } { 4 } { 2 } { 1 } { 3 } { 5 } { 8 } { 7 } { 9 } { 13 } { 11 } { 10 } { 12 } \n"
     ]
    }
   ],
   "source": [
    "bst = BinarySearchTree()\n",
    "numbers = [6, 4, 8, 7, 9, 2, 1, 3, 5, 13, 11, 10, 12]\n",
    "for i in numbers:\n",
    "    bst.add(i)\n",
    "bst.inorder_traversal()\n",
    "bst.postorder_traversal()\n",
    "bst.preorder_traversal()"
   ]
  },
  {
   "cell_type": "markdown",
   "metadata": {
    "collapsed": true
   },
   "source": [
    "## Practice I"
   ]
  },
  {
   "cell_type": "markdown",
   "metadata": {},
   "source": [
    "### <a id='Ex1'>Ex.1 Tree Size </a>\n",
    "\n",
    "Calculate the size of the tree."
   ]
  },
  {
   "cell_type": "code",
   "execution_count": 3,
   "metadata": {},
   "outputs": [],
   "source": [
    "class AdvBST1(BinarySearchTree):\n",
    "    def size(self):\n",
    "        return self.__size(self._root)\n",
    "    \n",
    "    def __size(self, node):\n",
    "        if node is None:\n",
    "            return 0\n",
    "        return self.__size(node._left) + self.__size(node._right) + 1"
   ]
  },
  {
   "cell_type": "code",
   "execution_count": 4,
   "metadata": {},
   "outputs": [
    {
     "name": "stdout",
     "output_type": "stream",
     "text": [
      "{ 1 } { 2 } { 3 } { 4 } { 5 } { 6 } { 7 } { 8 } { 9 } { 10 } { 11 } { 12 } { 13 } { 14 } { 15 } \n"
     ]
    },
    {
     "data": {
      "text/plain": [
       "15"
      ]
     },
     "execution_count": 4,
     "metadata": {},
     "output_type": "execute_result"
    }
   ],
   "source": [
    "bst = AdvBST1()\n",
    "numbers = [6, 4, 8, 7, 9, 2, 1, 3, 5, 13, 11, 10, 12, 14, 15]\n",
    "for i in numbers:\n",
    "    bst.add(i)\n",
    "bst.inorder_traversal()\n",
    "bst.size()"
   ]
  },
  {
   "cell_type": "markdown",
   "metadata": {},
   "source": [
    "### <a id='Ex1'>Ex.2 Max Depth </a>\n",
    "\n",
    "Calculate the max depth of a tree"
   ]
  },
  {
   "cell_type": "code",
   "execution_count": 5,
   "metadata": {},
   "outputs": [],
   "source": [
    "class AdvBST2(AdvBST1):\n",
    "    def maxDepth(self):\n",
    "        return self.__maxDepth(self._root)\n",
    "    \n",
    "    def __maxDepth(self, node):\n",
    "        if node is None:\n",
    "            return 0\n",
    "        return max(self.__maxDepth(node._left), self.__maxDepth(node._right)) + 1"
   ]
  },
  {
   "cell_type": "code",
   "execution_count": 6,
   "metadata": {},
   "outputs": [
    {
     "name": "stdout",
     "output_type": "stream",
     "text": [
      "{ 1 } { 2 } { 3 } { 4 } { 5 } { 6 } { 7 } { 8 } { 9 } { 10 } { 11 } { 12 } { 13 } \n"
     ]
    },
    {
     "data": {
      "text/plain": [
       "6"
      ]
     },
     "execution_count": 6,
     "metadata": {},
     "output_type": "execute_result"
    }
   ],
   "source": [
    "bst = AdvBST2()\n",
    "numbers = [6, 4, 8, 7, 9, 2, 1, 3, 5, 13, 11, 10, 12]\n",
    "for i in numbers:\n",
    "    bst.add(i)\n",
    "bst.inorder_traversal()\n",
    "bst.maxDepth()"
   ]
  },
  {
   "cell_type": "code",
   "execution_count": 7,
   "metadata": {},
   "outputs": [
    {
     "name": "stdout",
     "output_type": "stream",
     "text": [
      "{ 1 } { 2 } { 3 } { 4 } { 5 } { 6 } { 7 } { 8 } \n"
     ]
    },
    {
     "data": {
      "text/plain": [
       "8"
      ]
     },
     "execution_count": 7,
     "metadata": {},
     "output_type": "execute_result"
    }
   ],
   "source": [
    "bst = AdvBST2()\n",
    "numbers = [1,2,3,4,5,6,7,8]\n",
    "for i in numbers:\n",
    "    bst.add(i)\n",
    "bst.inorder_traversal()\n",
    "bst.maxDepth()"
   ]
  },
  {
   "cell_type": "markdown",
   "metadata": {},
   "source": [
    "### <a id='Ex1'>Ex.3. Is Balance Tree</a>\n",
    "\n",
    "Given a tree, check whether the tree is a balance tree."
   ]
  },
  {
   "cell_type": "code",
   "execution_count": 8,
   "metadata": {},
   "outputs": [],
   "source": [
    "#O(N^2)\n",
    "class AdvBST3(AdvBST2):\n",
    "    def minDepth(self):\n",
    "        return self.__minDepth(self._root)\n",
    "    \n",
    "    def __minDepth(self, node):\n",
    "        if node is None:\n",
    "            return 0\n",
    "        return min(self.__minDepth(node._left), self.__minDepth(node._right)) + 1\n",
    "    \n",
    "    def isBalanced(self):\n",
    "        return (self.maxDepth() - self.minDepth()) <= 1"
   ]
  },
  {
   "cell_type": "code",
   "execution_count": 9,
   "metadata": {},
   "outputs": [
    {
     "name": "stdout",
     "output_type": "stream",
     "text": [
      "{ 1 } { 2 } { 3 } { 4 } { 5 } { 6 } { 7 } { 8 } \n"
     ]
    },
    {
     "data": {
      "text/plain": [
       "False"
      ]
     },
     "execution_count": 9,
     "metadata": {},
     "output_type": "execute_result"
    }
   ],
   "source": [
    "bst = AdvBST3()\n",
    "numbers = [1,2,3,4,5,6,7,8]\n",
    "for i in numbers:\n",
    "    bst.add(i)\n",
    "bst.inorder_traversal()\n",
    "bst.isBalanced()\n"
   ]
  },
  {
   "cell_type": "markdown",
   "metadata": {},
   "source": [
    "### <a id='Ex4'>Ex.4 Floor and Ceiling</a>"
   ]
  },
  {
   "cell_type": "code",
   "execution_count": 10,
   "metadata": {},
   "outputs": [],
   "source": [
    "class AdvBST4(AdvBST3):\n",
    "    def floor(self, key):\n",
    "        return self.__floor(self._root, key)\n",
    "    \n",
    "    def __floor(self, node, key):\n",
    "        if node is None:\n",
    "            return None\n",
    "        if node._item == key:\n",
    "            return node\n",
    "        if node._item > key:\n",
    "            return self.__floor(node._left, key)\n",
    "        t = self.__floor(node._right, key) # 在node._item当中选最大的\n",
    "        if t:\n",
    "            return t\n",
    "        return node"
   ]
  },
  {
   "cell_type": "code",
   "execution_count": 11,
   "metadata": {
    "scrolled": true
   },
   "outputs": [
    {
     "name": "stdout",
     "output_type": "stream",
     "text": [
      "40\n",
      "40\n",
      "10\n",
      "None\n",
      "80\n"
     ]
    }
   ],
   "source": [
    "bst = AdvBST4()\n",
    "numbers = [40,20,70,50,10,60,30,80]\n",
    "for i in numbers:\n",
    "    bst.add(i)\n",
    "print(bst.floor(40)._item)\n",
    "print(bst.floor(44)._item)\n",
    "print(bst.floor(10)._item)\n",
    "print(bst.floor(5))\n",
    "print(bst.floor(100)._item)"
   ]
  },
  {
   "cell_type": "markdown",
   "metadata": {},
   "source": [
    "### <a id='Ex5'>Ex.5 Is Binary Search Tree</a>\n",
    "\n",
    "Check whether a given tree a binary search tree."
   ]
  },
  {
   "cell_type": "code",
   "execution_count": 12,
   "metadata": {},
   "outputs": [],
   "source": [
    "# Too slow  O(N^2)\n",
    "class AdvBST5(AdvBST4):\n",
    "    def isBST(self):\n",
    "        return self.__isBST(self._root)\n",
    "    \n",
    "    def __isBST(self, node):\n",
    "        if node is None:\n",
    "            return True\n",
    "        left_max = self._get_max(node._left)\n",
    "        right_min = self._get_min(node._right)\n",
    "        if not left_max and not right_min:\n",
    "            return True\n",
    "        elif left_max and right_min:\n",
    "            return  left_max < node._item and right_min > node._item\n",
    "        elif left_max and not right_min:\n",
    "            return  left_max < node._item\n",
    "        else:\n",
    "            return  right_min > node._item"
   ]
  },
  {
   "cell_type": "code",
   "execution_count": 13,
   "metadata": {},
   "outputs": [],
   "source": [
    "# O(N)\n",
    "import sys\n",
    "class AdvBST5(AdvBST4):\n",
    "    def isBST(self):\n",
    "        return self.__isBST(self._root, -sys.maxsize, sys.maxsize)\n",
    "    \n",
    "    def __isBST(self, node, minval, maxval):\n",
    "        if node is None:\n",
    "            return True\n",
    "        if (node._item <= minval or node._item >= maxval):\n",
    "            return False\n",
    "        return self.__isBST(node._left, minval, node._item) and self.__isBST(node._left, node._item, maxval)"
   ]
  },
  {
   "cell_type": "code",
   "execution_count": 14,
   "metadata": {},
   "outputs": [
    {
     "data": {
      "text/plain": [
       "True"
      ]
     },
     "execution_count": 14,
     "metadata": {},
     "output_type": "execute_result"
    }
   ],
   "source": [
    "bst = AdvBST5()\n",
    "numbers = [1,2,3,4,5,6,7,8]\n",
    "for i in numbers:\n",
    "    bst.add(i)\n",
    "bst.isBST()"
   ]
  },
  {
   "cell_type": "markdown",
   "metadata": {},
   "source": [
    "### <a id='Ex6'>Ex.6 Is Mirror Tree</a>"
   ]
  },
  {
   "cell_type": "code",
   "execution_count": 15,
   "metadata": {},
   "outputs": [],
   "source": [
    "class AdvBST6(AdvBST5):\n",
    "    def mirror(self):\n",
    "        self._mirror(self._root)\n",
    "    def _mirror(self, node):\n",
    "        if node:\n",
    "            self._mirror(node._left)\n",
    "            self._mirror(node._right)\n",
    "            node._left, node._right = node._right, node._left"
   ]
  },
  {
   "cell_type": "code",
   "execution_count": 16,
   "metadata": {},
   "outputs": [
    {
     "name": "stdout",
     "output_type": "stream",
     "text": [
      "{ 1 } { 2 } { 3 } { 4 } { 5 } { 6 } { 7 } { 8 } { 9 } \n"
     ]
    }
   ],
   "source": [
    "bst = AdvBST6()\n",
    "numbers = [6, 4, 8, 7, 9, 5, 1, 3, 2]\n",
    "for i in numbers:\n",
    "    bst.add(i)\n",
    "bst.inorder_traversal()"
   ]
  },
  {
   "cell_type": "code",
   "execution_count": 17,
   "metadata": {},
   "outputs": [
    {
     "name": "stdout",
     "output_type": "stream",
     "text": [
      "{ 9 } { 8 } { 7 } { 6 } { 5 } { 4 } { 3 } { 2 } { 1 } \n"
     ]
    }
   ],
   "source": [
    "bst.mirror()\n",
    "bst.inorder_traversal()"
   ]
  },
  {
   "cell_type": "markdown",
   "metadata": {
    "collapsed": true
   },
   "source": [
    "### <a id='Ex7'>Ex.7 Same Tree</a>"
   ]
  },
  {
   "cell_type": "code",
   "execution_count": 18,
   "metadata": {},
   "outputs": [],
   "source": [
    "class AdvBST7(AdvBST6):    \n",
    "    def sameTree(self, another):\n",
    "        return self._sameTree(self._root, another._root)\n",
    "    \n",
    "    def _sameTree(self, nodeA, nodeB):\n",
    "        if (nodeA is None and nodeB is None):\n",
    "            return True\n",
    "        if (nodeA is not None and nodeB is not None):\n",
    "            return nodeA._item == nodeB._item and self._sameTree(nodeA._left, nodeB._left) and self._sameTree(nodeA._right, nodeB._right)\n",
    "        return False"
   ]
  },
  {
   "cell_type": "code",
   "execution_count": 19,
   "metadata": {},
   "outputs": [
    {
     "data": {
      "text/plain": [
       "True"
      ]
     },
     "execution_count": 19,
     "metadata": {},
     "output_type": "execute_result"
    }
   ],
   "source": [
    "bst = AdvBST7()\n",
    "numbers = [6, 4, 8, 7, 9, 5, 1, 3, 2]\n",
    "for i in numbers:\n",
    "    bst.add(i)\n",
    "another = AdvBST7()\n",
    "numbers = [6, 4, 8, 7, 9, 5, 1, 3, 2]\n",
    "for i in numbers:\n",
    "    another.add(i)\n",
    "bst.sameTree(another)"
   ]
  },
  {
   "cell_type": "code",
   "execution_count": 20,
   "metadata": {},
   "outputs": [
    {
     "data": {
      "text/plain": [
       "False"
      ]
     },
     "execution_count": 20,
     "metadata": {},
     "output_type": "execute_result"
    }
   ],
   "source": [
    "another.add(100)\n",
    "bst.sameTree(another)"
   ]
  },
  {
   "cell_type": "code",
   "execution_count": 21,
   "metadata": {},
   "outputs": [
    {
     "data": {
      "text/plain": [
       "True"
      ]
     },
     "execution_count": 21,
     "metadata": {},
     "output_type": "execute_result"
    }
   ],
   "source": [
    "bst.add(100)\n",
    "bst.sameTree(another)"
   ]
  },
  {
   "cell_type": "markdown",
   "metadata": {},
   "source": [
    "### <a id='Ex8'>Ex.8 Is Tree Foldable</a>"
   ]
  },
  {
   "cell_type": "code",
   "execution_count": 22,
   "metadata": {},
   "outputs": [],
   "source": [
    "class AdvBST8(AdvBST7):    \n",
    "    def isFoldable(self):# 轴对称\n",
    "        if self._root is None:\n",
    "            return True\n",
    "        return self._isFoldable(self._root._left, self._root._right)\n",
    "    \n",
    "    def _isFoldable(self, nodeA, nodeB):\n",
    "        if (nodeA is None and nodeB is None):\n",
    "            return True\n",
    "        if (nodeA is None or nodeB is None):\n",
    "            return False        \n",
    "        return self._isFoldable(nodeA._left, nodeB._right) and self._isFoldable(nodeA._right, nodeB._left)"
   ]
  },
  {
   "cell_type": "code",
   "execution_count": 23,
   "metadata": {},
   "outputs": [
    {
     "data": {
      "text/plain": [
       "False"
      ]
     },
     "execution_count": 23,
     "metadata": {},
     "output_type": "execute_result"
    }
   ],
   "source": [
    "bst = AdvBST8()\n",
    "numbers = [6, 4, 8, 7, 9, 5, 1, 3, 2]\n",
    "for i in numbers:\n",
    "    bst.add(i)\n",
    "bst.isFoldable()"
   ]
  },
  {
   "cell_type": "code",
   "execution_count": 24,
   "metadata": {},
   "outputs": [
    {
     "data": {
      "text/plain": [
       "True"
      ]
     },
     "execution_count": 24,
     "metadata": {},
     "output_type": "execute_result"
    }
   ],
   "source": [
    "bst = AdvBST8()\n",
    "numbers = [3,2,5,1,8]\n",
    "for i in numbers:\n",
    "    bst.add(i)\n",
    "bst.isFoldable()"
   ]
  },
  {
   "cell_type": "markdown",
   "metadata": {},
   "source": [
    "## Practice II"
   ]
  },
  {
   "cell_type": "markdown",
   "metadata": {},
   "source": [
    "### <a id='Ex1'>Ex.1 Iterative Get </a>\n",
    "\n",
    "Implment BST Get method, iteratively."
   ]
  },
  {
   "cell_type": "code",
   "execution_count": 25,
   "metadata": {},
   "outputs": [],
   "source": [
    "class AdvBST9(AdvBST8):\n",
    "    def getIterative(self, key):\n",
    "        node = self._root\n",
    "        while node:\n",
    "            if node._item == key:\n",
    "                return node._item\n",
    "            node = node._left if key < node._item else node._right\n",
    "        return None"
   ]
  },
  {
   "cell_type": "code",
   "execution_count": 26,
   "metadata": {},
   "outputs": [
    {
     "name": "stdout",
     "output_type": "stream",
     "text": [
      "{ 1 } { 2 } { 3 } { 4 } { 5 } { 6 } { 7 } { 8 } { 9 } { 10 } { 11 } { 12 } { 13 } \n"
     ]
    }
   ],
   "source": [
    "bst = AdvBST9()\n",
    "numbers = [6, 4, 8, 7, 9, 2, 1, 3, 5, 13, 11, 10, 12]\n",
    "for i in numbers:\n",
    "    bst.add(i)\n",
    "bst.inorder_traversal()\n",
    "bst.getIterative(17)"
   ]
  },
  {
   "cell_type": "markdown",
   "metadata": {},
   "source": [
    "### <a id='Ex2'>Ex.2 Iterative Add </a>\n",
    "\n",
    "Implment BST Add method, iteratively."
   ]
  },
  {
   "cell_type": "code",
   "execution_count": 27,
   "metadata": {},
   "outputs": [],
   "source": [
    "class AdvBST10(AdvBST9):\n",
    "    def addIterative(self, val):\n",
    "        new_node = Node(val)\n",
    "        if (self._root is None):\n",
    "            self._root = new_node\n",
    "            return\n",
    "            \n",
    "        cur_node = self._root\n",
    "        pre_node = None\n",
    "        while True:\n",
    "            pre_node = cur_node\n",
    "            if cur_node._item == val:\n",
    "                return\n",
    "            elif val < cur_node._item:\n",
    "                cur_node = cur_node._left\n",
    "                if cur_node is None:\n",
    "                    pre_node._left = new_node\n",
    "                    return\n",
    "            else:\n",
    "                cur_node = cur_node._right\n",
    "                if cur_node is None:\n",
    "                    pre_node._right = new_node\n",
    "                    return"
   ]
  },
  {
   "cell_type": "code",
   "execution_count": 28,
   "metadata": {},
   "outputs": [
    {
     "name": "stdout",
     "output_type": "stream",
     "text": [
      "{ 1 } { 2 } { 3 } { 4 } { 5 } { 6 } { 7 } { 8 } { 9 } { 10 } { 11 } { 12 } { 13 } \n",
      "{ 1 } { 2 } { 3 } { 4 } { 5 } { 6 } { 7 } { 8 } { 9 } { 10 } { 11 } { 12 } { 13 } \n",
      "{ 6 } { 4 } { 2 } { 1 } { 3 } { 5 } { 8 } { 7 } { 9 } { 13 } { 11 } { 10 } { 12 } \n",
      "{ 6 } { 4 } { 2 } { 1 } { 3 } { 5 } { 8 } { 7 } { 9 } { 13 } { 11 } { 10 } { 12 } \n"
     ]
    }
   ],
   "source": [
    "bst = AdvBST10()\n",
    "numbers = [6, 4, 8, 7, 9, 2, 1, 3, 5, 13, 11, 10, 12]\n",
    "for i in numbers:\n",
    "    bst.addIterative(i)\n",
    "\n",
    "bst2 = AdvBST2()\n",
    "numbers = [6, 4, 8, 7, 9, 2, 1, 3, 5, 13, 11, 10, 12]\n",
    "for i in numbers:\n",
    "    bst2.add(i)\n",
    "bst.inorder_traversal()\n",
    "bst2.inorder_traversal()\n",
    "bst.preorder_traversal()\n",
    "bst2.preorder_traversal()"
   ]
  },
  {
   "cell_type": "markdown",
   "metadata": {},
   "source": [
    "### <a id='Ex3'>Ex.3 Iterative Inorder Traversal </a>\n",
    "\n",
    "Implment BST Inorder traversal method, iteratively."
   ]
  },
  {
   "cell_type": "code",
   "execution_count": 29,
   "metadata": {},
   "outputs": [
    {
     "ename": "IndentationError",
     "evalue": "unindent does not match any outer indentation level (<ipython-input-29-8292be16eab9>, line 5)",
     "output_type": "error",
     "traceback": [
      "\u001b[1;36m  File \u001b[1;32m\"<ipython-input-29-8292be16eab9>\"\u001b[1;36m, line \u001b[1;32m5\u001b[0m\n\u001b[1;33m    def __inorder(self, node):\u001b[0m\n\u001b[1;37m                              ^\u001b[0m\n\u001b[1;31mIndentationError\u001b[0m\u001b[1;31m:\u001b[0m unindent does not match any outer indentation level\n"
     ]
    }
   ],
   "source": [
    "def inorder_traversal(self):\n",
    "        self.__inorder(self._root)\n",
    "        print()\n",
    "        \n",
    "    def __inorder(self, node):\n",
    "        if node is None:\n",
    "            return \n",
    "        self.__inorder(node._left)\n",
    "        print('{' , node._item, '}', end=\" \")\n",
    "        self.__inorder(node._right)"
   ]
  },
  {
   "cell_type": "code",
   "execution_count": 30,
   "metadata": {},
   "outputs": [],
   "source": [
    "class AdvBST11(AdvBST10):\n",
    "    \n",
    "    def IInT(self):\n",
    "        node = self._root\n",
    "        stack = []\n",
    "        res = []\n",
    "        while True:\n",
    "            while (node is not None):\n",
    "                stack.append(node)\n",
    "                node = node._left\n",
    "            if len(stack) == 0:\n",
    "                return res\n",
    "            node = stack.pop()\n",
    "            res.append(node._item)\n",
    "            node = node._right      "
   ]
  },
  {
   "cell_type": "code",
   "execution_count": 31,
   "metadata": {},
   "outputs": [
    {
     "name": "stdout",
     "output_type": "stream",
     "text": [
      "{ 1 } { 2 } { 3 } { 4 } { 5 } { 6 } { 7 } { 8 } { 9 } { 10 } { 11 } { 12 } { 13 } \n",
      "[1, 2, 3, 4, 5, 6, 7, 8, 9, 10, 11, 12, 13]\n"
     ]
    }
   ],
   "source": [
    "bst = AdvBST11()\n",
    "numbers = [6, 4, 8, 7, 9, 2, 1, 3, 5, 13, 11, 10, 12]\n",
    "for i in numbers:\n",
    "    bst.add(i)\n",
    "bst.inorder_traversal()\n",
    "print(bst.IInT())"
   ]
  },
  {
   "cell_type": "markdown",
   "metadata": {},
   "source": [
    "### <a id='Ex4'>Ex.4 Iterative Preorder Traversal </a>\n",
    "\n",
    "Implment BST Preorder traversal method, iteratively."
   ]
  },
  {
   "cell_type": "code",
   "execution_count": 32,
   "metadata": {},
   "outputs": [],
   "source": [
    "    def preorder_traversal(self):\n",
    "        self.__preorder(self._root)\n",
    "        print()\n",
    "        \n",
    "    def __preorder(self, node):\n",
    "        if node is None:\n",
    "            return \n",
    "        print('{' , node._item , '}', end=\" \") \n",
    "        self.__preorder(node._left)\n",
    "        self.__preorder(node._right)"
   ]
  },
  {
   "cell_type": "code",
   "execution_count": 33,
   "metadata": {},
   "outputs": [],
   "source": [
    "class AdvBST12(AdvBST11):\n",
    "    def IPreT(self):\n",
    "        stack = [self._root]\n",
    "        res = []\n",
    "        \n",
    "        while stack:\n",
    "            node = stack.pop()\n",
    "            if node:\n",
    "                res.append(node._item)\n",
    "                stack.append(node._right)\n",
    "                stack.append(node._left)\n",
    "        return res"
   ]
  },
  {
   "cell_type": "code",
   "execution_count": 34,
   "metadata": {},
   "outputs": [
    {
     "name": "stdout",
     "output_type": "stream",
     "text": [
      "{ 6 } { 4 } { 2 } { 1 } { 3 } { 5 } { 8 } { 7 } { 9 } { 13 } { 11 } { 10 } { 12 } \n"
     ]
    },
    {
     "data": {
      "text/plain": [
       "[6, 4, 2, 1, 3, 5, 8, 7, 9, 13, 11, 10, 12]"
      ]
     },
     "execution_count": 34,
     "metadata": {},
     "output_type": "execute_result"
    }
   ],
   "source": [
    "bst = AdvBST12()\n",
    "numbers = [6, 4, 8, 7, 9, 2, 1, 3, 5, 13, 11, 10, 12]\n",
    "for i in numbers:\n",
    "    bst.add(i)\n",
    "bst.preorder_traversal()\n",
    "bst.IPreT()"
   ]
  },
  {
   "cell_type": "markdown",
   "metadata": {},
   "source": [
    "### <a id='Ex4'>Ex.5 Iterative Postorder Traversal </a>\n",
    "\n",
    "Implment BST Postorder traversal method, iteratively."
   ]
  },
  {
   "cell_type": "code",
   "execution_count": 35,
   "metadata": {},
   "outputs": [
    {
     "ename": "IndentationError",
     "evalue": "unindent does not match any outer indentation level (<ipython-input-35-6bd606d4e3c2>, line 5)",
     "output_type": "error",
     "traceback": [
      "\u001b[1;36m  File \u001b[1;32m\"<ipython-input-35-6bd606d4e3c2>\"\u001b[1;36m, line \u001b[1;32m5\u001b[0m\n\u001b[1;33m    def __postorder(self, node):\u001b[0m\n\u001b[1;37m                                ^\u001b[0m\n\u001b[1;31mIndentationError\u001b[0m\u001b[1;31m:\u001b[0m unindent does not match any outer indentation level\n"
     ]
    }
   ],
   "source": [
    "def postorder_traversal(self):\n",
    "        self.__postorder(self._root)\n",
    "        print()\n",
    "        \n",
    "    def __postorder(self, node):\n",
    "        if node is None:\n",
    "            return \n",
    "        self.__postorder(node._left)\n",
    "        self.__postorder(node._right)\n",
    "        print('{' , node._item , '}', end=\" \")"
   ]
  },
  {
   "cell_type": "code",
   "execution_count": 36,
   "metadata": {},
   "outputs": [],
   "source": [
    "class AdvBST13(AdvBST12):\n",
    "    def IPostT(self):\n",
    "        stack = [(self._root,False)]\n",
    "        res = []\n",
    "        while stack:\n",
    "            node, visited = stack.pop()\n",
    "            if node:\n",
    "                if visited:\n",
    "                    res.append(node._item)\n",
    "                else:\n",
    "                    stack.append((node, True))\n",
    "                    stack.append((node._right, False))\n",
    "                    stack.append((node._left, False)) \n",
    "        return res"
   ]
  },
  {
   "cell_type": "code",
   "execution_count": 37,
   "metadata": {},
   "outputs": [
    {
     "name": "stdout",
     "output_type": "stream",
     "text": [
      "{ 4 } { 7 } { 8 } { 6 } \n"
     ]
    },
    {
     "data": {
      "text/plain": [
       "[4, 7, 8, 6]"
      ]
     },
     "execution_count": 37,
     "metadata": {},
     "output_type": "execute_result"
    }
   ],
   "source": [
    "bst = AdvBST13()\n",
    "numbers = [6, 4, 8, 7]\n",
    "for i in numbers:\n",
    "    bst.add(i)\n",
    "bst.postorder_traversal()\n",
    "bst.IPostT()"
   ]
  },
  {
   "cell_type": "markdown",
   "metadata": {},
   "source": [
    "## Practice III"
   ]
  },
  {
   "cell_type": "markdown",
   "metadata": {},
   "source": [
    "### <a id='Ex1'>Ex.1 Level Order Traversal </a>\n",
    "\n",
    "Given a binary tree, return the level order traversal of its nodes' values. (ie, from left to right, level by level).\n",
    "\n",
    "<img src=\"./images/ch14/t1.png\" width=\"75\"/>\n",
    "<img src=\"./images/ch14/t2.png\" width=\"75\"/>"
   ]
  },
  {
   "cell_type": "code",
   "execution_count": 60,
   "metadata": {},
   "outputs": [],
   "source": [
    "class AdvBST14(AdvBST13):\n",
    "    def levelOrder(self):\n",
    "        if not self._root:\n",
    "            return []\n",
    "        \n",
    "        res = []\n",
    "        level = [self._root]\n",
    "        while level:\n",
    "            current_nodes = []\n",
    "            next_level = []\n",
    "            for node in level:\n",
    "                current_nodes.append(node._item)\n",
    "                if node._left:\n",
    "                    next_level.append(node._left)\n",
    "                if node._right:\n",
    "                    next_level.append(node._right)\n",
    "            res.append(current_nodes)\n",
    "            level = next_level\n",
    "        \n",
    "        return res\n",
    "    \n",
    "    def levelOrder_reverse1(self):\n",
    "        ans = self.levelOrder()\n",
    "        ans.reverse()\n",
    "        return ans\n",
    "    \n",
    "    def levelOrder_reverse2(self):\n",
    "        if not self._root:\n",
    "            return []\n",
    "        res, level = [], [self._root]\n",
    "        while level:\n",
    "            res.insert(0,[node._item for node in level])\n",
    "            temp = []\n",
    "            for node in level:\n",
    "                temp.extend([node._left,node._right])\n",
    "            level = [node for node in temp if node]\n",
    "        return res"
   ]
  },
  {
   "cell_type": "code",
   "execution_count": 61,
   "metadata": {},
   "outputs": [
    {
     "data": {
      "text/plain": [
       "[[6], [4, 8], [2, 5, 7, 9], [1, 3, 13], [11], [10, 12]]"
      ]
     },
     "execution_count": 61,
     "metadata": {},
     "output_type": "execute_result"
    }
   ],
   "source": [
    "bst = AdvBST14()\n",
    "numbers = [6, 4, 8, 7, 9, 2, 1, 3, 5, 13, 11, 10, 12]\n",
    "for i in numbers:\n",
    "    bst.add(i)\n",
    "bst.levelOrder()\n"
   ]
  },
  {
   "cell_type": "markdown",
   "metadata": {},
   "source": [
    "### <a id='Ex1'>Ex.2 Level Order Traversal II</a>\n",
    "\n",
    "Given a binary tree, return the bottom-up level order traversal of its nodes' values. (ie, from left to right, level by level from leaf to root).\n",
    "\n",
    "<img src=\"images/ch14/t1.png\" width=\"75\"/>\n",
    "<img src=\"images/ch14/t4.png\" width=\"75\"/>"
   ]
  },
  {
   "cell_type": "code",
   "execution_count": 62,
   "metadata": {
    "scrolled": true
   },
   "outputs": [
    {
     "data": {
      "text/plain": [
       "[[10, 12], [11], [1, 3, 13], [2, 5, 7, 9], [4, 8], [6]]"
      ]
     },
     "execution_count": 62,
     "metadata": {},
     "output_type": "execute_result"
    }
   ],
   "source": [
    "bst = AdvBST14()\n",
    "numbers = [6, 4, 8, 7, 9, 2, 1, 3, 5, 13, 11, 10, 12]\n",
    "for i in numbers:\n",
    "    bst.add(i)\n",
    "bst.levelOrder_reverse1()"
   ]
  },
  {
   "cell_type": "code",
   "execution_count": 63,
   "metadata": {},
   "outputs": [
    {
     "data": {
      "text/plain": [
       "[[10, 12], [11], [1, 3, 13], [2, 5, 7, 9], [4, 8], [6]]"
      ]
     },
     "execution_count": 63,
     "metadata": {},
     "output_type": "execute_result"
    }
   ],
   "source": [
    "bst.levelOrder_reverse2()"
   ]
  },
  {
   "cell_type": "markdown",
   "metadata": {},
   "source": [
    "### <a id='Ex1'>Ex.3 Binary Tree Zigzag Level Order Traversal</a>\n",
    "\n",
    "Given a binary tree, return the zigzag level order traversal of its nodes' values. (ie, from left to right, then right to left for the next level and alternate between).\n",
    "\n",
    "<img src=\"images/ch14/t1.png\" width=\"75\"/>\n",
    "<img src=\"images/ch14/t3.png\" width=\"75\"/>"
   ]
  },
  {
   "cell_type": "code",
   "execution_count": 68,
   "metadata": {},
   "outputs": [],
   "source": [
    "class AdvBST15(AdvBST14):\n",
    "    def zigzagLevelOrder(self,):\n",
    "        if not self._root: \n",
    "            return []\n",
    "        res, temp, stack, flag = [], [], [self._root], 1\n",
    "        while stack:\n",
    "            for i in range(len(stack)):\n",
    "                node = stack.pop(0)\n",
    "                temp += [node._item]\n",
    "                if node._left:  stack += [node._left]\n",
    "                if node._right: stack += [node._right]\n",
    "            res += [temp[::flag]]\n",
    "            temp = []\n",
    "            flag *= -1\n",
    "        return res"
   ]
  },
  {
   "cell_type": "code",
   "execution_count": 69,
   "metadata": {},
   "outputs": [
    {
     "data": {
      "text/plain": [
       "[[6], [8, 4], [2, 5, 7, 9], [13, 3, 1], [11], [12, 10]]"
      ]
     },
     "execution_count": 69,
     "metadata": {},
     "output_type": "execute_result"
    }
   ],
   "source": [
    "bst = AdvBST15()\n",
    "numbers = [6, 4, 8, 7, 9, 2, 1, 3, 5, 13, 11, 10, 12]\n",
    "for i in numbers:\n",
    "    bst.add(i)\n",
    "bst.zigzagLevelOrder()"
   ]
  },
  {
   "cell_type": "markdown",
   "metadata": {},
   "source": [
    "### <a id='Ex4'>Ex.4 Construct Binary Tree from Preorder and Inorder Traversal</a>\n",
    "\n",
    "Given preorder and inorder traversal of a tree, construct the binary tree.\n",
    "\n",
    "Note:\n",
    "\n",
    "You may assume that duplicates do not exist in the tree.\n",
    "\n",
    "For example, given\n",
    "\n",
    "preorder = [3,9,20,15,7]\n",
    "\n",
    "inorder = [9,3,15,20,7]\n",
    "\n",
    "Return the following binary tree:\n",
    "\n",
    "<img src=\"./images/ch14/t1.png\" width=\"75\"/>"
   ]
  },
  {
   "cell_type": "code",
   "execution_count": null,
   "metadata": {},
   "outputs": [],
   "source": [
    "def buildTree(preorder, inorder):\n",
    "    if pre"
   ]
  },
  {
   "cell_type": "code",
   "execution_count": 93,
   "metadata": {},
   "outputs": [
    {
     "name": "stdout",
     "output_type": "stream",
     "text": [
      "[ 3 ] [ 9 ] [ 20 ] [ 15 ] [ 7 ] \n",
      "[ 9 ] [ 3 ] [ 15 ] [ 20 ] [ 7 ] \n"
     ]
    }
   ],
   "source": [
    "preorder = [3,9,20,15,7]\n",
    "inorder = [9,3,15,20,7]\n",
    "root = buildTree(preorder, inorder)\n",
    "\n",
    "bst = BinarySearchTree(root)\n",
    "bst.print_preorder()\n",
    "bst.print_inorder()"
   ]
  },
  {
   "cell_type": "markdown",
   "metadata": {},
   "source": [
    "### <a id='Ex5'>Ex.5 Construct Binary Tree from Inorder and Postorder Traversal</a>\n",
    "\n",
    "Given inorder and postorder traversal of a tree, construct the binary tree.\n",
    "\n",
    "Note:\n",
    "\n",
    "You may assume that duplicates do not exist in the tree.\n",
    "\n",
    "For example, given\n",
    "\n",
    "inorder = [9,3,15,20,7]\n",
    "\n",
    "postorder = [9,15,7,20,3]\n",
    "\n",
    "Return the following binary tree:\n",
    "\n",
    "<img src=\"./images/ch14/t1.png\" width=\"75\"/>"
   ]
  },
  {
   "cell_type": "markdown",
   "metadata": {},
   "source": [
    "### <a id='Ex6'>Ex.6 Convert Sorted Array to Binary Search Tree</a>\n",
    "\n",
    "Given an array where elements are sorted in ascending order, convert it to a height balanced BST.\n",
    "\n",
    "For this problem, a height-balanced binary tree is defined as a binary tree in which the depth of the two subtrees of every node never differ by more than 1.\n",
    "\n",
    "Given the sorted array: [-10,-3,0,5,9],\n",
    "\n",
    "One possible answer is: \n",
    "\n",
    "<img src=\"./images/ch14/t5.png\" width=\"100\"/>"
   ]
  },
  {
   "cell_type": "markdown",
   "metadata": {},
   "source": [
    "### <a id='Ex7'>Ex.7 Convert Sorted List to Binary Search Tree</a>"
   ]
  },
  {
   "cell_type": "markdown",
   "metadata": {},
   "source": [
    "## Practice IV"
   ]
  },
  {
   "cell_type": "markdown",
   "metadata": {},
   "source": [
    "### <a id='Ex1'>Ex.1 Path Sum </a>\n",
    "\n",
    "Given a binary tree and a sum, determine if the tree has a root-to-leaf path such that adding up all the values along the path equals the given sum.\n",
    "\n",
    "Given the below binary tree and sum = 22,\n",
    "\n",
    "return true, as there exist a root-to-leaf path 5->4->11->2 which sum is 22.\n",
    "\n",
    "<img src=\"./images/ch14/t6.png\" width=\"130\"/>"
   ]
  },
  {
   "cell_type": "markdown",
   "metadata": {},
   "source": [
    "### <a id='Ex1'>Ex.2 Path Sum II</a>\n",
    "\n",
    "Given a binary tree and a sum, find all root-to-leaf paths where each path's sum equals the given sum.\n",
    "\n",
    "Given the below binary tree and sum = 22,\n",
    "\n",
    "<img src=\"./images/ch14/t7.png\" width=\"130\"/>"
   ]
  },
  {
   "cell_type": "markdown",
   "metadata": {},
   "source": [
    "### <a id='Ex3'>Ex.3 Path Sum III</a>\n",
    "\n",
    "You are given a binary tree in which each node contains an integer value.\n",
    "\n",
    "Find the number of paths that sum to a given value.\n",
    "\n",
    "The path does not need to start or end at the root or a leaf, but it must go downwards (traveling only from parent nodes to child nodes).\n",
    "\n",
    "<img src=\"./images/ch14/t8.png\" width=\"130\"/>"
   ]
  },
  {
   "cell_type": "code",
   "execution_count": null,
   "metadata": {},
   "outputs": [],
   "source": []
  }
 ],
 "metadata": {
  "kernelspec": {
   "display_name": "Python 3",
   "language": "python",
   "name": "python3"
  },
  "language_info": {
   "codemirror_mode": {
    "name": "ipython",
    "version": 3
   },
   "file_extension": ".py",
   "mimetype": "text/x-python",
   "name": "python",
   "nbconvert_exporter": "python",
   "pygments_lexer": "ipython3",
   "version": "3.7.0"
  }
 },
 "nbformat": 4,
 "nbformat_minor": 2
}
