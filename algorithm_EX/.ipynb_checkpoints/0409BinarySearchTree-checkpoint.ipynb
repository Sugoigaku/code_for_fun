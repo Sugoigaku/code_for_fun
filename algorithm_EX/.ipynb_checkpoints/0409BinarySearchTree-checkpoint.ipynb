{
 "cells": [
  {
   "cell_type": "markdown",
   "metadata": {},
   "source": [
    "# Binary Search Tree #"
   ]
  },
  {
   "cell_type": "code",
   "execution_count": 12,
   "metadata": {},
   "outputs": [],
   "source": [
    "class Node:\n",
    "    __slots__ = '_item' , '_left' , '_right'\n",
    "    \n",
    "    def __init__(self, item, left=None, right=None):\n",
    "        self._item = item\n",
    "        self._left = left\n",
    "        self._right = right\n",
    "        \n",
    "class BinarySearchTree:\n",
    "    \n",
    "    def __init__ (self, root=None):\n",
    "        self._root = root\n",
    "        \n",
    "    # Get methods\n",
    "    def get(self, key):\n",
    "        return self.__get(self._root, key)\n",
    "    \n",
    "    def __get(self, node, key): #helper\n",
    "        if (node is None):\n",
    "            return None\n",
    "        if node._item == key:\n",
    "            return node\n",
    "        elif node._item < key:\n",
    "            return self.__get(node._left, key)\n",
    "        else:\n",
    "            return self.__get(node._right. key)\n",
    "        \n",
    "    # add methods\n",
    "    def add(self, value):\n",
    "        self._root = self.__add(self._root, value)\n",
    "    \n",
    "    def __add(self, node, value):\n",
    "        if node is None:\n",
    "            node = Node(value)\n",
    "        if node._item == value:\n",
    "            pass\n",
    "        elif value < node._item:\n",
    "            node._left = self.__add(node._left, value)\n",
    "        else:\n",
    "            node._right = self.__add(node._right, value)\n",
    "        \n",
    "        return node\n",
    "    \n",
    "    # remove methods\n",
    "    def remove(self, key):\n",
    "        self._root = self.__remove(self, self._root, key)\n",
    "        \n",
    "    def __remove(self, node, key):\n",
    "        if node is None:# 第一种情况，\n",
    "            return None\n",
    "        if node._item == key:\n",
    "            if node.left is None:\n",
    "                node = node.right\n",
    "            elif node.right is None:\n",
    "                node = node.left\n",
    "            else:\n",
    "                node._item = self.__get_max(node._left)\n",
    "                node._left = self.__remove(node._left, node._item)       \n",
    "        elif node._item < key:\n",
    "            node = self.__remove(node._left, key)\n",
    "        else:\n",
    "            node = self.__remove(node._right, key)\n",
    "            \n",
    "        return node\n",
    "        \n",
    "    # get max/min methods\n",
    "    def get_max(self):\n",
    "        return self.__get_max(self._root)\n",
    "    \n",
    "    def __get_max(self, node):\n",
    "        if node is None:\n",
    "            return None\n",
    "        while node._right:\n",
    "            node = node._right\n",
    "        return node._item\n",
    "    \n",
    "    def get_min(self):\n",
    "        return self.__get_min(self._root)\n",
    "    \n",
    "    def __get_min(self, node):\n",
    "        if node is None:\n",
    "            return None\n",
    "        while node._left:\n",
    "            node = node._left\n",
    "        return node._item\n",
    "    \n",
    "    # Traversal Methods\n",
    "    def preorder(self):\n",
    "        self.__preorder(self._root)\n",
    "        print()\n",
    "        \n",
    "    def __preorder(self, node):\n",
    "        if node is None:\n",
    "            return \n",
    "        print('{' , node._item , '}', end=\" \") \n",
    "        self.__preorder(node._left)\n",
    "        self.__preorder(node._right)\n",
    "        \n",
    "    def inorder(self):\n",
    "        self.__inorder(self._root)\n",
    "        print()\n",
    "        \n",
    "    def __inorder(self, node):\n",
    "        if node is None:\n",
    "            return \n",
    "        self.__inorder(node._left)\n",
    "        print('{' , node._item, '}', end=\" \")\n",
    "        self.__inorder(node._right)\n",
    "        \n",
    "    def postorder(self):\n",
    "        self.__postorder(self._root)\n",
    "        print()\n",
    "        \n",
    "    def __postorder(self, node):\n",
    "        if node is None:\n",
    "            return \n",
    "        self.__postorder(node._left)\n",
    "        self.__postorder(node._right)\n",
    "        print('{' , node._item , '}', end=\" \")"
   ]
  },
  {
   "cell_type": "code",
   "execution_count": 13,
   "metadata": {},
   "outputs": [
    {
     "name": "stdout",
     "output_type": "stream",
     "text": [
      "{ 1 } { 2 } { 3 } { 4 } { 5 } { 6 } { 7 } { 8 } { 9 } { 10 } { 11 } { 12 } { 13 } \n",
      "{ 1 } { 3 } { 2 } { 5 } { 4 } { 7 } { 10 } { 12 } { 11 } { 13 } { 9 } { 8 } { 6 } \n",
      "{ 6 } { 4 } { 2 } { 1 } { 3 } { 5 } { 8 } { 7 } { 9 } { 13 } { 11 } { 10 } { 12 } \n"
     ]
    }
   ],
   "source": [
    "bst = BinarySearchTree()\n",
    "numbers = [6, 4, 8, 7, 9, 2, 1, 3, 5, 13, 11, 10, 12]\n",
    "for i in numbers:\n",
    "    bst.add(i)\n",
    "bst.inorder()\n",
    "bst.postorder()\n",
    "bst.preorder()"
   ]
  },
  {
   "cell_type": "markdown",
   "metadata": {},
   "source": [
    "## Practice I"
   ]
  },
  {
   "cell_type": "markdown",
   "metadata": {},
   "source": [
    "### <a id='Ex1'>Ex.1 Tree Size </a>\n",
    "\n",
    "Calculate the size of the tree."
   ]
  },
  {
   "cell_type": "code",
   "execution_count": null,
   "metadata": {
    "collapsed": true
   },
   "outputs": [],
   "source": []
  }
 ],
 "metadata": {
  "kernelspec": {
   "display_name": "Python 3",
   "language": "python",
   "name": "python3"
  },
  "language_info": {
   "codemirror_mode": {
    "name": "ipython",
    "version": 3
   },
   "file_extension": ".py",
   "mimetype": "text/x-python",
   "name": "python",
   "nbconvert_exporter": "python",
   "pygments_lexer": "ipython3",
   "version": "3.7.0"
  }
 },
 "nbformat": 4,
 "nbformat_minor": 2
}
