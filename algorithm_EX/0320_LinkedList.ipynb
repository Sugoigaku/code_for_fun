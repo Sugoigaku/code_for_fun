{
 "cells": [
  {
   "cell_type": "markdown",
   "metadata": {},
   "source": [
    "# Linked List #"
   ]
  },
  {
   "cell_type": "code",
   "execution_count": 4,
   "metadata": {},
   "outputs": [],
   "source": [
    "class Node():\n",
    "    def __init__(self, value = None, next = None):\n",
    "        self.value = value\n",
    "        self.next = next\n",
    "        \n",
    "    def __repr__(self):\n",
    "        return \"Node(value={})\".format(self.value)\n",
    "\n",
    "class LinkedList():\n",
    "    def __init__(self):\n",
    "        self.head = Node()\n",
    "        self.size = 0\n",
    "        \n",
    "    def __str__(self):\n",
    "        if self.head.next is None:\n",
    "            return \"链表为空\"\n",
    "        result = \"\"\n",
    "        temp_pointer = self.head.next\n",
    "        while temp_pointer != None:\n",
    "            result += \"{}->\".format(temp_pointer.value)\n",
    "            temp_pointer = temp_pointer.next\n",
    "        return result\n",
    "        \n",
    "    def add_first(self, value):\n",
    "        new_node = Node(value)\n",
    "        new_node.next = self.head.next\n",
    "        self.head.next = new_node\n",
    "        self.size += 1\n",
    "        \n",
    "    def add_last(self, value):\n",
    "        temp_pointer = self.head\n",
    "        new_node = Node(value)\n",
    "        while temp_pointer.next != None:\n",
    "            temp_pointer = temp_pointer.next\n",
    "        temp_pointer.next = new_node\n",
    "        self.size += 1\n",
    "        \n",
    "    def add(self, index, value):\n",
    "        if self.size == 0 or index == 1:\n",
    "            self.add_first(value)\n",
    "        else:\n",
    "            temp_pointer = self.get(index-1)\n",
    "            new_node = Node(value)\n",
    "            new_node.next = temp_pointer.next\n",
    "            temp_pointer.next = new_node\n",
    "        self.size += 1\n",
    "        \n",
    "    def remove_first(self):\n",
    "        if self.size == 0:\n",
    "            return '链表为空'\n",
    "        self.head.next = self.head.next.next\n",
    "        self.size -= 1\n",
    "        \n",
    "    def remove_last(self):\n",
    "        if self.size <= 1:\n",
    "            self.remove_first()\n",
    "        else:\n",
    "            #找到倒数第二个\n",
    "            temp_pointer = self.get(self.size-1)\n",
    "            temp_pointer.next = None\n",
    "            self.size -= 1\n",
    "        \n",
    "    def remove(self, index):\n",
    "        if self.size == 0 or index ==1:\n",
    "            self.remove_first()\n",
    "        else:\n",
    "            temp_pointer = self.get(index-1)\n",
    "            temp_pointer.next = temp_pointer.next.next\n",
    "            \n",
    "    def get(self, index):\n",
    "        if index < 1 or index > self.size:\n",
    "            raise ValueError(\"index超出范围！\")\n",
    "        temp_pointer = self.head\n",
    "        for _ in range(index):\n",
    "            temp_pointer = temp_pointer.next\n",
    "        return temp_pointer"
   ]
  },
  {
   "cell_type": "markdown",
   "metadata": {
    "collapsed": true
   },
   "source": [
    "# Linked List Practice I#"
   ]
  },
  {
   "cell_type": "markdown",
   "metadata": {},
   "source": [
    "<a href='#Ex1'>Ex.1 Delete Node</a>\n",
    "\n",
    "<a href='#Ex2'>Ex.2 Find the Middle Node</a>\n",
    "\n",
    "<a href='#Ex3'>Ex.3 Has Cycle</a>\n",
    "\n",
    "<a href='#Ex4'>Ex.4 Beginning of Loop</a>\n",
    "\n",
    "<a href='#Ex5'>Ex.5 Remove Nth to Last</a>\n",
    "\n",
    "<a href='#Ex6'>Ex.6 Split in Half</a>"
   ]
  },
  {
   "cell_type": "code",
   "execution_count": null,
   "metadata": {
    "collapsed": true
   },
   "outputs": [],
   "source": []
  },
  {
   "cell_type": "markdown",
   "metadata": {
    "collapsed": true
   },
   "source": [
    "### <a id='Ex1'>Ex.1 Delete Node </a>\n",
    "\n",
    "Delete Node in Linked List: except the tail, given only access to that node."
   ]
  },
  {
   "cell_type": "code",
   "execution_count": 6,
   "metadata": {},
   "outputs": [],
   "source": [
    "def delete_node(node):\n",
    "    print(node.value)\n",
    "    node.value = node.next.value\n",
    "    node.next = node.next.next"
   ]
  },
  {
   "cell_type": "code",
   "execution_count": 7,
   "metadata": {},
   "outputs": [
    {
     "name": "stdout",
     "output_type": "stream",
     "text": [
      "1->2->3->4->\n",
      "2\n",
      "1->3->4->\n"
     ]
    }
   ],
   "source": [
    "lst = LinkedList()\n",
    "lst.add_last(1)\n",
    "lst.add_last(2)\n",
    "lst.add_last(3)\n",
    "lst.add_last(4)\n",
    "print(lst)\n",
    "delete_node(lst.head.next.next)\n",
    "print(lst)\n"
   ]
  },
  {
   "cell_type": "markdown",
   "metadata": {},
   "source": [
    "### <a id='Ex2'>Ex.2 Find the Middle Node</a>"
   ]
  },
  {
   "cell_type": "code",
   "execution_count": 10,
   "metadata": {},
   "outputs": [],
   "source": [
    "def find_middle(lst):\n",
    "    assert lst.head is not None and lst.head.next is not None\n",
    "    \n",
    "    fast = slow = lst.head\n",
    "    \n",
    "    # fast = 2 * slow\n",
    "    while fast is not None and fast.next is not None:\n",
    "        slow = slow.next\n",
    "        fast = fast.next.next\n",
    "    \n",
    "    return slow.value"
   ]
  },
  {
   "cell_type": "code",
   "execution_count": 13,
   "metadata": {},
   "outputs": [
    {
     "name": "stdout",
     "output_type": "stream",
     "text": [
      "1->\n",
      "1\n",
      "1->2->3->4->\n",
      "2\n",
      "1->2->3->4->5->\n",
      "3\n"
     ]
    }
   ],
   "source": [
    "lst = LinkedList()\n",
    "#find_middle(lst)\n",
    "lst.add_last(1)\n",
    "print(lst)\n",
    "print(find_middle(lst))\n",
    "lst.add_last(2)\n",
    "lst.add_last(3)\n",
    "lst.add_last(4)\n",
    "print(lst)\n",
    "print(find_middle(lst))\n",
    "\n",
    "lst.add_last(5)\n",
    "print(lst)\n",
    "print(find_middle(lst))\n"
   ]
  },
  {
   "cell_type": "markdown",
   "metadata": {},
   "source": [
    "### <a id='Ex3'>Ex.3 Has Cycle </a>\n",
    "\n",
    "Determine whether a linked list has cycle"
   ]
  },
  {
   "cell_type": "code",
   "execution_count": 26,
   "metadata": {},
   "outputs": [],
   "source": [
    "def has_cycle(lst):\n",
    "    # 为了创建一个循环链表 测试方便\n",
    "    return has_cycle_helper(lst.head)\n",
    "\n",
    "def has_cycle_helper(head):\n",
    "    if head is not None:\n",
    "        fast = slow = head\n",
    "        while fast is not None and fast.next is not None:\n",
    "            slow = slow.next\n",
    "            fast = fast.next.next\n",
    "            if fast == slow:\n",
    "                return True\n",
    "    return False     "
   ]
  },
  {
   "cell_type": "code",
   "execution_count": 27,
   "metadata": {},
   "outputs": [
    {
     "name": "stdout",
     "output_type": "stream",
     "text": [
      "False\n",
      "False\n",
      "True\n"
     ]
    }
   ],
   "source": [
    "node1 = Node(1)\n",
    "print(has_cycle_helper(node1))\n",
    "node2 = Node(2)\n",
    "node3 = Node(3)\n",
    "node1.next = node2\n",
    "node2.next = node3\n",
    "print(has_cycle_helper(node1))\n",
    "node3.next = node1\n",
    "print(has_cycle_helper(node1))"
   ]
  },
  {
   "cell_type": "markdown",
   "metadata": {},
   "source": [
    "### <a id='Ex4'>Ex.4 Beginning of Loop </a>\n",
    "\n",
    "Given a circular linked list, find the node at the beginning of the loop."
   ]
  },
  {
   "cell_type": "code",
   "execution_count": 28,
   "metadata": {},
   "outputs": [],
   "source": [
    "def find_beginning(head):\n",
    "    if head is None:\n",
    "        return None\n",
    "    \n",
    "    fast = slow = head\n",
    "    \n",
    "    while fast is not None and fast.next is not None:\n",
    "        slow = slow.next\n",
    "        fast = fast.next.next\n",
    "        \n",
    "        #若fast和slow重合，把slow重新放到head\n",
    "        if fast == slow:\n",
    "            slow = head\n",
    "            break\n",
    "            \n",
    "    #退出循环情况1：fast为None        \n",
    "    if fast is None or fast.next is None:\n",
    "        return None\n",
    "    \n",
    "    #退出循环情况2：fast和slow重合\n",
    "    #调整步速，令fast和slow步速相同\n",
    "    while fast != slow:\n",
    "        slow = slow.next\n",
    "        fast = fast.next\n",
    "    \n",
    "    return slow"
   ]
  },
  {
   "cell_type": "code",
   "execution_count": 30,
   "metadata": {},
   "outputs": [
    {
     "name": "stdout",
     "output_type": "stream",
     "text": [
      "1\n",
      "2\n",
      "3\n",
      "2\n"
     ]
    }
   ],
   "source": [
    "node1 = Node(1)\n",
    "node2 = Node(2)\n",
    "node3 = Node(3)\n",
    "node1.next = node2\n",
    "node2.next = node3\n",
    "node3.next = node1\n",
    "print(find_beginning(node1).value)\n",
    "node3.next = node2\n",
    "print(find_beginning(node1).value)\n",
    "node3.next = node3\n",
    "print(find_beginning(node1).value)\n",
    "node4 = Node(4)\n",
    "node3.next = node4\n",
    "node4.next = node2\n",
    "print(find_beginning(node1).value)"
   ]
  },
  {
   "cell_type": "markdown",
   "metadata": {},
   "source": [
    "### <a id='Ex5'>Ex.5 Remove Nth to Last</a>\n",
    "\n",
    "Remove the nth to last element of a singly linked list"
   ]
  },
  {
   "cell_type": "code",
   "execution_count": 33,
   "metadata": {},
   "outputs": [],
   "source": [
    "def remove_nth(lst, n):\n",
    "    assert n<=lst.size and n > 0\n",
    "    \n",
    "    fast = slow = lst.head\n",
    "    \n",
    "    for _ in range(n):\n",
    "        fast = fast.next\n",
    "    \n",
    "    while fast.next is not None:\n",
    "        slow = slow.next\n",
    "        fast = fast.next\n",
    "    \n",
    "    slow.next = slow.next.next\n",
    "    lst.size -= 1\n",
    "    \n",
    "    return lst"
   ]
  },
  {
   "cell_type": "code",
   "execution_count": 34,
   "metadata": {},
   "outputs": [
    {
     "name": "stdout",
     "output_type": "stream",
     "text": [
      "1->3->5->7->9->\n",
      "1->3->7->9->\n"
     ]
    }
   ],
   "source": [
    "lst = LinkedList()\n",
    "lst.add_last(1)\n",
    "lst.add_last(3)\n",
    "lst.add_last(5)\n",
    "lst.add_last(7)\n",
    "lst.add_last(9)\n",
    "print(lst)\n",
    "lst = remove_nth(lst, 3)\n",
    "print(lst)"
   ]
  },
  {
   "cell_type": "markdown",
   "metadata": {},
   "source": [
    "### <a id='Ex6'>Ex.6 Split in Half</a>\n",
    "\n",
    "Give a list, split in into two lists, one for the front half, and one for the back half."
   ]
  },
  {
   "cell_type": "code",
   "execution_count": 49,
   "metadata": {},
   "outputs": [],
   "source": [
    "def split(head):\n",
    "    if (head is None):\n",
    "        return \n",
    "    fast = slow = head\n",
    "    while fast is not None and fast.next is not None:\n",
    "        slow = slow.next\n",
    "        fast = fast.next.next\n",
    "    \n",
    "    back = slow.next\n",
    "    slow.next = None\n",
    "    front = head\n",
    "    \n",
    "    return (front, back)"
   ]
  },
  {
   "cell_type": "code",
   "execution_count": 50,
   "metadata": {},
   "outputs": [
    {
     "name": "stdout",
     "output_type": "stream",
     "text": [
      "1->2->3->\n",
      "4->5->\n"
     ]
    }
   ],
   "source": [
    "node1 = Node(1)\n",
    "node2 = Node(2)\n",
    "node3 = Node(3)\n",
    "node4 = Node(4)\n",
    "node5 = Node(5)\n",
    "node1.next = node2\n",
    "node2.next = node3\n",
    "node3.next = node4\n",
    "node4.next = node5\n",
    "front_node = Node()\n",
    "back_node = Node()\n",
    "\n",
    "front_node, back_node = split(node1)\n",
    "front = LinkedList()\n",
    "front.head.next = front_node\n",
    "print(front)\n",
    "\n",
    "back = LinkedList()\n",
    "back.head.next = back_node\n",
    "print(back)"
   ]
  },
  {
   "cell_type": "markdown",
   "metadata": {},
   "source": [
    "### <a id='summary'>Summary: Runner Technique</a>\n",
    "See anything in common? These questions are ALL used several pointers, sometime, we call them fast and slow; sometime, one pointer goes first. We call this <font color=red>runner techinque</font>, (or two pointers). The idea behind the runner technique is simple; use two pointers that either move at different speeds or are a set distance apart and iterate through a list.\n",
    "\n",
    "Why is this so useful? In many linked list problems you need to know the position of a certain element or the overall length of the list. Given that you don’t always have the length of the list you are working on, the runner technique is an elegant way to solve these type of problems (and in some cases it’s the only solution). "
   ]
  },
  {
   "cell_type": "markdown",
   "metadata": {
    "collapsed": true
   },
   "source": [
    "# Linked List Practice II#"
   ]
  },
  {
   "cell_type": "markdown",
   "metadata": {},
   "source": [
    "<a href='#Ex7'>Ex.7 Merge Two Sorted Lists</a>\n",
    "\n",
    "<a href='#Ex8'>Ex.8 Intersection of Two Linked Lists</a>\n",
    "\n",
    "<a href='#Ex9'>Ex.9 Insertion Sort List</a>\n",
    "\n",
    "<a href='#Ex10'>Ex.10 Sort List</a>\n",
    "\n",
    "<a href='#Ex10'>Ex.11 Partition List</a>"
   ]
  },
  {
   "cell_type": "markdown",
   "metadata": {},
   "source": [
    "### <a id='Ex7'>Ex.7 Merge Two Sorted Lists</a>\n",
    "\n",
    "Merge two sorted linked lists and return it as a new list.\n",
    "\n",
    "Input: 1->2->4, 1->3->4\n",
    "\n",
    "Output: 1->1->2->3->4->4"
   ]
  },
  {
   "cell_type": "code",
   "execution_count": 70,
   "metadata": {},
   "outputs": [],
   "source": [
    "# iteratively\n",
    "# O(m + n)\n",
    "def mergeTwoLists1(l1, l2):\n",
    "    if (l1 and l2) is None:\n",
    "        return l1 or l2\n",
    "    \n",
    "    result = LinkedList()\n",
    "    pointer = result.head\n",
    "    i , j = l1.head.next, l2.head.next\n",
    "    \n",
    "    while i and j is not None:\n",
    "        if i.value <= j.value:\n",
    "            pointer.next = i\n",
    "            i = i.next\n",
    "        else:\n",
    "            pointer.next = j\n",
    "            j = j.next\n",
    "        pointer = pointer.next\n",
    "        \n",
    "#     if i is None:\n",
    "#         while j is not None:\n",
    "#             pointer.next = j\n",
    "#             j = j.next\n",
    "#             pointer = pointer.next\n",
    "            \n",
    "#     if j is None:\n",
    "#         while i is not None:\n",
    "#             pointer.next = j\n",
    "#             j = j.next\n",
    "#             pointer = pointer.next\n",
    "\n",
    "    pointer.next = i or j\n",
    "    \n",
    "    return result"
   ]
  },
  {
   "cell_type": "code",
   "execution_count": 95,
   "metadata": {},
   "outputs": [],
   "source": [
    "# recursively\n",
    "def mergeTwoLists2(l1, l2):\n",
    "    result = LinkedList()\n",
    "    first1, first2 = l1.head.next, l2.head.next\n",
    "    result.head.next = mergeTwoLists2_helper(first1,first2)\n",
    "    return result\n",
    "\n",
    "def mergeTwoLists2_helper(first1,first2):\n",
    "    if not first1 or not first2:\n",
    "        return first1 or first2\n",
    "    if first1.value < first2.value:\n",
    "        first1.next = mergeTwoLists2_helper(first1.next, first2)\n",
    "        return first1\n",
    "    else:\n",
    "        first2.next = mergeTwoLists2_helper(first1, first2.next)\n",
    "        return first2"
   ]
  },
  {
   "cell_type": "code",
   "execution_count": 96,
   "metadata": {},
   "outputs": [
    {
     "name": "stdout",
     "output_type": "stream",
     "text": [
      "1->1->2->3->4->4->\n"
     ]
    }
   ],
   "source": [
    "l1 = LinkedList()\n",
    "l1.add_last(1)\n",
    "l1.add_last(2)\n",
    "l1.add_last(4)\n",
    "l2 = LinkedList()\n",
    "l2.add_last(1)\n",
    "l2.add_last(3)\n",
    "l2.add_last(4)\n",
    "# l1 = None\n",
    "print (mergeTwoLists2(l1, l2))"
   ]
  },
  {
   "cell_type": "markdown",
   "metadata": {},
   "source": [
    "### <a id='Ex8'>Ex.8 Intersection of Two Linked Lists</a>\n",
    "\n",
    "Write a program to find the node at which the intersection of two singly linked lists begins.\n",
    "\n",
    "\n",
    "For example, the following two linked lists:\n",
    "\n",
    "A:          a1 → a2\n",
    "\n",
    "                   ↘\n",
    "                   \n",
    "                     c1 → c2 → c3\n",
    "                     \n",
    "                   ↗    \n",
    "                   \n",
    "B:     b1 → b2 → b3\n",
    "\n",
    "begin to intersect at node c1."
   ]
  },
  {
   "cell_type": "code",
   "execution_count": 98,
   "metadata": {},
   "outputs": [],
   "source": [
    "def getIntersectionNode(headA, headB):#可能参数命名为firstA或firstB比较好\n",
    "    curA, curB = headA, headB\n",
    "    lenA, lenB = 0, 0\n",
    "    # 数两个链表长度\n",
    "    while curA is not None:\n",
    "        curA = curA.next\n",
    "        lenA +=1\n",
    "    while curB is not None:\n",
    "        curB = curB.next\n",
    "        lenB +=1\n",
    "    curA, curB = headA, headB\n",
    "    #补齐差距\n",
    "    if lenA > lenB:\n",
    "        for _ in range(lenA-lenB):\n",
    "            curA = curA.next\n",
    "    elif lenB > lenA:\n",
    "        for _ in range(lenB-lenA):\n",
    "            curB = curB.next\n",
    "    while curA != curB:\n",
    "        curA = curA.next\n",
    "        curB = curB.next\n",
    "    return curA"
   ]
  },
  {
   "cell_type": "code",
   "execution_count": 99,
   "metadata": {},
   "outputs": [],
   "source": [
    "def getIntersectionNode2(firstA, firstB):\n",
    "    if firstA and firstB:\n",
    "        A, B = firstA, firstB\n",
    "        #把两个长度不同的链表拼在了一起，拼接后的链表长度就一样了\n",
    "        while A!=B:\n",
    "            A = A.next if A else headB\n",
    "            B = B.next if B else headA\n",
    "        return A"
   ]
  },
  {
   "cell_type": "markdown",
   "metadata": {},
   "source": [
    "### <a id='Ex9'>Ex.9 Insertion Sort List</a>"
   ]
  },
  {
   "cell_type": "code",
   "execution_count": 102,
   "metadata": {},
   "outputs": [],
   "source": [
    "def insertionSortList(head):\n",
    "    if not head or not head.next:\n",
    "        return head \n",
    "    dummy = Node()\n",
    "    dummy.next = head\n",
    "    pre, next = head, head.next\n",
    "    while next is not None:\n",
    "        if pre.value <= next.value:\n",
    "            pre = pre.next\n",
    "            next = next.next\n",
    "        else:\n",
    "            pre.next = next.next\n",
    "            pre = pre.next\n",
    "            temp = next\n",
    "            next = next.next\n",
    "            comp = dummy\n",
    "            while comp.next is not None and comp.next.value < temp.value:\n",
    "                comp = comp.next\n",
    "            temp.next = comp.next\n",
    "            comp.next = temp\n",
    "    return dummy.next"
   ]
  },
  {
   "cell_type": "code",
   "execution_count": 105,
   "metadata": {},
   "outputs": [],
   "source": [
    "def insertionSortList2(head):\n",
    "    dummy = Node(0)\n",
    "    cur = head\n",
    "    # pre is the sorted part\n",
    "    # when see a new node, start from dummy\n",
    "    # cur is the unsorted part\n",
    "    while cur is not None:\n",
    "        pre = dummy\n",
    "        while pre.next is not None and pre.next.value < cur.value:\n",
    "            pre = pre.next\n",
    "        temp = cur.next\n",
    "        cur.next = pre.next\n",
    "        pre.next = cur\n",
    "        cur = temp\n",
    "    return dummy.next"
   ]
  },
  {
   "cell_type": "code",
   "execution_count": 106,
   "metadata": {},
   "outputs": [
    {
     "name": "stdout",
     "output_type": "stream",
     "text": [
      "-9->1->-13->6->5->\n",
      "-13->-9->1->5->6->\n"
     ]
    }
   ],
   "source": [
    "node1 = Node(-9)\n",
    "node2 = Node(1)\n",
    "node3 = Node(-13)\n",
    "node4 = Node(6)\n",
    "node5 = Node(5)\n",
    "node1.next = node2\n",
    "node2.next = node3\n",
    "node3.next = node4\n",
    "node4.next = node5\n",
    "lst = LinkedList()\n",
    "lst.head.next = node1\n",
    "print(lst)\n",
    "\n",
    "node = insertionSortList2(node1)\n",
    "\n",
    "lst.head.next = node\n",
    "print(lst)"
   ]
  },
  {
   "cell_type": "markdown",
   "metadata": {},
   "source": [
    "### <a id='Ex10'>Ex.10 Sort List</a>\n",
    "\n",
    "Sort a linked list in O(n log n) time using constant space complexity."
   ]
  },
  {
   "cell_type": "code",
   "execution_count": 113,
   "metadata": {},
   "outputs": [],
   "source": [
    "def sortList(head):\n",
    "    if head is None or head.next is None:\n",
    "        return head\n",
    "    mid = get_mid(head)\n",
    "    lhead = head\n",
    "    rhead = mid.next\n",
    "    mid.next = None\n",
    "    return merge(sortList(lhead),sortList(rhead))\n",
    "\n",
    "def merge(lhead, rhead):\n",
    "    #这两行上面sortList（）判断过了 不用再判断一次\n",
    "#    if lhead is None or rhead is None:\n",
    "#         return lhead or rhead\n",
    "    result = dummy= Node()\n",
    "    while lhead and rhead:\n",
    "        if lhead.value <= rhead.value:\n",
    "            dummy.next = lhead\n",
    "            lhead = lhead.next\n",
    "#             dummy = dmmyHead.next\n",
    "        else:\n",
    "            dummy.next = rhead\n",
    "            rhead = rhead.next\n",
    "#             dummy = dummy.next\n",
    "        dummy = dummy.next\n",
    "    if lhead:\n",
    "        dummy.next = lhead\n",
    "    elif rhead:\n",
    "        dummy.next = rhead\n",
    "    return result.next\n",
    "\n",
    "def get_mid(head):\n",
    "    if head is None:\n",
    "        return head\n",
    "    slow, fast = head, head\n",
    "    while fast.next is not None and fast.next.next is not None:\n",
    "        slow = slow.next\n",
    "        fast = fast.next.next\n",
    "    return slow"
   ]
  },
  {
   "cell_type": "code",
   "execution_count": 118,
   "metadata": {},
   "outputs": [
    {
     "name": "stdout",
     "output_type": "stream",
     "text": [
      "9->1->13->6->5->\n",
      "1->5->6->9->13->\n"
     ]
    }
   ],
   "source": [
    "node1 = Node(9)\n",
    "node2 = Node(1)\n",
    "node3 = Node(13)\n",
    "node4 = Node(6)\n",
    "node5 = Node(5)\n",
    "node1.next = node2\n",
    "node2.next = node3\n",
    "node3.next = node4\n",
    "node4.next = node5\n",
    "lst.head.next = node1\n",
    "print(lst)\n",
    "node = sortList(node1)\n",
    "lst.head.next = node\n",
    "print(lst)"
   ]
  },
  {
   "cell_type": "markdown",
   "metadata": {
    "collapsed": true
   },
   "source": [
    "### <a id='Ex11'>Ex.11 Partition List</a>\n",
    "\n",
    "Given a linked list and a value x, partition it such that all nodes less than x come before nodes greater than or equal to x.\n"
   ]
  },
  {
   "cell_type": "code",
   "execution_count": 8,
   "metadata": {},
   "outputs": [],
   "source": [
    "def partition(head, x):\n",
    "    if head is None:\n",
    "        return head\n",
    "    left_head, right_head = Node(), Node()\n",
    "    left, right = left_head, right_head # left和right定位各边尾部Node\n",
    "    while head:\n",
    "        if head.value < x:\n",
    "            left.next = head\n",
    "            left = left.next\n",
    "        else:\n",
    "            right.next = head\n",
    "            right = right.next\n",
    "        head = head.next\n",
    "    # 一定要记得把右边最后设置为None\n",
    "    # 否则无限循环\n",
    "    right.next = None\n",
    "    #左边尾和右边头相连\n",
    "    left.next = right_head.next\n",
    "    return left_head.next"
   ]
  },
  {
   "cell_type": "code",
   "execution_count": 9,
   "metadata": {},
   "outputs": [
    {
     "name": "stdout",
     "output_type": "stream",
     "text": [
      "1->2->2->4->3->5->\n"
     ]
    }
   ],
   "source": [
    "#head = 1->4->3->2->5->2, x = 3\n",
    "node1 = Node(1)\n",
    "node2 = Node(4)\n",
    "node3 = Node(3)\n",
    "node4 = Node(2)\n",
    "node5 = Node(5)\n",
    "node6 = Node(2)\n",
    "node1.next = node2\n",
    "node2.next = node3\n",
    "node3.next = node4\n",
    "node4.next = node5\n",
    "node5.next = node6\n",
    "node = partition(node1, 3)\n",
    "lst = LinkedList()\n",
    "lst.head.next = node\n",
    "print(lst)"
   ]
  },
  {
   "cell_type": "markdown",
   "metadata": {},
   "source": [
    "# Linked List Practice III #"
   ]
  },
  {
   "cell_type": "markdown",
   "metadata": {},
   "source": [
    "In this lecture, you will learn:\n",
    "\n",
    "<a href='#Ex12'>Ex.12 Reverse a Linked List</a>\n",
    "\n",
    "<a href='#Ex13'>Ex.13 Reverse a Linked List II</a>\n",
    "\n",
    "<a href='#Ex14'>Ex.14 Reverse a Linked List III</a>\n",
    "\n",
    "<a href='#Ex15'>Ex.15 Reverse a Linked List IV</a>\n",
    "\n",
    "<a href='#Ex16'>Ex.16 Palindrome Linked List</a>\n",
    "\n",
    "<a href='#Ex17'>Ex.17 Remove Duplicates from Sorted List</a>\n",
    "\n",
    "<a href='#Ex18'>Ex.18 Remove Duplicates from Sorted List II</a>\n",
    "\n"
   ]
  },
  {
   "cell_type": "markdown",
   "metadata": {},
   "source": [
    "### <a id='Ex12'>Ex.12 Reverse a Linked List</a>"
   ]
  },
  {
   "cell_type": "code",
   "execution_count": 15,
   "metadata": {},
   "outputs": [],
   "source": [
    "def reverse(lst):\n",
    "    head = lst.head\n",
    "    result = None\n",
    "    current = head.next\n",
    "    \n",
    "    while current is not None:\n",
    "        nxt = current.next\n",
    "        current.next = result\n",
    "        result = current\n",
    "        current = nxt\n",
    "        \n",
    "    head.next = result"
   ]
  },
  {
   "cell_type": "code",
   "execution_count": 16,
   "metadata": {},
   "outputs": [
    {
     "name": "stdout",
     "output_type": "stream",
     "text": [
      "1->3->5->7->9->\n",
      "9->7->5->3->1->\n"
     ]
    }
   ],
   "source": [
    "lst = LinkedList()\n",
    "lst.add_last(1)\n",
    "lst.add_last(3)\n",
    "lst.add_last(5)\n",
    "lst.add_last(7)\n",
    "lst.add_last(9)\n",
    "print(lst)\n",
    "reverse(lst)\n",
    "print(lst)"
   ]
  },
  {
   "cell_type": "code",
   "execution_count": 15,
   "metadata": {},
   "outputs": [],
   "source": [
    "def reverseRecursion(node):\n",
    "    if (node is None or node.next is None):\n",
    "        return node\n",
    "    p = reverseRecursion(node.next)\n",
    "    node.next.next = node\n",
    "    node.next = None\n",
    "    return p"
   ]
  },
  {
   "cell_type": "code",
   "execution_count": 16,
   "metadata": {},
   "outputs": [
    {
     "name": "stdout",
     "output_type": "stream",
     "text": [
      "1->3->5->7->9->\n",
      "9->7->5->3->1->\n"
     ]
    }
   ],
   "source": [
    "lst = LinkedList()\n",
    "lst.add_last(1)\n",
    "lst.add_last(3)\n",
    "lst.add_last(5)\n",
    "lst.add_last(7)\n",
    "lst.add_last(9)\n",
    "print(lst)\n",
    "lst.head.next = reverseRecursion(lst.head.next)\n",
    "print(lst)"
   ]
  },
  {
   "cell_type": "markdown",
   "metadata": {},
   "source": [
    "### <a id='Ex13'>Ex.13 Reverse a Linked List II</a>\n",
    "\n",
    "Reverse a linked list from position m to n. Do it in-place and in one-pass.\n",
    "\n",
    "For example:\n",
    "\n",
    "Given 1->2->3->4->5->NULL, m = 2 and n = 4,\n",
    "\n",
    "return 1->4->3->2->5->NULL."
   ]
  },
  {
   "cell_type": "code",
   "execution_count": 9,
   "metadata": {},
   "outputs": [],
   "source": [
    "def reverseBetween(head, m, n):\n",
    "    if m >= n or head is None:\n",
    "        return head\n",
    "    \n",
    "    dummyNode = Node() #利用dummyNode，方便处理边界条件\n",
    "    dummyNode.next = head\n",
    "    pre = dummyNode\n",
    "    \n",
    "    for _ in range (m-1):\n",
    "        pre = pre.next\n",
    "        \n",
    "    cur = pre.next\n",
    "    result = None\n",
    "    \n",
    "    for _ in range(n-m+1):\n",
    "        nxt = cur.next\n",
    "        cur.next = result\n",
    "        result = cur\n",
    "        cur = nxt\n",
    "   #cur已经指向没有变化的后一段第一个节点了     \n",
    "    pre.next.next = cur #变化后的链尾接上没有变化的后一段第一个节点\n",
    "    pre.next = result#无变化的前一段链尾接上变化后的链头\n",
    "    \n",
    "    return dummyNode.next"
   ]
  },
  {
   "cell_type": "code",
   "execution_count": 10,
   "metadata": {},
   "outputs": [
    {
     "name": "stdout",
     "output_type": "stream",
     "text": [
      "1->3->5->7->9->\n",
      "1->7->5->3->9->\n",
      "3->5->7->1->9->\n",
      "7->5->3->1->9->\n"
     ]
    }
   ],
   "source": [
    "lst = LinkedList()\n",
    "lst.add_last(1)\n",
    "lst.add_last(3)\n",
    "lst.add_last(5)\n",
    "lst.add_last(7)\n",
    "lst.add_last(9)\n",
    "print(lst)\n",
    "lst.head.next = reverseBetween(lst.head.next, 2, 4)\n",
    "print(lst)\n",
    "lst.head.next = reverseBetween(lst.head.next, 1, 4)\n",
    "print(lst)\n",
    "lst.head.next = reverseBetween(lst.head.next, 1, 3)\n",
    "print(lst)"
   ]
  },
  {
   "cell_type": "markdown",
   "metadata": {},
   "source": [
    "### <a id='Ex14'>Ex.14 Reverse a Linked List III</a>\n",
    "Swap Nodes in Pairs\n",
    "\n",
    "Given a linked list, swap every two adjacent nodes and return its head.\n",
    "\n",
    "For example,\n",
    "\n",
    "Given 1->2->3->4, you should return the list as 2->1->4->3.\n",
    "\n",
    "Your algorithm should use only constant space. You may not modify the values in the list, only nodes itself can be changed."
   ]
  },
  {
   "cell_type": "code",
   "execution_count": 13,
   "metadata": {},
   "outputs": [],
   "source": [
    "def swapPairs(head):\n",
    "    dummy = cur = Node() #cur是要记录下来连接p2的\n",
    "    dummy.next = head\n",
    "\n",
    "    while cur.next and cur.next.next:\n",
    "        p1 = cur.next\n",
    "        p2 = cur.next.next\n",
    "        cur.next = p2 #连接p2\n",
    "        p1.next = p2.next\n",
    "        p2.next = p1\n",
    "        cur = cur.next.next\n",
    "    return dummy.next"
   ]
  },
  {
   "cell_type": "code",
   "execution_count": 14,
   "metadata": {},
   "outputs": [
    {
     "name": "stdout",
     "output_type": "stream",
     "text": [
      "1->2->3->4->\n",
      "2->1->4->3->\n",
      "1->2->3->4->\n"
     ]
    }
   ],
   "source": [
    "lst = LinkedList()\n",
    "lst.add_last(1)\n",
    "lst.add_last(2)\n",
    "lst.add_last(3)\n",
    "lst.add_last(4)\n",
    "print(lst)\n",
    "lst.head.next = swapPairs(lst.head.next)\n",
    "print(lst)\n",
    "lst.head.next = swapPairs(lst.head.next)\n",
    "print(lst)"
   ]
  },
  {
   "cell_type": "markdown",
   "metadata": {},
   "source": [
    "### <a id='Ex15'>Ex.15 Reverse a Linked List IV</a>"
   ]
  },
  {
   "cell_type": "markdown",
   "metadata": {},
   "source": [
    "Reverse Nodes in k-Group\n",
    "\n",
    "Given a linked list, reverse the nodes of a linked list k at a time and return its modified list.\n",
    "\n",
    "k is a positive integer and is less than or equal to the length of the linked list. If the number of nodes is not a multiple of k then left-out nodes in the end should remain as it is.\n",
    "\n",
    "You may not alter the values in the nodes, only nodes itself may be changed.\n",
    "\n",
    "Only constant memory is allowed.\n",
    "\n",
    "For example,\n",
    "\n",
    "Given this linked list: 1->2->3->4->5\n",
    "\n",
    "For k = 2, you should return: 2->1->4->3->5\n",
    "\n",
    "For k = 3, you should return: 3->2->1->4->5"
   ]
  },
  {
   "cell_type": "code",
   "execution_count": 23,
   "metadata": {},
   "outputs": [],
   "source": [
    "def reverseKGroup(head,k):\n",
    "    if head is None or k<2:\n",
    "        return head\n",
    "    \n",
    "    next_head = head\n",
    "    for _ in range(k-1):# 先遍历找到第一组反转后的头结点\n",
    "        next_head = next_head.next\n",
    "        if next_head is None:\n",
    "            return head\n",
    "    result = next_head #变换后整个链表的第一个节点肯定是反转第一组的头\n",
    "    \n",
    "    cur = head\n",
    "    while next_head:#找不到下一个组头的时候停止循环\n",
    "        temp = None\n",
    "        tail = cur#\n",
    "        for _ in range(k):\n",
    "            if next_head:\n",
    "                next_head = next_head.next #利用这次遍历，找到下一个组头\n",
    "            nxt = cur.next\n",
    "            cur.next = temp\n",
    "            temp = cur\n",
    "            cur = nxt\n",
    "        tail.next =next_head or cur #如果有下一个组头\n",
    "        \n",
    "    return result"
   ]
  },
  {
   "cell_type": "code",
   "execution_count": 24,
   "metadata": {},
   "outputs": [
    {
     "name": "stdout",
     "output_type": "stream",
     "text": [
      "1->3->5->7->9->\n",
      "3->1->7->5->9->\n",
      "7->1->3->5->9->\n",
      "5->3->1->7->9->\n",
      "9->7->1->3->5->\n",
      "9->7->1->3->5->\n"
     ]
    }
   ],
   "source": [
    "lst = LinkedList()\n",
    "lst.add_last(1)\n",
    "lst.add_last(3)\n",
    "lst.add_last(5)\n",
    "lst.add_last(7)\n",
    "lst.add_last(9)\n",
    "print(lst)\n",
    "lst.head.next = reverseKGroup(lst.head.next, 2)\n",
    "print(lst)\n",
    "lst.head.next = reverseKGroup(lst.head.next, 3)\n",
    "print(lst)\n",
    "lst.head.next = reverseKGroup(lst.head.next, 4)\n",
    "print(lst)\n",
    "lst.head.next = reverseKGroup(lst.head.next, 5)\n",
    "print(lst)\n",
    "lst.head.next = reverseKGroup(lst.head.next, 7)\n",
    "print(lst)"
   ]
  },
  {
   "cell_type": "markdown",
   "metadata": {},
   "source": [
    "### <a id='Ex16'>Ex.16 Palindrome Linked List</a>\n",
    "\n",
    "Given a singly linked list, determine if it is a palindrome.\n",
    "\n",
    "Could you do it in O(n) time and O(1) space?"
   ]
  },
  {
   "cell_type": "code",
   "execution_count": null,
   "metadata": {},
   "outputs": [],
   "source": []
  },
  {
   "cell_type": "markdown",
   "metadata": {},
   "source": [
    "### <a id='Ex17'>Ex.17 Remove Duplicates from Sorted List</a>\n",
    "\n",
    "Given a sorted linked list, delete all duplicates such that each element appear only once.\n",
    "\n",
    "For example,\n",
    "\n",
    "Given 1->1->2, return 1->2.\n",
    "\n",
    "Given 1->1->2->3->3, return 1->2->3."
   ]
  },
  {
   "cell_type": "code",
   "execution_count": null,
   "metadata": {},
   "outputs": [],
   "source": []
  },
  {
   "cell_type": "markdown",
   "metadata": {},
   "source": [
    "### <a id='Ex18'>Ex.18 Remove Duplicates from Sorted List II</a>\n",
    "\n",
    "Given a sorted linked list, delete all nodes that have duplicate numbers, leaving only distinct numbers from the original list.\n",
    "\n",
    "For example,\n",
    "\n",
    "Given 1->2->3->3->4->4->5, return 1->2->5.\n",
    "\n",
    "Given 1->1->1->2->3, return 2->3."
   ]
  },
  {
   "cell_type": "code",
   "execution_count": null,
   "metadata": {},
   "outputs": [],
   "source": []
  }
 ],
 "metadata": {
  "kernelspec": {
   "display_name": "Python 3",
   "language": "python",
   "name": "python3"
  },
  "language_info": {
   "codemirror_mode": {
    "name": "ipython",
    "version": 3
   },
   "file_extension": ".py",
   "mimetype": "text/x-python",
   "name": "python",
   "nbconvert_exporter": "python",
   "pygments_lexer": "ipython3",
   "version": "3.7.3"
  }
 },
 "nbformat": 4,
 "nbformat_minor": 2
}
