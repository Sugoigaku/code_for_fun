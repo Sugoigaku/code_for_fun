{
 "cells": [
  {
   "cell_type": "markdown",
   "metadata": {},
   "source": [
    "# Linked List #"
   ]
  },
  {
   "cell_type": "code",
   "execution_count": 47,
   "metadata": {},
   "outputs": [],
   "source": [
    "class Node():\n",
    "    def __init__(self, value = None, next = None):\n",
    "        self.value = value\n",
    "        self.next = next\n",
    "        \n",
    "    def __repr__(self):\n",
    "        return \"Node(value={})\".format(self.value)\n",
    "\n",
    "class LinkedList():\n",
    "    def __init__(self):\n",
    "        self.head = Node()\n",
    "        self.size = 0\n",
    "        \n",
    "    def __str__(self):\n",
    "        if self.head.next is None:\n",
    "            return \"链表为空\"\n",
    "        result = \"\"\n",
    "        temp_pointer = self.head.next\n",
    "        while temp_pointer != None:\n",
    "            result += \"{}->\".format(temp_pointer.value)\n",
    "            temp_pointer = temp_pointer.next\n",
    "        return result\n",
    "        \n",
    "    def add_first(self, value):\n",
    "        new_node = Node(value)\n",
    "        new_node.next = self.head.next\n",
    "        self.head.next = new_node\n",
    "        self.size += 1\n",
    "        \n",
    "    def add_last(self, value):\n",
    "        temp_pointer = self.head\n",
    "        new_node = Node(value)\n",
    "        while temp_pointer.next != None:\n",
    "            temp_pointer = temp_pointer.next\n",
    "        temp_pointer.next = new_node\n",
    "        self.size += 1\n",
    "        \n",
    "    def add(self, index, value):\n",
    "        if self.size == 0 or index == 1:\n",
    "            self.add_first(value)\n",
    "        else:\n",
    "            temp_pointer = self.get(index-1)\n",
    "            new_node = Node(value)\n",
    "            new_node.next = temp_pointer.next\n",
    "            temp_pointer.next = new_node\n",
    "        self.size += 1\n",
    "        \n",
    "    def remove_first(self):\n",
    "        if self.size == 0:\n",
    "            return '链表为空'\n",
    "        self.head.next = self.head.next.next\n",
    "        self.size -= 1\n",
    "        \n",
    "    def remove_last(self):\n",
    "        if self.size <= 1:\n",
    "            self.remove_first()\n",
    "        else:\n",
    "            #找到倒数第二个\n",
    "            temp_pointer = self.get(self.size-1)\n",
    "            temp_pointer.next = None\n",
    "            self.size -= 1\n",
    "        \n",
    "    def remove(self, index):\n",
    "        if self.size == 0 or index ==1:\n",
    "            self.remove_first()\n",
    "        else:\n",
    "            temp_pointer = self.get(index-1)\n",
    "            temp_pointer.next = temp_pointer.next.next\n",
    "            \n",
    "    def get(self, index):\n",
    "        if index < 1 or index > self.size:\n",
    "            raise ValueError(\"index超出范围！\")\n",
    "        temp_pointer = self.head\n",
    "        for _ in range(index):\n",
    "            temp_pointer = temp_pointer.next\n",
    "        return temp_pointer"
   ]
  },
  {
   "cell_type": "markdown",
   "metadata": {
    "collapsed": true
   },
   "source": [
    "# Linked List Practice I#"
   ]
  },
  {
   "cell_type": "markdown",
   "metadata": {},
   "source": [
    "<a href='#Ex1'>Ex.1 Delete Node</a>\n",
    "\n",
    "<a href='#Ex2'>Ex.2 Find the Middle Node</a>\n",
    "\n",
    "<a href='#Ex3'>Ex.3 Has Cycle</a>\n",
    "\n",
    "<a href='#Ex4'>Ex.4 Beginning of Loop</a>\n",
    "\n",
    "<a href='#Ex5'>Ex.5 Remove Nth to Last</a>\n",
    "\n",
    "<a href='#Ex6'>Ex.6 Split in Half</a>"
   ]
  },
  {
   "cell_type": "code",
   "execution_count": null,
   "metadata": {
    "collapsed": true
   },
   "outputs": [],
   "source": []
  },
  {
   "cell_type": "markdown",
   "metadata": {
    "collapsed": true
   },
   "source": [
    "### <a id='Ex1'>Ex.1 Delete Node </a>\n",
    "\n",
    "Delete Node in Linked List: except the tail, given only access to that node."
   ]
  },
  {
   "cell_type": "code",
   "execution_count": 6,
   "metadata": {},
   "outputs": [],
   "source": [
    "def delete_node(node):\n",
    "    print(node.value)\n",
    "    node.value = node.next.value\n",
    "    node.next = node.next.next"
   ]
  },
  {
   "cell_type": "code",
   "execution_count": 7,
   "metadata": {},
   "outputs": [
    {
     "name": "stdout",
     "output_type": "stream",
     "text": [
      "1->2->3->4->\n",
      "2\n",
      "1->3->4->\n"
     ]
    }
   ],
   "source": [
    "lst = LinkedList()\n",
    "lst.add_last(1)\n",
    "lst.add_last(2)\n",
    "lst.add_last(3)\n",
    "lst.add_last(4)\n",
    "print(lst)\n",
    "delete_node(lst.head.next.next)\n",
    "print(lst)\n"
   ]
  },
  {
   "cell_type": "markdown",
   "metadata": {},
   "source": [
    "### <a id='Ex2'>Ex.2 Find the Middle Node</a>"
   ]
  },
  {
   "cell_type": "code",
   "execution_count": 10,
   "metadata": {},
   "outputs": [],
   "source": [
    "def find_middle(lst):\n",
    "    assert lst.head is not None and lst.head.next is not None\n",
    "    \n",
    "    fast = slow = lst.head\n",
    "    \n",
    "    # fast = 2 * slow\n",
    "    while fast is not None and fast.next is not None:\n",
    "        slow = slow.next\n",
    "        fast = fast.next.next\n",
    "    \n",
    "    return slow.value"
   ]
  },
  {
   "cell_type": "code",
   "execution_count": 13,
   "metadata": {},
   "outputs": [
    {
     "name": "stdout",
     "output_type": "stream",
     "text": [
      "1->\n",
      "1\n",
      "1->2->3->4->\n",
      "2\n",
      "1->2->3->4->5->\n",
      "3\n"
     ]
    }
   ],
   "source": [
    "lst = LinkedList()\n",
    "#find_middle(lst)\n",
    "lst.add_last(1)\n",
    "print(lst)\n",
    "print(find_middle(lst))\n",
    "lst.add_last(2)\n",
    "lst.add_last(3)\n",
    "lst.add_last(4)\n",
    "print(lst)\n",
    "print(find_middle(lst))\n",
    "\n",
    "lst.add_last(5)\n",
    "print(lst)\n",
    "print(find_middle(lst))\n"
   ]
  },
  {
   "cell_type": "markdown",
   "metadata": {},
   "source": [
    "### <a id='Ex3'>Ex.3 Has Cycle </a>\n",
    "\n",
    "Determine whether a linked list has cycle"
   ]
  },
  {
   "cell_type": "code",
   "execution_count": 26,
   "metadata": {},
   "outputs": [],
   "source": [
    "def has_cycle(lst):\n",
    "    # 为了创建一个循环链表 测试方便\n",
    "    return has_cycle_helper(lst.head)\n",
    "\n",
    "def has_cycle_helper(head):\n",
    "    if head is not None:\n",
    "        fast = slow = head\n",
    "        while fast is not None and fast.next is not None:\n",
    "            slow = slow.next\n",
    "            fast = fast.next.next\n",
    "            if fast == slow:\n",
    "                return True\n",
    "    return False     "
   ]
  },
  {
   "cell_type": "code",
   "execution_count": 27,
   "metadata": {},
   "outputs": [
    {
     "name": "stdout",
     "output_type": "stream",
     "text": [
      "False\n",
      "False\n",
      "True\n"
     ]
    }
   ],
   "source": [
    "node1 = Node(1)\n",
    "print(has_cycle_helper(node1))\n",
    "node2 = Node(2)\n",
    "node3 = Node(3)\n",
    "node1.next = node2\n",
    "node2.next = node3\n",
    "print(has_cycle_helper(node1))\n",
    "node3.next = node1\n",
    "print(has_cycle_helper(node1))"
   ]
  },
  {
   "cell_type": "markdown",
   "metadata": {},
   "source": [
    "### <a id='Ex4'>Ex.4 Beginning of Loop </a>\n",
    "\n",
    "Given a circular linked list, find the node at the beginning of the loop."
   ]
  },
  {
   "cell_type": "code",
   "execution_count": 28,
   "metadata": {},
   "outputs": [],
   "source": [
    "def find_beginning(head):\n",
    "    if head is None:\n",
    "        return None\n",
    "    \n",
    "    fast = slow = head\n",
    "    \n",
    "    while fast is not None and fast.next is not None:\n",
    "        slow = slow.next\n",
    "        fast = fast.next.next\n",
    "        \n",
    "        #若fast和slow重合，把slow重新放到head\n",
    "        if fast == slow:\n",
    "            slow = head\n",
    "            break\n",
    "            \n",
    "    #退出循环情况1：fast为None        \n",
    "    if fast is None or fast.next is None:\n",
    "        return None\n",
    "    \n",
    "    #退出循环情况2：fast和slow重合\n",
    "    #调整步速，令fast和slow步速相同\n",
    "    while fast != slow:\n",
    "        slow = slow.next\n",
    "        fast = fast.next\n",
    "    \n",
    "    return slow"
   ]
  },
  {
   "cell_type": "code",
   "execution_count": 30,
   "metadata": {},
   "outputs": [
    {
     "name": "stdout",
     "output_type": "stream",
     "text": [
      "1\n",
      "2\n",
      "3\n",
      "2\n"
     ]
    }
   ],
   "source": [
    "node1 = Node(1)\n",
    "node2 = Node(2)\n",
    "node3 = Node(3)\n",
    "node1.next = node2\n",
    "node2.next = node3\n",
    "node3.next = node1\n",
    "print(find_beginning(node1).value)\n",
    "node3.next = node2\n",
    "print(find_beginning(node1).value)\n",
    "node3.next = node3\n",
    "print(find_beginning(node1).value)\n",
    "node4 = Node(4)\n",
    "node3.next = node4\n",
    "node4.next = node2\n",
    "print(find_beginning(node1).value)"
   ]
  },
  {
   "cell_type": "markdown",
   "metadata": {},
   "source": [
    "### <a id='Ex5'>Ex.5 Remove Nth to Last</a>\n",
    "\n",
    "Remove the nth to last element of a singly linked list"
   ]
  },
  {
   "cell_type": "code",
   "execution_count": 33,
   "metadata": {},
   "outputs": [],
   "source": [
    "def remove_nth(lst, n):\n",
    "    assert n<=lst.size and n > 0\n",
    "    \n",
    "    fast = slow = lst.head\n",
    "    \n",
    "    for _ in range(n):\n",
    "        fast = fast.next\n",
    "    \n",
    "    while fast.next is not None:\n",
    "        slow = slow.next\n",
    "        fast = fast.next\n",
    "    \n",
    "    slow.next = slow.next.next\n",
    "    lst.size -= 1\n",
    "    \n",
    "    return lst"
   ]
  },
  {
   "cell_type": "code",
   "execution_count": 34,
   "metadata": {},
   "outputs": [
    {
     "name": "stdout",
     "output_type": "stream",
     "text": [
      "1->3->5->7->9->\n",
      "1->3->7->9->\n"
     ]
    }
   ],
   "source": [
    "lst = LinkedList()\n",
    "lst.add_last(1)\n",
    "lst.add_last(3)\n",
    "lst.add_last(5)\n",
    "lst.add_last(7)\n",
    "lst.add_last(9)\n",
    "print(lst)\n",
    "lst = remove_nth(lst, 3)\n",
    "print(lst)"
   ]
  },
  {
   "cell_type": "markdown",
   "metadata": {},
   "source": [
    "### <a id='Ex6'>Ex.6 Split in Half</a>\n",
    "\n",
    "Give a list, split in into two lists, one for the front half, and one for the back half."
   ]
  },
  {
   "cell_type": "code",
   "execution_count": 49,
   "metadata": {},
   "outputs": [],
   "source": [
    "def split(head):\n",
    "    if (head is None):\n",
    "        return \n",
    "    fast = slow = head\n",
    "    while fast is not None and fast.next is not None:\n",
    "        slow = slow.next\n",
    "        fast = fast.next.next\n",
    "    \n",
    "    back = slow.next\n",
    "    slow.next = None\n",
    "    front = head\n",
    "    \n",
    "    return (front, back)"
   ]
  },
  {
   "cell_type": "code",
   "execution_count": 50,
   "metadata": {},
   "outputs": [
    {
     "name": "stdout",
     "output_type": "stream",
     "text": [
      "1->2->3->\n",
      "4->5->\n"
     ]
    }
   ],
   "source": [
    "node1 = Node(1)\n",
    "node2 = Node(2)\n",
    "node3 = Node(3)\n",
    "node4 = Node(4)\n",
    "node5 = Node(5)\n",
    "node1.next = node2\n",
    "node2.next = node3\n",
    "node3.next = node4\n",
    "node4.next = node5\n",
    "front_node = Node()\n",
    "back_node = Node()\n",
    "\n",
    "front_node, back_node = split(node1)\n",
    "front = LinkedList()\n",
    "front.head.next = front_node\n",
    "print(front)\n",
    "\n",
    "back = LinkedList()\n",
    "back.head.next = back_node\n",
    "print(back)"
   ]
  },
  {
   "cell_type": "markdown",
   "metadata": {},
   "source": [
    "### <a id='summary'>Summary: Runner Technique</a>\n",
    "See anything in common? These questions are ALL used several pointers, sometime, we call them fast and slow; sometime, one pointer goes first. We call this <font color=red>runner techinque</font>, (or two pointers). The idea behind the runner technique is simple; use two pointers that either move at different speeds or are a set distance apart and iterate through a list.\n",
    "\n",
    "Why is this so useful? In many linked list problems you need to know the position of a certain element or the overall length of the list. Given that you don’t always have the length of the list you are working on, the runner technique is an elegant way to solve these type of problems (and in some cases it’s the only solution). "
   ]
  },
  {
   "cell_type": "markdown",
   "metadata": {
    "collapsed": true
   },
   "source": [
    "# Linked List Practice II#"
   ]
  },
  {
   "cell_type": "markdown",
   "metadata": {},
   "source": [
    "<a href='#Ex7'>Ex.7 Merge Two Sorted Lists</a>\n",
    "\n",
    "<a href='#Ex8'>Ex.8 Intersection of Two Linked Lists</a>\n",
    "\n",
    "<a href='#Ex9'>Ex.9 Insertion Sort List</a>\n",
    "\n",
    "<a href='#Ex10'>Ex.10 Sort List</a>\n",
    "\n",
    "<a href='#Ex10'>Ex.11 Partition List</a>"
   ]
  },
  {
   "cell_type": "markdown",
   "metadata": {},
   "source": [
    "### <a id='Ex7'>Ex.7 Merge Two Sorted Lists</a>\n",
    "\n",
    "Merge two sorted linked lists and return it as a new list.\n",
    "\n",
    "Input: 1->2->4, 1->3->4\n",
    "\n",
    "Output: 1->1->2->3->4->4"
   ]
  },
  {
   "cell_type": "markdown",
   "metadata": {},
   "source": [
    "### <a id='Ex8'>Ex.8 Intersection of Two Linked Lists</a>\n",
    "\n",
    "Write a program to find the node at which the intersection of two singly linked lists begins.\n",
    "\n",
    "\n",
    "For example, the following two linked lists:\n",
    "\n",
    "A:          a1 → a2\n",
    "\n",
    "                   ↘\n",
    "                   \n",
    "                     c1 → c2 → c3\n",
    "                     \n",
    "                   ↗    \n",
    "                   \n",
    "B:     b1 → b2 → b3\n",
    "\n",
    "begin to intersect at node c1."
   ]
  },
  {
   "cell_type": "markdown",
   "metadata": {},
   "source": [
    "### <a id='Ex9'>Ex.9 Insertion Sort List</a>"
   ]
  },
  {
   "cell_type": "markdown",
   "metadata": {},
   "source": [
    "### <a id='Ex10'>Ex.10 Sort List</a>\n",
    "\n",
    "Sort a linked list in O(n log n) time using constant space complexity."
   ]
  },
  {
   "cell_type": "markdown",
   "metadata": {
    "collapsed": true
   },
   "source": [
    "### <a id='Ex11'>Ex.11 Partition List</a>\n",
    "\n",
    "Given a linked list and a value x, partition it such that all nodes less than x come before nodes greater than or equal to x.\n"
   ]
  },
  {
   "cell_type": "markdown",
   "metadata": {},
   "source": [
    "# Linked List Practice III #"
   ]
  },
  {
   "cell_type": "markdown",
   "metadata": {},
   "source": [
    "In this lecture, you will learn:\n",
    "\n",
    "<a href='#Ex12'>Ex.12 Reverse a Linked List</a>\n",
    "\n",
    "<a href='#Ex13'>Ex.13 Reverse a Linked List II</a>\n",
    "\n",
    "<a href='#Ex14'>Ex.14 Reverse a Linked List III</a>\n",
    "\n",
    "<a href='#Ex15'>Ex.15 Reverse a Linked List IV</a>\n",
    "\n",
    "<a href='#Ex16'>Ex.16 Palindrome Linked List</a>\n",
    "\n",
    "<a href='#Ex17'>Ex.17 Remove Duplicates from Sorted List</a>\n",
    "\n",
    "<a href='#Ex18'>Ex.18 Remove Duplicates from Sorted List II</a>\n",
    "\n"
   ]
  },
  {
   "cell_type": "markdown",
   "metadata": {},
   "source": [
    "### <a id='Ex12'>Ex.12 Reverse a Linked List</a>"
   ]
  },
  {
   "cell_type": "markdown",
   "metadata": {},
   "source": [
    "### <a id='Ex13'>Ex.13 Reverse a Linked List II</a>\n",
    "\n",
    "Reverse a linked list from position m to n. Do it in-place and in one-pass.\n",
    "\n",
    "For example:\n",
    "\n",
    "Given 1->2->3->4->5->NULL, m = 2 and n = 4,\n",
    "\n",
    "return 1->4->3->2->5->NULL."
   ]
  },
  {
   "cell_type": "markdown",
   "metadata": {},
   "source": [
    "### <a id='Ex14'>Ex.14 Reverse a Linked List III</a>\n",
    "Swap Nodes in Pairs\n",
    "\n",
    "Given a linked list, swap every two adjacent nodes and return its head.\n",
    "\n",
    "For example,\n",
    "\n",
    "Given 1->2->3->4, you should return the list as 2->1->4->3.\n",
    "\n",
    "Your algorithm should use only constant space. You may not modify the values in the list, only nodes itself can be changed."
   ]
  },
  {
   "cell_type": "markdown",
   "metadata": {},
   "source": [
    "### <a id='Ex15'>Ex.15 Reverse a Linked List IV</a>"
   ]
  },
  {
   "cell_type": "markdown",
   "metadata": {},
   "source": [
    "Reverse Nodes in k-Group\n",
    "\n",
    "Given a linked list, reverse the nodes of a linked list k at a time and return its modified list.\n",
    "\n",
    "k is a positive integer and is less than or equal to the length of the linked list. If the number of nodes is not a multiple of k then left-out nodes in the end should remain as it is.\n",
    "\n",
    "You may not alter the values in the nodes, only nodes itself may be changed.\n",
    "\n",
    "Only constant memory is allowed.\n",
    "\n",
    "For example,\n",
    "\n",
    "Given this linked list: 1->2->3->4->5\n",
    "\n",
    "For k = 2, you should return: 2->1->4->3->5\n",
    "\n",
    "For k = 3, you should return: 3->2->1->4->5"
   ]
  },
  {
   "cell_type": "markdown",
   "metadata": {},
   "source": [
    "### <a id='Ex16'>Ex.16 Palindrome Linked List</a>\n",
    "\n",
    "Given a singly linked list, determine if it is a palindrome.\n",
    "\n",
    "Could you do it in O(n) time and O(1) space?"
   ]
  },
  {
   "cell_type": "markdown",
   "metadata": {},
   "source": [
    "### <a id='Ex17'>Ex.17 Remove Duplicates from Sorted List</a>\n",
    "\n",
    "Given a sorted linked list, delete all duplicates such that each element appear only once.\n",
    "\n",
    "For example,\n",
    "\n",
    "Given 1->1->2, return 1->2.\n",
    "\n",
    "Given 1->1->2->3->3, return 1->2->3."
   ]
  },
  {
   "cell_type": "markdown",
   "metadata": {},
   "source": [
    "### <a id='Ex18'>Ex.18 Remove Duplicates from Sorted List II</a>\n",
    "\n",
    "Given a sorted linked list, delete all nodes that have duplicate numbers, leaving only distinct numbers from the original list.\n",
    "\n",
    "For example,\n",
    "\n",
    "Given 1->2->3->3->4->4->5, return 1->2->5.\n",
    "\n",
    "Given 1->1->1->2->3, return 2->3."
   ]
  },
  {
   "cell_type": "code",
   "execution_count": null,
   "metadata": {},
   "outputs": [],
   "source": []
  }
 ],
 "metadata": {
  "kernelspec": {
   "display_name": "Python 3",
   "language": "python",
   "name": "python3"
  },
  "language_info": {
   "codemirror_mode": {
    "name": "ipython",
    "version": 3
   },
   "file_extension": ".py",
   "mimetype": "text/x-python",
   "name": "python",
   "nbconvert_exporter": "python",
   "pygments_lexer": "ipython3",
   "version": "3.7.0"
  }
 },
 "nbformat": 4,
 "nbformat_minor": 2
}
