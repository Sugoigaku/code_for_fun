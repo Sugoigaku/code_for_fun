{
 "cells": [
  {
   "cell_type": "markdown",
   "metadata": {},
   "source": [
    "# Graph I - AdjMatrixGraph#\n",
    "\n",
    "<img src=\"./images/ch17/matrixrepr.png\" width=\"640\"/>"
   ]
  },
  {
   "cell_type": "code",
   "execution_count": 1,
   "metadata": {},
   "outputs": [],
   "source": [
    "class Vertex:\n",
    "    def __init__(self, node):\n",
    "        self.id = node\n",
    "        self.visited = False\n",
    "        \n",
    "    def addNeighbor(self, neighbor, G):\n",
    "        G.addEdge(self.id, neighbor)\n",
    "        \n",
    "    def getConnections(self, G):\n",
    "        return G.adjMatrix[self.id]\n",
    "        \n",
    "    def getVertexID(self):\n",
    "        return self.id\n",
    "    \n",
    "    def setVertexID(self, id):\n",
    "        self.id = id\n",
    "\n",
    "    def setVisited(self):\n",
    "        self.visited = True\n",
    "        \n",
    "    def __str__(self):\n",
    "        return str(self.id)\n",
    "\n",
    "class Graph:\n",
    "    def __init__(self, numVertices=10, directed=False):\n",
    "        self.adjMatrix = [[None] * numVertices for _ in range(numVertices)]\n",
    "        self.numVertices = numVertices\n",
    "        self.directed = directed\n",
    "        self.vertices = [] # list->dic {id:vertex}\n",
    "        for i in range(numVertices):\n",
    "            newVertex = Vertex(i)\n",
    "            self.vertices.append(newVertex)\n",
    "        \n",
    "    def addVertex(self, vtx, id):\n",
    "        if 0 <= vtx < self.numVertices:\n",
    "            self.vertices[vtx].setVertexID(id)\n",
    "      \n",
    "    def getVertex(self, n):\n",
    "        for ver_index in range(self.numVertices):\n",
    "            if self.vertices[ver_index].getVertexID() == n:\n",
    "                return ver_index\n",
    "        return None\n",
    "\n",
    "    def addEdge(self, frm, to, cost=0): \n",
    "        if self.getVertex(frm) is not None and self.getVertex(to) is not None:\n",
    "            self.adjMatrix[self.getVertex(frm)][self.getVertex(to)] = cost\n",
    "            if not self.directed:\n",
    "                # For directed graph do not add this\n",
    "                self.adjMatrix[self.getVertex(to)][self.getVertex(frm)] = cost\n",
    "\n",
    "    def getVertices(self):\n",
    "        # *** create a copy, and return a copy ***\n",
    "        vertices = []\n",
    "        for v in self.vertices:\n",
    "            vertices.append(v.getVertexID())\n",
    "        return vertices\n",
    "    \n",
    "    def printMatrix(self):\n",
    "        for i in range(self.numVertices):\n",
    "            row = []\n",
    "            for j in range(self.numVertices):\n",
    "                row.append(str(self.adjMatrix[i][j]) if self.adjMatrix[i][j] is not None else '/')\n",
    "            print(row)\n",
    "        \n",
    "    def getEdges(self):\n",
    "        edges = []\n",
    "        for i in range(self.numVertices):\n",
    "            for j in range(self.numVertices):\n",
    "                if self.adjMatrix[i][j] is not None:\n",
    "                    frm_id = self.vertices[i].getVertexID()\n",
    "                    to_id = self.vertices[j].getVertexID()\n",
    "                    edges.append((frm_id,to_id,self.adjMatrix[i][j]))\n",
    "        return edges\n",
    "        \n",
    "    def getNeighbors(self, n):\n",
    "        neighbors = []\n",
    "        for ver_index in range(self.numVertices):\n",
    "            if n == self.vertices[ver_index].getVertexID():\n",
    "                for neighbor in range(self.numVertices):\n",
    "                    if self.adjMatrix[ver_index][neighbor] is not None:\n",
    "                        neighbors.append(self.vertices[neighbor].getVertexID())\n",
    "        return neighbors\n",
    "                \n",
    "    def isConnected(self, u, v):\n",
    "        uidx = self.getVertex(u) \n",
    "        vidx = self.getVertex(v)\n",
    "        return self.adjMatrix[uidx][vidx] is not None\n",
    "    \n",
    "    def get2Hops(self, u):\n",
    "        neighbors = self.getNeighbors(u)\n",
    "        hopset = set()\n",
    "        for v in neighbors:\n",
    "            hops = self.getNeighbors(v)\n",
    "            hopset |= set(hops)\n",
    "        return list(hopset)"
   ]
  },
  {
   "cell_type": "code",
   "execution_count": 2,
   "metadata": {},
   "outputs": [
    {
     "name": "stdout",
     "output_type": "stream",
     "text": [
      "['a', 'b', 'c', 'd', 'e', 'f']\n",
      "['/', '1', '2', '/', '/', '/']\n",
      "['/', '/', '/', '3', '4', '/']\n",
      "['/', '/', '/', '5', '6', '/']\n",
      "['/', '/', '/', '/', '7', '/']\n",
      "['8', '/', '/', '/', '/', '/']\n",
      "['/', '/', '/', '/', '/', '/']\n",
      "None\n",
      "[('a', 'b', 1), ('a', 'c', 2), ('b', 'd', 3), ('b', 'e', 4), ('c', 'd', 5), ('c', 'e', 6), ('d', 'e', 7), ('e', 'a', 8)]\n"
     ]
    }
   ],
   "source": [
    "graph = Graph(6,True)\n",
    "graph.addVertex(0, 'a')\n",
    "graph.addVertex(1, 'b')\n",
    "graph.addVertex(2, 'c')\n",
    "graph.addVertex(3, 'd')\n",
    "graph.addVertex(4, 'e')\n",
    "graph.addVertex(5, 'f')\n",
    "graph.addVertex(6, 'g') # doing nothing here \n",
    "graph.addVertex(7, 'h') # doing nothing here\n",
    "\n",
    "print(graph.getVertices())\n",
    "graph.addEdge('a', 'b', 1)  \n",
    "graph.addEdge('a', 'c', 2)\n",
    "graph.addEdge('b', 'd', 3)\n",
    "graph.addEdge('b', 'e', 4)\n",
    "graph.addEdge('c', 'd', 5)\n",
    "graph.addEdge('c', 'e', 6)\n",
    "graph.addEdge('d', 'e', 7)\n",
    "graph.addEdge('e', 'a', 8)\n",
    "print(graph.printMatrix())\n",
    "print(graph.getEdges())    "
   ]
  },
  {
   "cell_type": "code",
   "execution_count": 3,
   "metadata": {},
   "outputs": [
    {
     "data": {
      "text/plain": [
       "['b', 'c']"
      ]
     },
     "execution_count": 3,
     "metadata": {},
     "output_type": "execute_result"
    }
   ],
   "source": [
    "graph.getNeighbors('a')"
   ]
  },
  {
   "cell_type": "code",
   "execution_count": 4,
   "metadata": {},
   "outputs": [
    {
     "data": {
      "text/plain": [
       "False"
      ]
     },
     "execution_count": 4,
     "metadata": {},
     "output_type": "execute_result"
    }
   ],
   "source": [
    "graph.isConnected('a','e')"
   ]
  },
  {
   "cell_type": "code",
   "execution_count": 5,
   "metadata": {},
   "outputs": [
    {
     "data": {
      "text/plain": [
       "['d', 'e']"
      ]
     },
     "execution_count": 5,
     "metadata": {},
     "output_type": "execute_result"
    }
   ],
   "source": [
    "graph.get2Hops('a')"
   ]
  },
  {
   "cell_type": "code",
   "execution_count": 6,
   "metadata": {},
   "outputs": [
    {
     "name": "stdout",
     "output_type": "stream",
     "text": [
      "['/', '/', '20', '/', '10']\n",
      "['/', '/', '30', '/', '40']\n",
      "['20', '30', '/', '/', '/']\n",
      "['/', '/', '/', '/', '50']\n",
      "['10', '40', '/', '50', '/']\n",
      "None\n",
      "[('a', 'c', 20), ('a', 'e', 10), ('b', 'c', 30), ('b', 'e', 40), ('c', 'a', 20), ('c', 'b', 30), ('d', 'e', 50), ('e', 'a', 10), ('e', 'b', 40), ('e', 'd', 50)]\n"
     ]
    }
   ],
   "source": [
    "G = Graph(5)\n",
    "G.addVertex(0, 'a')\n",
    "G.addVertex(1, 'b')\n",
    "G.addVertex(2, 'c')\n",
    "G.addVertex(3, 'd')\n",
    "G.addVertex(4, 'e')\n",
    "G.addEdge('a', 'e', 10)  \n",
    "G.addEdge('a', 'c', 20)\n",
    "G.addEdge('c', 'b', 30)\n",
    "G.addEdge('b', 'e', 40)\n",
    "G.addEdge('e', 'd', 50)\n",
    "G.addEdge('f', 'e', 60)\n",
    "print(G.printMatrix())\n",
    "print(G.getEdges()) "
   ]
  },
  {
   "cell_type": "markdown",
   "metadata": {},
   "source": [
    "# Graph II - AdjListGraph #\n",
    "\n",
    "<img src=\"./images/ch17/listrepr.png\" width=\"640\"/>"
   ]
  },
  {
   "cell_type": "code",
   "execution_count": 20,
   "metadata": {},
   "outputs": [],
   "source": [
    "import sys\n",
    "class Vertex:\n",
    "    def __init__(self, node):\n",
    "        self.id = node\n",
    "        self.adjacent = {}\n",
    "        self.visited = False\n",
    "        self.previous = None\n",
    "        self.distance = sys.maxsize\n",
    "        \n",
    "    def addNeighbor(self, neighbor, weight=0):\n",
    "        self.adjacent[neighbor] = weight\n",
    "\n",
    "    # returns a list \n",
    "    def getConnections(self): # neighbor keys\n",
    "        return self.adjacent.keys()\n",
    "\n",
    "    def getVertexID(self):\n",
    "        return self.id\n",
    "\n",
    "    def getWeight(self, neighbor):\n",
    "        return self.adjacent[neighbor]\n",
    "\n",
    "    def setDistance(self, dist):\n",
    "        self.distance = dist\n",
    "    \n",
    "    def getDistance(self):\n",
    "        return self.distance\n",
    "    \n",
    "    def setPrevious(self, prev):\n",
    "        self.previous = prev\n",
    "        \n",
    "    def setVisited(self):\n",
    "        self.visited = True\n",
    "        \n",
    "    def __str__(self):\n",
    "        return str(self.id) + ' adjacent: '+str([x.id for x in self.adjacent])\n",
    "        \n",
    "    def __lt__(self, other):\n",
    "        return self.distance < other.distance and self.id < other.id\n",
    "\n",
    "class Graph:\n",
    "    def __init__(self, directed=False):\n",
    "        # key is string, vertex id\n",
    "        # value is Vertex\n",
    "        self.verDictionary = {}\n",
    "        self.numVertices = 0\n",
    "        self.directed = directed\n",
    "        \n",
    "    def __iter__(self):\n",
    "        return iter(self.verDictionary.values())\n",
    "    \n",
    "    def isDirected(self):\n",
    "        return self.directed\n",
    "    \n",
    "    def vertexCount(self):\n",
    "        return self.numVertices\n",
    "    \n",
    "    def addVertex(self, node):\n",
    "        self.numVertices += 1\n",
    "        newVertex = Vertex(node)\n",
    "        self.verDictionary[node] = newVertex\n",
    "        return newVertex\n",
    "\n",
    "    def getVertex(self, n):\n",
    "        if n in self.verDictionary:\n",
    "            return self.verDictionary[n]\n",
    "        else:\n",
    "            return None\n",
    "\n",
    "    def addEdge(self, frm, to, cost=0):\n",
    "        if frm not in self.verDictionary:\n",
    "            self.addVertex(frm)\n",
    "        if to not in self.verDictionary:\n",
    "            self.addVertex(to)\n",
    "        self.verDictionary[frm].addNeighbor(self.verDictionary[to], cost)\n",
    "        \n",
    "        if not self.directed:\n",
    "            self.verDictionary[to].addNeighbor(self.verDictionary[frm], cost)\n",
    "\n",
    "    def getVertices(self):\n",
    "        return self.verDictionary.keys()\n",
    "\n",
    "    def setPrevious(self, current):\n",
    "        self.previous = current\n",
    "\n",
    "    def getPrevious(self, current):\n",
    "        return self.previous\n",
    "\n",
    "    def getEdges(self):\n",
    "        edges = []\n",
    "        for key, currentVert in self.verDictionary.items():\n",
    "            currentVertID = currentVert.getVertexID()\n",
    "            for nbr in currentVert.getConnections():\n",
    "                nbrID = nbr.getVertexID()\n",
    "                edges.append((currentVertID, nbrID, currentVert.getWeight(nbr)))\n",
    "        return edges\n",
    "                \n",
    "    def getNeighbors(self, v):\n",
    "        vertex = self.verDictionary[v]\n",
    "        return vertex.getConnections()"
   ]
  },
  {
   "cell_type": "code",
   "execution_count": 6,
   "metadata": {},
   "outputs": [
    {
     "name": "stdout",
     "output_type": "stream",
     "text": [
      "[('a', 'b', 1), ('a', 'c', 1), ('a', 'f', 1), ('b', 'd', 1), ('b', 'e', 1), ('c', 'e', 1), ('d', 'e', 1), ('e', 'a', 1)]\n",
      "('a', 'b', 1)\n",
      "('a', 'c', 1)\n",
      "('a', 'f', 1)\n",
      "('b', 'd', 1)\n",
      "('b', 'e', 1)\n",
      "('c', 'e', 1)\n",
      "('d', 'e', 1)\n",
      "('e', 'a', 1)\n"
     ]
    }
   ],
   "source": [
    "G = Graph(True)\n",
    "G.addVertex('a')\n",
    "G.addVertex('b')\n",
    "G.addVertex('c')\n",
    "G.addVertex('d')\n",
    "G.addVertex('e')\n",
    "G.addVertex('f')\n",
    "G.addEdge('a', 'b', 1)  \n",
    "G.addEdge('a', 'c', 1)\n",
    "G.addEdge('b', 'd', 1)\n",
    "G.addEdge('b', 'e', 1)\n",
    "# G.addEdge('c', 'd', 1)\n",
    "G.addEdge('c', 'e', 1)\n",
    "G.addEdge('d', 'e', 1)\n",
    "G.addEdge('e', 'a', 1)\n",
    "G.addEdge('a', 'f', 1)\n",
    "print (G.getEdges())\n",
    "for k in G.getEdges():\n",
    "    print(k)"
   ]
  },
  {
   "cell_type": "code",
   "execution_count": 9,
   "metadata": {},
   "outputs": [
    {
     "name": "stdout",
     "output_type": "stream",
     "text": [
      "a corresponds to a adjacent: ['b', 'c', 'f']\n",
      "b corresponds to b adjacent: ['d', 'e']\n",
      "c corresponds to c adjacent: ['e']\n",
      "d corresponds to d adjacent: ['e']\n",
      "e corresponds to e adjacent: ['a']\n",
      "f corresponds to f adjacent: []\n"
     ]
    }
   ],
   "source": [
    "for key in G.verDictionary:\n",
    "    print(key, 'corresponds to', G.verDictionary[key])"
   ]
  },
  {
   "cell_type": "code",
   "execution_count": 10,
   "metadata": {
    "scrolled": true
   },
   "outputs": [
    {
     "name": "stdout",
     "output_type": "stream",
     "text": [
      "b adjacent: ['d', 'e']\n",
      "c adjacent: ['e']\n",
      "f adjacent: []\n"
     ]
    }
   ],
   "source": [
    "v = 'a'\n",
    "neighbors = G.getNeighbors(v)\n",
    "for n in neighbors:\n",
    "    print(n)"
   ]
  },
  {
   "cell_type": "code",
   "execution_count": 11,
   "metadata": {},
   "outputs": [],
   "source": [
    "def graphFromEdgelist(E, directed=False):\n",
    "    \"\"\"Make a graph instance based on a sequence of edge tuples.\n",
    "    Edges can be either of from (origin,destination) or\n",
    "    (origin,destination,element). Vertex set is presume to be those\n",
    "    incident to at least one edge.\n",
    "    vertex labels are assumed to be hashable.\n",
    "    \"\"\"\n",
    "    g = Graph(directed)\n",
    "    V = set()\n",
    "    for e in E:\n",
    "        V.add(e[0])\n",
    "        V.add(e[1])\n",
    "        \n",
    "    print(\"Vertex: \", V)\n",
    "    \n",
    "    verts = {} # map from vertex label to Vertex instance\n",
    "    for v in V:\n",
    "        verts[v] = g.addVertex(v)\n",
    "    print(g.vertexCount())\n",
    "    \n",
    "    for e in E:\n",
    "        frm = e[0]\n",
    "        to = e[1]\n",
    "        cost = e[2] if len(e) > 2 else None\n",
    "        g.addEdge(frm, to, cost)\n",
    "    return g"
   ]
  },
  {
   "cell_type": "code",
   "execution_count": 12,
   "metadata": {},
   "outputs": [
    {
     "name": "stdout",
     "output_type": "stream",
     "text": [
      "Vertex:  {'B', 'C', 'A'}\n",
      "3\n",
      "('A', 'B', 1)\n",
      "('A', 'C', 1)\n"
     ]
    }
   ],
   "source": [
    "E2 = (\n",
    "('A','B', 1), ('A','C', 1),\n",
    ")\n",
    "graph = graphFromEdgelist(E2, True)\n",
    "for k in graph.getEdges():\n",
    "    print(k)"
   ]
  },
  {
   "cell_type": "code",
   "execution_count": 13,
   "metadata": {
    "scrolled": true
   },
   "outputs": [
    {
     "name": "stdout",
     "output_type": "stream",
     "text": [
      "Vertex:  {'ORD', 'BOS', 'LAX', 'DFW', 'SFO', 'MIA', 'JFK'}\n",
      "7\n",
      "('ORD', 'BOS', 867)\n",
      "('ORD', 'JFK', 740)\n",
      "('LAX', 'DFW', 1235)\n",
      "('LAX', 'MIA', 2342)\n",
      "('DFW', 'ORD', 802)\n",
      "('DFW', 'MIA', 1121)\n",
      "('SFO', 'LAX', 337)\n",
      "('SFO', 'BOS', 2704)\n",
      "('SFO', 'ORD', 1846)\n",
      "('SFO', 'DFW', 1464)\n",
      "('MIA', 'JFK', 1090)\n",
      "('MIA', 'BOS', 1258)\n",
      "('JFK', 'BOS', 187)\n",
      "ORD\n",
      "BOS\n",
      "LAX\n",
      "DFW\n",
      "SFO\n",
      "MIA\n",
      "JFK\n"
     ]
    }
   ],
   "source": [
    "E = (\n",
    "('SFO', 'LAX', 337), ('SFO', 'BOS', 2704), ('SFO', 'ORD', 1846),\n",
    "('SFO', 'DFW', 1464), ('LAX', 'DFW', 1235), ('LAX', 'MIA', 2342),\n",
    "('DFW', 'ORD', 802), ('DFW', 'MIA', 1121), ('ORD', 'BOS', 867),\n",
    "('ORD', 'JFK', 740), ('MIA', 'JFK', 1090), ('MIA', 'BOS', 1258), \n",
    "('JFK', 'BOS', 187),\n",
    ")\n",
    "graph = graphFromEdgelist(E, True)\n",
    "for e in graph.getEdges():\n",
    "    print(e)\n",
    "\n",
    "for m in graph.getVertices():\n",
    "    print(m)"
   ]
  },
  {
   "cell_type": "markdown",
   "metadata": {},
   "source": [
    "# Graph III DFS #"
   ]
  },
  {
   "cell_type": "code",
   "execution_count": 14,
   "metadata": {},
   "outputs": [],
   "source": [
    "def dfs_helper(G, Vertex, visited):\n",
    "    visited.add(Vertex) #标记访问过的节点\n",
    "    print(\"traversal: \" + Vertex.getVertexID())\n",
    "    for nbr in Vertex.getConnections():# 列出所有相邻节点，选一个\n",
    "        if nbr not in visited:# 判断是否访问过\n",
    "            dfs_helper(G, nbr, visited) #递归调用\n",
    "    return\n",
    "    \n",
    "def DFS_recursion(G):\n",
    "    visited = set() # 用set记录访问过的结点\n",
    "    for currentVert in G.getVertices(): #列出图中所有节点，选取一个\n",
    "        if G.getVertex(currentVert) not in visited: #如果还没访问过，从它开始遍历\n",
    "            dfs_helper(G, G.getVertex(currentVert),visited) #如果是连通图，这句只执行一次"
   ]
  },
  {
   "cell_type": "code",
   "execution_count": 15,
   "metadata": {},
   "outputs": [
    {
     "name": "stdout",
     "output_type": "stream",
     "text": [
      "traversal: a\n",
      "traversal: b\n",
      "traversal: d\n",
      "traversal: e\n",
      "traversal: c\n",
      "traversal: f\n"
     ]
    }
   ],
   "source": [
    "DFS_recursion(G)"
   ]
  },
  {
   "cell_type": "code",
   "execution_count": 16,
   "metadata": {
    "scrolled": false
   },
   "outputs": [
    {
     "name": "stdout",
     "output_type": "stream",
     "text": [
      "traversal: e\n",
      "traversal: a\n",
      "traversal: b\n",
      "traversal: d\n",
      "traversal: c\n",
      "traversal: f\n"
     ]
    }
   ],
   "source": [
    "visited = set()\n",
    "v = G.getVertex('e')\n",
    "dfs_helper(G, v, visited)"
   ]
  },
  {
   "cell_type": "code",
   "execution_count": 25,
   "metadata": {},
   "outputs": [],
   "source": [
    "def dfsIterative(G, start, dest):\n",
    "    stack = []\n",
    "    visited = set()\n",
    "    path = {}\n",
    "    if G.getVertex(start) is not None and G.getVertex(dest) is not None: # 确认起点和终点节点是否存在\n",
    "        v = G.getVertex(start)\n",
    "        stack.append(v)\n",
    "        visited.add(v)\n",
    "    while len(stack):\n",
    "        current_vertex = stack.pop()\n",
    "        print(\"visiting:\",current_vertex.getVertexID())\n",
    "        if current_vertex.getVertexID() == dest:\n",
    "            return path\n",
    "        for nbr in current_vertex.getConnections():\n",
    "            if nbr not in visited:\n",
    "                visited.add(nbr)\n",
    "                path[nbr.getVertexID()] = current_vertex.getVertexID()\n",
    "                stack.append(nbr)\n",
    "    return None"
   ]
  },
  {
   "cell_type": "code",
   "execution_count": 27,
   "metadata": {
    "scrolled": true
   },
   "outputs": [
    {
     "name": "stdout",
     "output_type": "stream",
     "text": [
      "visiting: a\n",
      "visiting: f\n",
      "visiting: c\n",
      "visiting: e\n",
      "visiting: b\n",
      "visiting: d\n",
      "{'b': 'a', 'c': 'a', 'f': 'a', 'e': 'c', 'd': 'b'}\n"
     ]
    }
   ],
   "source": [
    "parent = dfsIterative(G, 'a', 'd')\n",
    "print(parent)"
   ]
  },
  {
   "cell_type": "markdown",
   "metadata": {},
   "source": [
    "# Graph IV BFS #"
   ]
  },
  {
   "cell_type": "code",
   "execution_count": 23,
   "metadata": {},
   "outputs": [],
   "source": [
    "from collections import deque\n",
    "\n",
    "def BFS(G, start, dest):\n",
    "    queue = deque() # 双向队列\n",
    "    visited = set()\n",
    "    path = {}\n",
    "    if G.getVertex(start) is not None and G.getVertex(dest) is not None: # 确认起点和终点节点是否存在\n",
    "        v = G.getVertex(start)\n",
    "        queue.append(v)\n",
    "        visited.add(v)\n",
    "    while len(queue):\n",
    "        current_vertex = queue.popleft()\n",
    "        print(\"visiting:\",current_vertex.getVertexID())\n",
    "        if current_vertex.getVertexID() == dest:\n",
    "            return path\n",
    "        for nbr in current_vertex.getConnections():\n",
    "            if nbr not in visited:\n",
    "                visited.add(nbr)\n",
    "                path[nbr.getVertexID()] = current_vertex.getVertexID()\n",
    "                queue.append(nbr)\n",
    "    return None"
   ]
  },
  {
   "cell_type": "code",
   "execution_count": 24,
   "metadata": {
    "scrolled": true
   },
   "outputs": [
    {
     "name": "stdout",
     "output_type": "stream",
     "text": [
      "visiting: a\n",
      "visiting: b\n",
      "visiting: c\n",
      "visiting: f\n",
      "visiting: d\n",
      "{'b': 'a', 'c': 'a', 'f': 'a', 'd': 'b', 'e': 'b'}\n"
     ]
    }
   ],
   "source": [
    "parent = BFS(G, 'a', 'd')\n",
    "print(parent)"
   ]
  },
  {
   "cell_type": "markdown",
   "metadata": {},
   "source": [
    "# Dijkstra Algorithm #"
   ]
  },
  {
   "cell_type": "code",
   "execution_count": 25,
   "metadata": {},
   "outputs": [],
   "source": [
    "import heapq\n",
    "\n",
    "def shortest(v,path):\n",
    "    if v.previous:\n",
    "        path.append(v.previous.getVertexID())\n",
    "        shortest(v.previous,path)\n",
    "    return\n",
    "\n",
    "def dijkstra(G, source, destination):\n",
    "    #设置起点的距离是0\n",
    "    source.setDistance(0)\n",
    "    \n",
    "    # 在优先队列（堆）里放入tuple对\n",
    "    unvisitedQueue = [(v.getDistance(), v) for v in G]\n",
    "    # 除了起点之外，其它vertex的距离都是无穷大，相当于①堆中只放入了起点vertex\n",
    "    heapq.heapify(unvisitedQueue)\n",
    "    \n",
    "    # 当堆不为空\n",
    "    while len(unvisitedQueue):\n",
    "        # python的堆是最小堆，如果放入的是tuple 则以第一个元素为依据排序\n",
    "        # ② 从堆中pop出距离最小的vertex\n",
    "        uv = heapq.heappop(unvisitedQueue)\n",
    "        cur = uv[1]\n",
    "        cur.setVisited()\n",
    "        \n",
    "        # ③ 将邻居放入堆\n",
    "        for neighbor in cur.adjacent:\n",
    "            # 如果已经访问过了，则跳过\n",
    "            if neighbor.visited:\n",
    "                continue\n",
    "            newDist = cur.getDistance() + cur.getWeight(neighbor)\n",
    "            \n",
    "            # ④ 如果发现了更短的路径，则更新距离\n",
    "            if newDist < neighbor.getDistance():\n",
    "                neighbor.setDistance(newDist)\n",
    "                neighbor.setPrevious(cur)\n",
    "                print('Updated : current = %s neighbor = %s newDist = %s'\\\n",
    "                     %(cur.getVertexID(), neighbor.getVertexID(), neighbor.getDistance()))\n",
    "            else:\n",
    "                print('NOT Updated : current = %s neighbor = %s newDist = %s'\\\n",
    "                     %(cur.getVertexID(), neighbor.getVertexID(), neighbor.getDistance()))\n",
    "                \n",
    "        #重构堆\n",
    "        while len(unvisitedQueue):\n",
    "            unvisitedQueue.pop()\n",
    "            \n",
    "        # 把没访问过的vertex放入堆\n",
    "        unvisitedQueue = [(v.getDistance(), v) for v in G if not v.visited]\n",
    "        heapq.heapify(unvisitedQueue)"
   ]
  },
  {
   "cell_type": "code",
   "execution_count": 8,
   "metadata": {},
   "outputs": [
    {
     "name": "stdout",
     "output_type": "stream",
     "text": [
      "( a , b,   4)\n",
      "( a , c,   1)\n",
      "( b , e,   4)\n",
      "( c , b,   2)\n",
      "( c , d,   4)\n",
      "( d , e,   4)\n"
     ]
    }
   ],
   "source": [
    "G = Graph(True)\n",
    "G.addVertex('a')\n",
    "G.addVertex('b')\n",
    "G.addVertex('c')\n",
    "G.addVertex('d')\n",
    "G.addVertex('e')\n",
    "G.addEdge('a', 'b', 4)  \n",
    "G.addEdge('a', 'c', 1)\n",
    "G.addEdge('c', 'b', 2)\n",
    "G.addEdge('b', 'e', 4)\n",
    "G.addEdge('c', 'd', 4)\n",
    "G.addEdge('d', 'e', 4)\n",
    "\n",
    "for v in G:\n",
    "    for w in v.getConnections():\n",
    "        vid = v.getVertexID()\n",
    "        wid = w.getVertexID()\n",
    "        print('( %s , %s, %3d)' % (vid, wid, v.getWeight(w)))\n"
   ]
  },
  {
   "cell_type": "code",
   "execution_count": 22,
   "metadata": {
    "scrolled": true
   },
   "outputs": [
    {
     "name": "stdout",
     "output_type": "stream",
     "text": [
      "NOT Updated : current = a neighbor = b newDist = 4\n",
      "NOT Updated : current = a neighbor = c newDist = 1\n",
      "Updated : current = c neighbor = b newDist = 3\n",
      "Updated : current = c neighbor = d newDist = 5\n",
      "Updated : current = b neighbor = e newDist = 7\n",
      "NOT Updated : current = d neighbor = e newDist = 7\n"
     ]
    }
   ],
   "source": [
    "source = G.getVertex('a')\n",
    "destination = G.getVertex('e')    \n",
    "dijkstra(G, source, destination) "
   ]
  },
  {
   "cell_type": "code",
   "execution_count": 26,
   "metadata": {},
   "outputs": [
    {
     "name": "stdout",
     "output_type": "stream",
     "text": [
      "a  to  a --> 0\n",
      "a  to  b --> 3\n",
      "a  to  c --> 1\n",
      "a  to  d --> 5\n",
      "a  to  e --> 7\n",
      "The shortest path from a to e is: ['a', 'c', 'b', 'e']\n"
     ]
    }
   ],
   "source": [
    "for v in G.verDictionary.values():\n",
    "    print(source.getVertexID(), \" to \", v.getVertexID(), \"-->\", v.getDistance())\n",
    "\n",
    "path = [destination.getVertexID()]\n",
    "shortest(destination, path)\n",
    "print ('The shortest path from a to e is: %s' % (path[::-1]))"
   ]
  },
  {
   "cell_type": "markdown",
   "metadata": {
    "collapsed": true
   },
   "source": [
    "### <a id='Ex1'>Ex.1 The Maze</a>\n",
    "\n",
    "There is a ball in a maze with empty spaces and walls. The ball can go through empty spaces by rolling up, down, left or right.\n",
    "\n",
    "Given the ball's start position, the destination and the maze, determine whether the ball could stop at the destination.\n",
    "\n",
    "The maze is represented by a binary 2D array. 1 means the wall and 0 means the empty space. You may assume that the borders of the maze are all walls. The start and destination coordinates are represented by row and column indexes.\n",
    "\n",
    "\n",
    "<img src=\"./images/ch17/maze1.png\" width=\"560\"/>"
   ]
  },
  {
   "cell_type": "code",
   "execution_count": 33,
   "metadata": {},
   "outputs": [],
   "source": [
    "def sol1_dfs(matrix, start, destination):\n",
    "    visited = [[False]*len(matrix[0]) for i in range(len(matrix))]\n",
    "    return dfs_helper(matrix, start, destination, visited)\n",
    "\n",
    "def dfs_helper(matrix, start, destination, visited):\n",
    "    if start[0] == destination[0] and start[1] == destination[1]:\n",
    "        return True\n",
    "\n",
    "    if visited[start[0]][start[1]] is True:\n",
    "        return False\n",
    "\n",
    "    if matrix[start[0]][start[1]] == 1:\n",
    "        return False\n",
    "\n",
    "    visited[start[0]][start[1]] = True\n",
    "    print(start,end=\"->\")\n",
    "\n",
    "    if start[1] < len(matrix[0])-1:\n",
    "        r = (start[0], start[1]+1)\n",
    "        if dfs_helper(matrix, r, destination, visited):\n",
    "            return True\n",
    "\n",
    "    if start[0] < len(matrix)-1:\n",
    "        d = (start[0]+1, start[1])\n",
    "        if dfs_helper(matrix, d, destination, visited):\n",
    "            return True\n",
    "\n",
    "    if start[1] > 0:\n",
    "        l = (start[0], start[1]-1)\n",
    "        if dfs_helper(matrix, l, destination, visited):\n",
    "            return True\n",
    "\n",
    "    if start[0] > 0:\n",
    "        u = (start[0]-1, start[1])\n",
    "        if dfs_helper(matrix, u, destination, visited):\n",
    "            return True\n",
    "\n",
    "    # move = [(-1, 0), (0, 1), (1, 0), (0, -1)]\n",
    "    #\n",
    "    # for i, j in move:\n",
    "    #\n",
    "    #     new_row, new_col = start[0] + i, start[1] + j\n",
    "    #\n",
    "    #     if not (new_row < 0 or new_row >= len(matrix) or new_col < 0 or new_col >= len(matrix[0])):\n",
    "    #         start = (new_row,new_col)\n",
    "    #         if dfs_helper(matrix, start, destination, visited):\n",
    "    #             return True\n",
    "\n",
    "    return False"
   ]
  },
  {
   "cell_type": "code",
   "execution_count": 34,
   "metadata": {},
   "outputs": [
    {
     "name": "stdout",
     "output_type": "stream",
     "text": [
      "(0, 0)->(0, 1)->(1, 1)->(1, 2)->(1, 3)->(1, 4)->(2, 4)->(0, 4)->(0, 3)->(2, 2)->(2, 1)->(2, 0)->(1, 0)->"
     ]
    },
    {
     "data": {
      "text/plain": [
       "False"
      ]
     },
     "execution_count": 34,
     "metadata": {},
     "output_type": "execute_result"
    }
   ],
   "source": [
    "matrix1 = [\n",
    "    [0, 0, 1, 0, 0],\n",
    "    [0, 0, 0, 0, 0],\n",
    "    [0, 0, 0, 1, 0],\n",
    "    [1, 1, 1, 1, 1],\n",
    "    [0, 0, 0, 0, 0]\n",
    "]\n",
    "\n",
    "start = (0, 0)\n",
    "dest  = (4, 4)\n",
    "sol1_dfs(matrix1, start, dest)"
   ]
  },
  {
   "cell_type": "code",
   "execution_count": 35,
   "metadata": {},
   "outputs": [
    {
     "name": "stdout",
     "output_type": "stream",
     "text": [
      "(0, 0)->(0, 1)->(1, 1)->(1, 2)->(1, 3)->(1, 4)->(2, 4)->(0, 4)->(0, 3)->(2, 2)->(3, 2)->(4, 2)->(4, 3)->"
     ]
    },
    {
     "data": {
      "text/plain": [
       "True"
      ]
     },
     "execution_count": 35,
     "metadata": {},
     "output_type": "execute_result"
    }
   ],
   "source": [
    "matrix2 = [\n",
    "    [0, 0, 1, 0, 0],\n",
    "    [0, 0, 0, 0, 0],\n",
    "    [0, 0, 0, 1, 0],\n",
    "    [1, 1, 0, 1, 1],\n",
    "    [0, 0, 0, 0, 0]\n",
    "]\n",
    "\n",
    "start = (0, 0)\n",
    "dest  = (4, 4)\n",
    "sol1_dfs(matrix2, start, dest)"
   ]
  },
  {
   "cell_type": "code",
   "execution_count": 36,
   "metadata": {},
   "outputs": [],
   "source": [
    "def sol1_dfs_iterative(matrix, start, destination):\n",
    "    if start[0] == destination[0] and start[1] == destination[1]:\n",
    "        return True\n",
    "    \n",
    "    stack = []\n",
    "    visited = [[False]*len(matrix[0]) for i in range(len(matrix))]\n",
    "    move = [(0, 1), (1, 0), (0, -1), (-1, 0)]  #→，↓，←, ↑\n",
    "    stack.append(start)\n",
    "    \n",
    "    while len(stack):\n",
    "        cur = stack.pop()\n",
    "        \n",
    "        if cur[0] == destination[0] and cur[1] == destination[1]:\n",
    "            return True\n",
    "        \n",
    "        if visited[cur[0]][cur[1]] is True or matrix[cur[0]][cur[1]]==1:\n",
    "            continue\n",
    "            \n",
    "        visited[cur[0]][cur[1]] = True\n",
    "        print(cur,end=\"->\")\n",
    "        for i, j in move:\n",
    "            new_row, new_col = cur[0] + i, cur[1] + j\n",
    "            if not (new_row < 0 or new_row >= len(matrix) or new_col < 0 or new_col >= len(matrix[0])):\n",
    "                stack.append((new_row, new_col))\n",
    "    \n",
    "    return False"
   ]
  },
  {
   "cell_type": "code",
   "execution_count": 37,
   "metadata": {},
   "outputs": [
    {
     "name": "stdout",
     "output_type": "stream",
     "text": [
      "(0, 0)->(1, 0)->(2, 0)->(2, 1)->(1, 1)->(0, 1)->(1, 2)->(2, 2)->(1, 3)->(0, 3)->(0, 4)->(1, 4)->(2, 4)->"
     ]
    },
    {
     "data": {
      "text/plain": [
       "False"
      ]
     },
     "execution_count": 37,
     "metadata": {},
     "output_type": "execute_result"
    }
   ],
   "source": [
    "sol1_dfs_iterative(matrix1, start, dest)"
   ]
  },
  {
   "cell_type": "code",
   "execution_count": 38,
   "metadata": {},
   "outputs": [
    {
     "name": "stdout",
     "output_type": "stream",
     "text": [
      "(0, 0)->(1, 0)->(2, 0)->(2, 1)->(1, 1)->(0, 1)->(1, 2)->(2, 2)->(3, 2)->(4, 2)->(4, 1)->(4, 0)->(4, 3)->"
     ]
    },
    {
     "data": {
      "text/plain": [
       "True"
      ]
     },
     "execution_count": 38,
     "metadata": {},
     "output_type": "execute_result"
    }
   ],
   "source": [
    "sol1_dfs_iterative(matrix2, start, dest)"
   ]
  },
  {
   "cell_type": "code",
   "execution_count": 54,
   "metadata": {},
   "outputs": [],
   "source": [
    "from collections import deque\n",
    "\n",
    "def sol1_bfs(matrix, start, destination):\n",
    "    if start[0] == destination[0] and start[1] == destination[1]:\n",
    "        return True\n",
    "\n",
    "    queue = deque()\n",
    "    visited = [[False] * len(matrix[0]) for i in range(len(matrix))]\n",
    "    move = [(0, 1), (1, 0), (0, -1), (-1, 0)]  # →，↓，←, ↑\n",
    "    visited[start[0]][start[1]] = True\n",
    "    queue.append(start)\n",
    "\n",
    "    while len(queue):\n",
    "        cur = queue.popleft()\n",
    "        if cur[0] == destination[0] and cur[1] == destination[1]:\n",
    "            return True\n",
    "        print(cur, end='->')\n",
    "        for i, j in move:\n",
    "            x = cur[0] + i\n",
    "            y = cur[1] + j\n",
    "\n",
    "            if x < 0 or x >= len(matrix) or y < 0 or y >= len(matrix[0]): # 要先判断边界条件 否则会出错\n",
    "                continue\n",
    "                \n",
    "            if visited[x][y] is True or matrix[x][y] == 1:\n",
    "                continue\n",
    "\n",
    "            visited[x][y] = True\n",
    "            queue.append((x, y))\n",
    "\n",
    "    return False"
   ]
  },
  {
   "cell_type": "code",
   "execution_count": 55,
   "metadata": {},
   "outputs": [
    {
     "name": "stdout",
     "output_type": "stream",
     "text": [
      "(0, 0)->(0, 1)->(1, 0)->(1, 1)->(2, 0)->(1, 2)->(2, 1)->(1, 3)->(2, 2)->(1, 4)->(0, 3)->(2, 4)->(0, 4)->"
     ]
    },
    {
     "data": {
      "text/plain": [
       "False"
      ]
     },
     "execution_count": 55,
     "metadata": {},
     "output_type": "execute_result"
    }
   ],
   "source": [
    "sol1_bfs(matrix1, start, dest)"
   ]
  },
  {
   "cell_type": "code",
   "execution_count": 56,
   "metadata": {},
   "outputs": [
    {
     "name": "stdout",
     "output_type": "stream",
     "text": [
      "(0, 0)->(0, 1)->(1, 0)->(1, 1)->(2, 0)->(1, 2)->(2, 1)->(1, 3)->(2, 2)->(1, 4)->(0, 3)->(3, 2)->(2, 4)->(0, 4)->(4, 2)->(4, 3)->(4, 1)->"
     ]
    },
    {
     "data": {
      "text/plain": [
       "True"
      ]
     },
     "execution_count": 56,
     "metadata": {},
     "output_type": "execute_result"
    }
   ],
   "source": [
    "sol1_bfs(matrix2, start, dest)"
   ]
  },
  {
   "cell_type": "markdown",
   "metadata": {},
   "source": [
    "### <a id='Ex2'>Ex.2 The Maze II</a>\n",
    "\n",
    "There is a ball in a maze with empty spaces and walls. The ball can go through empty spaces by rolling up, down, left or right. <font color='Red'>but it won't stop rolling until hitting a wall. When the ball stops, it could choose the next direction.</font>\n",
    "\n",
    "Given the ball's start position, the destination and the maze, determine whether the ball could stop at the destination.\n",
    "\n",
    "The maze is represented by a binary 2D array. 1 means the wall and 0 means the empty space. You may assume that the borders of the maze are all walls. The start and destination coordinates are represented by row and column indexes.\n",
    "\n",
    "<img src=\"./images/ch17/maze2.png\" width=\"640\"/>\n",
    "<img src=\"./images/ch17/maze3.png\" width=\"640\"/>"
   ]
  },
  {
   "cell_type": "code",
   "execution_count": null,
   "metadata": {},
   "outputs": [],
   "source": []
  },
  {
   "cell_type": "markdown",
   "metadata": {},
   "source": [
    "### <a id='Ex3'>Ex.3 The Maze III</a>\n",
    "\n",
    "There is a ball in a maze with empty spaces and walls. The ball can go through empty spaces by rolling up, down, left or right, but it won't stop rolling until hitting a wall. When the ball stops, it could choose the next direction.\n",
    "\n",
    "Given the ball's start position, the destination and the maze, <font color='red'>find the shortest distance for the ball to stop at the destination</font>. The distance is defined by the number of empty spaces traveled by the ball from the start position (excluded) to the destination (included). If the ball cannot stop at the destination, return -1.\n",
    "\n",
    "The maze is represented by a binary 2D array. 1 means the wall and 0 means the empty space. You may assume that the borders of the maze are all walls. The start and destination coordinates are represented by row and column indexes.\n",
    "\n",
    "<img src=\"./images/ch17/maze4.png\" width=\"640\"/>\n",
    "<img src=\"./images/ch17/maze5.png\" width=\"640\"/>"
   ]
  },
  {
   "cell_type": "code",
   "execution_count": null,
   "metadata": {},
   "outputs": [],
   "source": []
  },
  {
   "cell_type": "markdown",
   "metadata": {},
   "source": [
    "### <a id='Ex4'>Ex.4 The Maze IV</a>\n",
    "\n",
    "There is a ball in a maze with empty spaces and walls. The ball can go through empty spaces by rolling up (u), down (d), left (l) or right (r), but it won't stop rolling until hitting a wall. When the ball stops, it could choose the next direction. There is also a hole in this maze. <font color=\"red\">The ball will drop into the hole if it rolls on to the hole</font>.\n",
    "\n",
    "Given the ball position, the hole position and the maze, find out how the ball could drop into the hole by moving the shortest distance. The distance is defined by the number of empty spaces traveled by the ball from the start position (excluded) to the hole (included). Output the moving directions by using 'u', 'd', 'l' and 'r'. Since there could be several different shortest ways, you should output the lexicographically smallest way. If the ball cannot reach the hole, output \"impossible\".\n",
    "\n",
    "The maze is represented by a binary 2D array. 1 means the wall and 0 means the empty space. You may assume that the borders of the maze are all walls. The ball and the hole coordinates are represented by row and column indexes."
   ]
  },
  {
   "cell_type": "code",
   "execution_count": null,
   "metadata": {},
   "outputs": [],
   "source": []
  }
 ],
 "metadata": {
  "kernelspec": {
   "display_name": "Python 3",
   "language": "python",
   "name": "python3"
  },
  "language_info": {
   "codemirror_mode": {
    "name": "ipython",
    "version": 3
   },
   "file_extension": ".py",
   "mimetype": "text/x-python",
   "name": "python",
   "nbconvert_exporter": "python",
   "pygments_lexer": "ipython3",
   "version": "3.7.0"
  }
 },
 "nbformat": 4,
 "nbformat_minor": 2
}
