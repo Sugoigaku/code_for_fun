{
 "cells": [
  {
   "cell_type": "markdown",
   "metadata": {},
   "source": [
    "# ArrayStack #"
   ]
  },
  {
   "cell_type": "code",
   "execution_count": 45,
   "metadata": {},
   "outputs": [],
   "source": [
    "from LinkedList import LinkedList\n",
    "from LinkedList import Node\n",
    "from ArrayStack import ArrayStack"
   ]
  },
  {
   "cell_type": "code",
   "execution_count": 5,
   "metadata": {},
   "outputs": [],
   "source": [
    "class ArrayStack(object):\n",
    "    def __init__ (self):\n",
    "        self._data = []\n",
    "        \n",
    "    def __len__ (self):\n",
    "        return len(self._data)\n",
    "    \n",
    "    def is_empty(self):\n",
    "        return len(self._data) == 0\n",
    "    \n",
    "    # O(1)\n",
    "    def push(self, e):\n",
    "        self._data.append(e)\n",
    "        \n",
    "    # O(1)\n",
    "    def top(self):\n",
    "        if self.is_empty( ):\n",
    "            raise ValueError( 'Stack is empty' )\n",
    "        return self._data[-1]\n",
    "    \n",
    "    # O(1)\n",
    "    def pop(self):\n",
    "        if self.is_empty( ):\n",
    "            raise ValueError( 'Stack is empty' )\n",
    "        return self._data.pop( )  \n",
    "        \n",
    "    def printstack(self):\n",
    "        for i in range(len(self._data)):\n",
    "            print(self._data[i], end = ' ')\n",
    "        print()"
   ]
  },
  {
   "cell_type": "code",
   "execution_count": 6,
   "metadata": {},
   "outputs": [
    {
     "name": "stdout",
     "output_type": "stream",
     "text": [
      "size was:  0\n",
      "size was:  5\n",
      "1 2 3 4 5 \n",
      "size was:  3\n",
      "1 2 3 \n",
      "3\n"
     ]
    },
    {
     "data": {
      "text/plain": [
       "1"
      ]
     },
     "execution_count": 6,
     "metadata": {},
     "output_type": "execute_result"
    }
   ],
   "source": [
    "mystack = ArrayStack()\n",
    "print ('size was: ', str(len(mystack)))\n",
    "mystack.push(1)\n",
    "mystack.push(2)\n",
    "mystack.push(3)\n",
    "mystack.push(4)\n",
    "mystack.push(5)\n",
    "print ('size was: ', str(len(mystack)))\n",
    "mystack.printstack()\n",
    "mystack.pop()\n",
    "mystack.pop()\n",
    "print ('size was: ', str(len(mystack)))\n",
    "mystack.printstack()\n",
    "print(mystack.top())\n",
    "mystack.pop()\n",
    "mystack.pop()\n",
    "mystack.pop()\n",
    "#mystack.pop()"
   ]
  },
  {
   "cell_type": "markdown",
   "metadata": {},
   "source": [
    "# LinkedStack #"
   ]
  },
  {
   "cell_type": "code",
   "execution_count": 13,
   "metadata": {},
   "outputs": [],
   "source": [
    "class LinkedStack(object):\n",
    "    def __init__ (self):\n",
    "        self._list = LinkedList()\n",
    "        \n",
    "    def __len__ (self):\n",
    "        return self._list.length\n",
    "    \n",
    "    def is_empty(self):\n",
    "        return self._list.length == 0\n",
    "    \n",
    "    # O(1)\n",
    "    def push(self, e):\n",
    "        self._list.add_first(e);\n",
    "        \n",
    "    # O(1)\n",
    "    def top(self):\n",
    "        return self._list.get_first().value;\n",
    "    \n",
    "    # O(1)\n",
    "    def pop(self):\n",
    "        return self._list.remove_first().value;\n",
    "        \n",
    "    def printstack(self):\n",
    "        self._list.printlist()\n"
   ]
  },
  {
   "cell_type": "code",
   "execution_count": 30,
   "metadata": {
    "scrolled": true
   },
   "outputs": [
    {
     "name": "stdout",
     "output_type": "stream",
     "text": [
      "size was:  0\n",
      "size was:  5\n",
      "5 4 3 2 1 \n",
      "size was:  3\n",
      "3 2 1 \n",
      "3\n"
     ]
    },
    {
     "data": {
      "text/plain": [
       "1"
      ]
     },
     "execution_count": 30,
     "metadata": {},
     "output_type": "execute_result"
    }
   ],
   "source": [
    "mystack = LinkedStack()\n",
    "print ('size was: ', str(len(mystack)))\n",
    "mystack.push(1)\n",
    "mystack.push(2)\n",
    "mystack.push(3)\n",
    "mystack.push(4)\n",
    "mystack.push(5)\n",
    "print ('size was: ', str(len(mystack)))\n",
    "mystack.printstack()\n",
    "mystack.pop()\n",
    "mystack.pop()\n",
    "print ('size was: ', str(len(mystack)))\n",
    "mystack.printstack()\n",
    "print(mystack.top())\n",
    "mystack.pop()\n",
    "mystack.pop()\n",
    "mystack.pop()\n",
    "#mystack.pop()"
   ]
  },
  {
   "cell_type": "markdown",
   "metadata": {},
   "source": [
    "# ArrayQueue #"
   ]
  },
  {
   "cell_type": "code",
   "execution_count": 8,
   "metadata": {},
   "outputs": [],
   "source": [
    "class ArrayQueue:\n",
    "    DEFAULT_CAPACITY = 10\n",
    "    def __init__(self):\n",
    "        self._data = [None] * ArrayQueue.DEFAULT_CAPACITY\n",
    "        self._size = 0\n",
    "        self._front = 0\n",
    "        \n",
    "    def __len__(self):\n",
    "        return self._size\n",
    "    \n",
    "    def is_empty(self):\n",
    "        return self._size == 0\n",
    "    \n",
    "    def first(self):\n",
    "        if self.is_empty( ):\n",
    "            raise ValueError( 'Queue is empty' )\n",
    "        return self._data[self._front]\n",
    "    \n",
    "    def dequeue(self):\n",
    "        if self.is_empty( ):\n",
    "            raise ValueError( 'Queue is empty' )\n",
    "        answer = self._data[self._front]\n",
    "        self._data[self._front] = None\n",
    "        self._front = (self._front + 1) % len(self._data)\n",
    "        self._size -= 1\n",
    "        return answer\n",
    "    \n",
    "    def enqueue(self, e):\n",
    "        if self._size == len(self._data):\n",
    "            self._resize(2 * len(self._data))\n",
    "        pos = (self._front + self._size) % len(self._data)\n",
    "        self._data[pos] = e\n",
    "        self._size += 1\n",
    "        \n",
    "    def _resize(self, cap):\n",
    "        old = self._data\n",
    "        self._data = [None] * cap\n",
    "        walk = self._front\n",
    "        for k in range(self._size):\n",
    "            self._data[k] = old[walk]\n",
    "            walk = (1 + walk) % len(old)\n",
    "        self._front = 0\n",
    "        \n",
    "    def printqueue(self):\n",
    "        for i in range(self._size):\n",
    "            pos = (self._front + self._size - 1 - i) % len(self._data)\n",
    "            #print(str(i), \": \", str(pos))\n",
    "            print(self._data[pos], end = \" \")  \n",
    "        print()"
   ]
  },
  {
   "cell_type": "code",
   "execution_count": 33,
   "metadata": {},
   "outputs": [
    {
     "name": "stdout",
     "output_type": "stream",
     "text": [
      "size was:  0\n",
      "size was:  15\n",
      "5 4 3 2 1 5 4 3 2 1 5 4 3 2 1 \n",
      "size was:  13\n",
      "5 4 3 2 1 5 4 3 2 1 5 4 3 \n",
      "7 6 5 4 3 2 1 5 4 3 2 1 5 4 3 \n",
      "size was:  13\n",
      "7 6 5 4 3 2 1 5 4 3 2 1 5 \n",
      "size was:  10\n",
      "7 6 5 4 3 2 1 5 4 3 \n"
     ]
    }
   ],
   "source": [
    "myqueue = ArrayQueue()\n",
    "print ('size was: ', str(len(myqueue)))\n",
    "myqueue.enqueue(1)\n",
    "myqueue.enqueue(2)\n",
    "myqueue.enqueue(3)\n",
    "myqueue.enqueue(4)\n",
    "myqueue.enqueue(5)\n",
    "myqueue.enqueue(1)\n",
    "myqueue.enqueue(2)\n",
    "myqueue.enqueue(3)\n",
    "myqueue.enqueue(4)\n",
    "myqueue.enqueue(5)\n",
    "myqueue.enqueue(1)\n",
    "myqueue.enqueue(2)\n",
    "myqueue.enqueue(3)\n",
    "myqueue.enqueue(4)\n",
    "myqueue.enqueue(5)\n",
    "print ('size was: ', str(len(myqueue)))\n",
    "myqueue.printqueue()\n",
    "myqueue.dequeue()\n",
    "myqueue.dequeue()\n",
    "print ('size was: ', str(len(myqueue)))\n",
    "myqueue.printqueue()\n",
    "myqueue.enqueue(6)\n",
    "myqueue.enqueue(7)\n",
    "myqueue.printqueue()\n",
    "myqueue.dequeue()\n",
    "myqueue.dequeue()\n",
    "print ('size was: ', str(len(myqueue)))\n",
    "myqueue.printqueue()\n",
    "myqueue.dequeue()\n",
    "myqueue.dequeue()\n",
    "myqueue.dequeue()\n",
    "print ('size was: ', str(len(myqueue)))\n",
    "myqueue.printqueue()\n",
    "#myqueue.dequeue()"
   ]
  },
  {
   "cell_type": "markdown",
   "metadata": {},
   "source": [
    "# LinkedQueue #"
   ]
  },
  {
   "cell_type": "code",
   "execution_count": 1,
   "metadata": {},
   "outputs": [],
   "source": [
    "class LinkedQueue(object):\n",
    "    def __init__(self):\n",
    "        self.head = None\n",
    "        self.tail = None\n",
    "        self.count = 0  \n",
    "        \n",
    "    def enqueue(self, value):\n",
    "        new_node = Node(value)\n",
    "\n",
    "        if self.tail is not None:\n",
    "            self.tail.next = new_node\n",
    "\n",
    "        else:\n",
    "            self.head = new_node\n",
    "\n",
    "        self.tail = new_node\n",
    "        self.count += 1\n",
    "\n",
    "    def dequeue(self):\n",
    "        if not self.is_empty():\n",
    "            # point head to next node\n",
    "            tmp = self.head\n",
    "            self.head = self.head.next\n",
    "            print(\"dequeue sucess\")\n",
    "            self.count -= 1\n",
    "            return tmp\n",
    "        else:\n",
    "            raise ValueError(\"Empty QUEUE\")\n",
    "\n",
    "    def is_empty(self):\n",
    "        if self.head is None and self.tail is None:\n",
    "            return True\n",
    "        else:\n",
    "            return False\n",
    "\n",
    "    def peek(self):\n",
    "        return self.head.data\n",
    "\n",
    "        \n",
    "    def __len__(self):\n",
    "        return self.count    \n",
    "\n",
    "    def is_empty(self):\n",
    "        return self.count == 0\n",
    "    \n",
    "    def print(self):\n",
    "        node = self.head\n",
    "        while node:\n",
    "            print(node.value, end = \" \")\n",
    "            node = node.next\n",
    "        print('')        "
   ]
  },
  {
   "cell_type": "code",
   "execution_count": 3,
   "metadata": {},
   "outputs": [
    {
     "name": "stdout",
     "output_type": "stream",
     "text": [
      "size was:  0\n",
      "size was:  5\n",
      "1 2 3 4 5 \n",
      "dequeue sucess\n",
      "1\n",
      "dequeue sucess\n",
      "2\n",
      "size was:  3\n",
      "3 4 5 \n",
      "dequeue sucess\n",
      "dequeue sucess\n",
      "size was:  3\n",
      "5 6 7 \n",
      "dequeue sucess\n",
      "dequeue sucess\n",
      "dequeue sucess\n",
      "size was:  0\n",
      "\n"
     ]
    }
   ],
   "source": [
    "myqueue = LinkedQueue()\n",
    "print ('size was: ', str(len(myqueue)))\n",
    "myqueue.enqueue(1)\n",
    "myqueue.enqueue(2)\n",
    "myqueue.enqueue(3)\n",
    "myqueue.enqueue(4)\n",
    "myqueue.enqueue(5)\n",
    "print ('size was: ', str(len(myqueue)))\n",
    "myqueue.print()\n",
    "print(myqueue.dequeue().value)\n",
    "print(myqueue.dequeue().value)\n",
    "print ('size was: ', str(len(myqueue)))\n",
    "myqueue.print()\n",
    "myqueue.enqueue(6)\n",
    "myqueue.enqueue(7)\n",
    "myqueue.dequeue()\n",
    "myqueue.dequeue()\n",
    "print ('size was: ', str(len(myqueue)))\n",
    "myqueue.print()\n",
    "myqueue.dequeue()\n",
    "myqueue.dequeue()\n",
    "myqueue.dequeue()\n",
    "print ('size was: ', str(len(myqueue)))\n",
    "myqueue.print()\n",
    "#myqueue.dequeue()"
   ]
  },
  {
   "cell_type": "markdown",
   "metadata": {},
   "source": [
    "In this lecture, you will learn:\n",
    "\n",
    "<a href='#Ex1'>Ex.1 Implement Queue using Stacks </a>\n",
    "\n",
    "<a href='#Ex2'>Ex.2 Implement Stack using Queues </a>\n",
    "\n",
    "<a href='#Ex3'>Ex.3 Min Stack </a>\n",
    "\n",
    "<a href='#Ex4'>Ex.4 Two Stack with One Array </a>\n",
    "\n",
    "<a href='#Ex5'>Ex.5 Three Stack with One Array </a>\n",
    "\n",
    "<a href='#Ex6'>Ex.6 Stack Sorting </a>"
   ]
  },
  {
   "cell_type": "markdown",
   "metadata": {},
   "source": [
    "### <a id='Ex1'>Ex.1 Implement Queue using Stacks </a>"
   ]
  },
  {
   "cell_type": "code",
   "execution_count": 6,
   "metadata": {},
   "outputs": [],
   "source": [
    "class QueueWithTwoStacks:\n",
    "    def __init__(self):\n",
    "        self.insert_stack = []\n",
    "        self.pop_stack = []\n",
    "        \n",
    "    def enqueue(self, value):\n",
    "        self.insert_stack.append(value)\n",
    "        return value\n",
    "    \n",
    "    def dequeue(self):\n",
    "        if len(self.insert_stack)==0 and len(self.pop_stack)==0:\n",
    "            return None\n",
    "        if len(self.pop_stack)==0:\n",
    "            while len(self.insert_stack):\n",
    "                self.pop_stack.append(self.insert_stack.pop())\n",
    "        return self.pop_stack.pop()"
   ]
  },
  {
   "cell_type": "code",
   "execution_count": 7,
   "metadata": {},
   "outputs": [
    {
     "name": "stdout",
     "output_type": "stream",
     "text": [
      "3\n",
      "2\n",
      "1\n",
      "3\n",
      "2\n"
     ]
    }
   ],
   "source": [
    "mystack = QueueWithTwoStacks()\n",
    "e = mystack.enqueue(3)\n",
    "print(e)\n",
    "e = mystack.enqueue(2)\n",
    "print(e)\n",
    "e = mystack.enqueue(1)\n",
    "print(e)\n",
    "e = mystack.dequeue()\n",
    "print(e)\n",
    "e = mystack.dequeue()\n",
    "print(e)"
   ]
  },
  {
   "cell_type": "markdown",
   "metadata": {},
   "source": [
    "### <a id='Ex2'>Ex.2 Implement Stack using Queues </a>"
   ]
  },
  {
   "cell_type": "code",
   "execution_count": 15,
   "metadata": {},
   "outputs": [],
   "source": [
    "class StackWithQueue:\n",
    "    def __init__(self):\n",
    "        self.queue = LinkedList()\n",
    "    \n",
    "    def push(self, value):\n",
    "        self.queue.add_last(value)\n",
    "    \n",
    "    def pop(self):\n",
    "        size = self.queue.size()\n",
    "        for _ in range(size-1):\n",
    "            self.queue.add_last(self.queue.remove_first())\n",
    "        self.queue.remove_first()\n",
    "    \n",
    "    def top(self):\n",
    "        return self.queue.get_last().value"
   ]
  },
  {
   "cell_type": "code",
   "execution_count": 16,
   "metadata": {},
   "outputs": [
    {
     "name": "stdout",
     "output_type": "stream",
     "text": [
      "2\n",
      "3\n"
     ]
    }
   ],
   "source": [
    "stack = StackWithQueue() \n",
    "stack.push(1)\n",
    "stack.push(2)\n",
    "print(stack.top())\n",
    "\n",
    "\n",
    "stack = StackWithQueue()\n",
    "stack.push(1)\n",
    "stack.push(2)\n",
    "stack.pop()\n",
    "stack.push(3)\n",
    "print(stack.top())"
   ]
  },
  {
   "cell_type": "markdown",
   "metadata": {},
   "source": [
    "### <a id='Ex3'>Ex.3 Min Stack</a>\n",
    "\n",
    "Design a stack that supports push, pop, top, and retrieving the minimum element in constant time.\n",
    "\n",
    "getMin() -- Retrieve the minimum element in the stack.\n"
   ]
  },
  {
   "cell_type": "code",
   "execution_count": 15,
   "metadata": {},
   "outputs": [],
   "source": [
    "import sys\n",
    "from ArrayStack import ArrayStack\n",
    "\n",
    "class MinStack(ArrayStack):\n",
    "    def __init__(self):\n",
    "        super(MinStack, self).__init__()\n",
    "        \n",
    "    def push(self, v):\n",
    "        new_min = min(v, self.min())\n",
    "        super(MinStack, self).push(NodeWithMin(v, new_min))\n",
    "        \n",
    "    def min(self):\n",
    "        if (super(MinStack, self).is_empty()):\n",
    "            return sys.maxsize\n",
    "        else:\n",
    "            return super(MinStack, self).top()._min\n",
    "        \n",
    "class NodeWithMin:\n",
    "    def __init__(self, v, min):\n",
    "        self._value = v\n",
    "        self._min = min\n",
    "        \n",
    "    def __str__(self):\n",
    "        return str(self._value)\n",
    "        "
   ]
  },
  {
   "cell_type": "code",
   "execution_count": 22,
   "metadata": {},
   "outputs": [],
   "source": [
    "class MinStack2(ArrayStack):\n",
    "    def __init__(self):\n",
    "        super(MinStack2, self).__init__()\n",
    "        self.minStack = ArrayStack()\n",
    "        \n",
    "    def push(self, v):\n",
    "        super(MinStack2, self).push(v)\n",
    "        if v <= self.min():\n",
    "            self.minStack.push(v)\n",
    "    \n",
    "    def min(self):\n",
    "        if self.minStack.is_empty():\n",
    "            return sys.maxsize\n",
    "        else:\n",
    "            return self.minStack.top()\n",
    "    \n",
    "    def pop(self):\n",
    "        v = super(MinStack2, self).pop()\n",
    "        if v == self.minStack.top():\n",
    "            self.minStack.pop()"
   ]
  },
  {
   "cell_type": "code",
   "execution_count": 23,
   "metadata": {},
   "outputs": [
    {
     "name": "stdout",
     "output_type": "stream",
     "text": [
      "3\n",
      "4 6 8 3 \n",
      "None\n",
      "4\n",
      "4 6 \n",
      "None\n"
     ]
    }
   ],
   "source": [
    "minStack = MinStack2()\n",
    "minStack.push(4)\n",
    "minStack.push(6)\n",
    "minStack.push(8)\n",
    "minStack.push(3)\n",
    "print(minStack.min())\n",
    "print(minStack.printstack())\n",
    "minStack.pop()\n",
    "minStack.pop()\n",
    "print(minStack.min())\n",
    "print(minStack.printstack())"
   ]
  },
  {
   "cell_type": "markdown",
   "metadata": {},
   "source": [
    "### <a id='Ex4'>Ex.4 Two Stack with One Array</a>\n",
    "\n",
    "Describe how you could use a single array to implement two stacks"
   ]
  },
  {
   "cell_type": "code",
   "execution_count": 35,
   "metadata": {},
   "outputs": [],
   "source": [
    "#split in middle\n",
    "class twoStacks:\n",
    "    \n",
    "    def __init__(self, n):\n",
    "        if n < 2:\n",
    "            raise ValueError(\"Can't initialise the twoStacks\")\n",
    "        self.bottom1 = self.pointer1 = int(n/2)-1\n",
    "        self.bottom2 = self.pointer2 = self.bottom1 + 1\n",
    "        self.space = [None] * n\n",
    "        \n",
    "    def push1(self, v):\n",
    "        if self.pointer1 < 0:\n",
    "            raise ValueError(\"Stack1 is overflow\")\n",
    "        self.space[self.pointer1] = v\n",
    "        self.pointer1 -= 1\n",
    "    \n",
    "    def pop1(self):\n",
    "        if self.pointer1 > self.bottom1:\n",
    "            raise ValueError(\"Stack1 is empty\")\n",
    "        value = self.space[self.pointer1]\n",
    "        self.pointer1 += 1\n",
    "        return value\n",
    "    \n",
    "    def push2(self, v):\n",
    "        if self.pointer2 >= len(self.space):\n",
    "            raise ValueError(\"Stack2 is overflow\")\n",
    "        self.space[self.pointer2] = v\n",
    "        self.pointer2 += 1\n",
    "    \n",
    "    def pop2(self):\n",
    "        if self.pointer1 < self.bottom2:\n",
    "            raise ValueError(\"Stack1 is empty\")\n",
    "        value = self.space[self.pointer2]\n",
    "        self.pointer2 -= 1\n",
    "        return value"
   ]
  },
  {
   "cell_type": "code",
   "execution_count": 38,
   "metadata": {},
   "outputs": [],
   "source": [
    "# 两端是各个堆栈的底\n",
    "class twoStacks:\n",
    "     \n",
    "    def __init__(self, n): \n",
    "        self.size = n\n",
    "        self.arr = [None] * n\n",
    "        self.top1 = -1\n",
    "        self.top2 = self.size\n",
    "         \n",
    "    # Method to push an element x to stack1\n",
    "    def push1(self, x):\n",
    "         \n",
    "        # There is at least one empty space for new element\n",
    "        if self.top1 < self.top2 - 1 :\n",
    "            self.top1 = self.top1 + 1\n",
    "            self.arr[self.top1] = x\n",
    " \n",
    "        else:\n",
    "            print(\"Stack Overflow \")\n",
    " \n",
    "    # Method to push an element x to stack2\n",
    "    def push2(self, x):\n",
    " \n",
    "        # There is at least one empty space for new element\n",
    "        if self.top1 < self.top2 - 1:\n",
    "            self.top2 = self.top2 - 1\n",
    "            self.arr[self.top2] = x\n",
    " \n",
    "        else :\n",
    "           print(\"Stack Overflow \")\n",
    " \n",
    "    # Method to pop an element from first stack\n",
    "    def pop1(self):\n",
    "        if self.top1 >= 0:\n",
    "            x = self.arr[self.top1]\n",
    "            self.top1 = self.top1 -1\n",
    "            return x\n",
    "        else:\n",
    "            print(\"Stack Underflow \")\n",
    " \n",
    "    # Method to pop an element from second stack\n",
    "    def pop2(self):\n",
    "        if self.top2 < self.size:\n",
    "            x = self.arr[self.top2]\n",
    "            self.top2 = self.top2 + 1\n",
    "            return x\n",
    "        else:\n",
    "            print(\"Stack Underflow \")"
   ]
  },
  {
   "cell_type": "code",
   "execution_count": 40,
   "metadata": {},
   "outputs": [],
   "source": [
    "ts = twoStacks(5)\n",
    "ts.push1(5)\n",
    "ts.push2(10)\n",
    "ts.push2(15)\n",
    "ts.push1(11)\n",
    "ts.push2(7)"
   ]
  },
  {
   "cell_type": "code",
   "execution_count": 41,
   "metadata": {},
   "outputs": [
    {
     "name": "stdout",
     "output_type": "stream",
     "text": [
      "Popped element from stack1 is  11\n",
      "Popped element from stack2 is  40\n",
      "Popped element from stack2 is  7\n",
      "Popped element from stack2 is  15\n",
      "Popped element from stack2 is  10\n",
      "Stack Underflow \n",
      "Popped element from stack2 is  None\n",
      "Stack Underflow \n",
      "Popped element from stack2 is  None\n",
      "Popped element from stack2 is  30\n",
      "Popped element from stack2 is  20\n",
      "Stack Underflow \n",
      "Popped element from stack2 is  None\n"
     ]
    }
   ],
   "source": [
    "print(\"Popped element from stack1 is \", ts.pop1())\n",
    "ts.push2(40)\n",
    "print(\"Popped element from stack2 is \", ts.pop2())\n",
    "print(\"Popped element from stack2 is \", ts.pop2())\n",
    "print(\"Popped element from stack2 is \", ts.pop2())\n",
    "print(\"Popped element from stack2 is \", ts.pop2())\n",
    "print(\"Popped element from stack2 is \", ts.pop2())\n",
    "print(\"Popped element from stack2 is \", ts.pop2())\n",
    "ts.push2(20)\n",
    "ts.push2(30)\n",
    "print(\"Popped element from stack2 is \", ts.pop2())\n",
    "print(\"Popped element from stack2 is \", ts.pop2())\n",
    "print(\"Popped element from stack2 is \", ts.pop2())"
   ]
  },
  {
   "cell_type": "markdown",
   "metadata": {},
   "source": [
    "### <a id='Ex5'>Ex.5 Three Stack with One Array</a>\n",
    "\n",
    "Describe how you could use a single array to implement three stacks"
   ]
  },
  {
   "cell_type": "markdown",
   "metadata": {},
   "source": [
    "### <a id='Ex6'>Ex.6 Stack Sorting</a>\n",
    "\n",
    "Write a program to sort a stack in ascending order. You should not make any assumptions about how the stack is implemented. The following are the only functions that should be used to write this program: push | pop | top | isEmpty."
   ]
  },
  {
   "cell_type": "code",
   "execution_count": 47,
   "metadata": {},
   "outputs": [],
   "source": [
    "# O(N^2)\n",
    "def sortStack(s):\n",
    "    r = ArrayStack()\n",
    "    \n",
    "    while not s.is_empty():\n",
    "        tmp = s.pop()\n",
    "        while (not r.is_empty()) and (tmp < r.top()):\n",
    "            s.push(r.pop())\n",
    "        r.push(tmp)\n",
    "    \n",
    "    return r"
   ]
  },
  {
   "cell_type": "code",
   "execution_count": 49,
   "metadata": {},
   "outputs": [
    {
     "name": "stdout",
     "output_type": "stream",
     "text": [
      "size was:  0\n",
      "3 1 4 2 5 6 9 8 7 \n"
     ]
    }
   ],
   "source": [
    "mystack = ArrayStack()\n",
    "print ('size was: ', str(len(mystack)))\n",
    "mystack.push(3)\n",
    "mystack.push(1)\n",
    "mystack.push(4)\n",
    "mystack.push(2)\n",
    "mystack.push(5)\n",
    "mystack.push(6)\n",
    "mystack.push(9)\n",
    "mystack.push(8)\n",
    "mystack.push(7)\n",
    "mystack.printstack()"
   ]
  },
  {
   "cell_type": "code",
   "execution_count": 50,
   "metadata": {},
   "outputs": [
    {
     "name": "stdout",
     "output_type": "stream",
     "text": [
      "1 2 3 4 5 6 7 8 9 \n"
     ]
    }
   ],
   "source": [
    "r = sortStack(mystack)\n",
    "r.printstack()"
   ]
  },
  {
   "cell_type": "code",
   "execution_count": 51,
   "metadata": {},
   "outputs": [],
   "source": [
    "#recursion \n",
    "def sortedInsert(s, x):\n",
    "    if len(s) == 0 or x > s.top():\n",
    "        s.push(x)\n",
    "        return\n",
    "    temp = s.pop()\n",
    "    sortedInsert(s, x)\n",
    "    s.push(temp)\n",
    "    \n",
    "def sortStack(s):\n",
    "    if len(s) != 0:\n",
    "        x = s.pop()\n",
    "        sortStack(s)\n",
    "        sortedInsert(s, x)"
   ]
  },
  {
   "cell_type": "code",
   "execution_count": 52,
   "metadata": {},
   "outputs": [
    {
     "name": "stdout",
     "output_type": "stream",
     "text": [
      "30 -5 18 14 -3 \n",
      "-5 -3 14 18 30 \n"
     ]
    }
   ],
   "source": [
    "s = ArrayStack()\n",
    "s.push(30)\n",
    "s.push(-5)\n",
    "s.push(18)\n",
    "s.push(14)\n",
    "s.push(-3)\n",
    "s.printstack()\n",
    "sortStack(s)\n",
    "s.printstack()"
   ]
  },
  {
   "cell_type": "code",
   "execution_count": null,
   "metadata": {},
   "outputs": [],
   "source": []
  }
 ],
 "metadata": {
  "kernelspec": {
   "display_name": "Python 3",
   "language": "python",
   "name": "python3"
  },
  "language_info": {
   "codemirror_mode": {
    "name": "ipython",
    "version": 3
   },
   "file_extension": ".py",
   "mimetype": "text/x-python",
   "name": "python",
   "nbconvert_exporter": "python",
   "pygments_lexer": "ipython3",
   "version": "3.7.0"
  }
 },
 "nbformat": 4,
 "nbformat_minor": 2
}
