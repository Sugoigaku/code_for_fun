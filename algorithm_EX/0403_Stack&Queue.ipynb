{
 "cells": [
  {
   "cell_type": "markdown",
   "metadata": {},
   "source": [
    "# ArrayStack #"
   ]
  },
  {
   "cell_type": "code",
   "execution_count": 11,
   "metadata": {
    "collapsed": true
   },
   "outputs": [],
   "source": [
    "from LinkedList import LinkedList\n",
    "from LinkedList import Node"
   ]
  },
  {
   "cell_type": "code",
   "execution_count": 4,
   "metadata": {
    "collapsed": true
   },
   "outputs": [],
   "source": [
    "class ArrayStack(object):\n",
    "    def __init__ (self):\n",
    "        self._data = []\n",
    "        \n",
    "    def __len__ (self):\n",
    "        return len(self._data)\n",
    "    \n",
    "    def is_empty(self):\n",
    "        return len(self._data) == 0\n",
    "    \n",
    "    # O(1)\n",
    "    def push(self, e):\n",
    "        self._data.append(e)\n",
    "        \n",
    "    # O(1)\n",
    "    def top(self):\n",
    "        if self.is_empty( ):\n",
    "            raise ValueError( 'Stack is empty' )\n",
    "        return self._data[-1]\n",
    "    \n",
    "    # O(1)\n",
    "    def pop(self):\n",
    "        if self.is_empty( ):\n",
    "            raise ValueError( 'Stack is empty' )\n",
    "        return self._data.pop( )  \n",
    "        \n",
    "    def printstack(self):\n",
    "        for i in range(len(self._data)):\n",
    "            print(self._data[i], end = ' ')\n",
    "        print()"
   ]
  },
  {
   "cell_type": "code",
   "execution_count": 5,
   "metadata": {},
   "outputs": [
    {
     "name": "stdout",
     "output_type": "stream",
     "text": [
      "size was:  0\n",
      "size was:  5\n",
      "1 2 3 4 5 \n",
      "size was:  3\n",
      "1 2 3 \n",
      "3\n"
     ]
    },
    {
     "data": {
      "text/plain": [
       "1"
      ]
     },
     "execution_count": 5,
     "metadata": {},
     "output_type": "execute_result"
    }
   ],
   "source": [
    "mystack = ArrayStack()\n",
    "print ('size was: ', str(len(mystack)))\n",
    "mystack.push(1)\n",
    "mystack.push(2)\n",
    "mystack.push(3)\n",
    "mystack.push(4)\n",
    "mystack.push(5)\n",
    "print ('size was: ', str(len(mystack)))\n",
    "mystack.printstack()\n",
    "mystack.pop()\n",
    "mystack.pop()\n",
    "print ('size was: ', str(len(mystack)))\n",
    "mystack.printstack()\n",
    "print(mystack.top())\n",
    "mystack.pop()\n",
    "mystack.pop()\n",
    "mystack.pop()\n",
    "#mystack.pop()"
   ]
  },
  {
   "cell_type": "markdown",
   "metadata": {},
   "source": [
    "# LinkedStack #"
   ]
  },
  {
   "cell_type": "code",
   "execution_count": 12,
   "metadata": {
    "collapsed": true
   },
   "outputs": [],
   "source": [
    "class LinkedStack(object):\n",
    "    def __init__ (self):\n",
    "        self._list = LinkedList()\n",
    "        \n",
    "    def __len__ (self):\n",
    "        return self._list.length\n",
    "    \n",
    "    def is_empty(self):\n",
    "        return self._list.length == 0\n",
    "    \n",
    "    # O(1)\n",
    "    def push(self, e):\n",
    "        self._list.add_first(e);\n",
    "        \n",
    "    # O(1)\n",
    "    def top(self):\n",
    "        return self._list.get_first().value;\n",
    "    \n",
    "    # O(1)\n",
    "    def pop(self):\n",
    "        return self._list.remove_first().value;\n",
    "        \n",
    "    def printstack(self):\n",
    "        self._list.printlist()\n"
   ]
  },
  {
   "cell_type": "code",
   "execution_count": 1,
   "metadata": {
    "scrolled": true
   },
   "outputs": [
    {
     "ename": "NameError",
     "evalue": "name 'LinkedStack' is not defined",
     "output_type": "error",
     "traceback": [
      "\u001b[1;31m---------------------------------------------------------------------------\u001b[0m",
      "\u001b[1;31mNameError\u001b[0m                                 Traceback (most recent call last)",
      "\u001b[1;32m<ipython-input-1-e5ce0a9b8a64>\u001b[0m in \u001b[0;36m<module>\u001b[1;34m()\u001b[0m\n\u001b[1;32m----> 1\u001b[1;33m \u001b[0mmystack\u001b[0m \u001b[1;33m=\u001b[0m \u001b[0mLinkedStack\u001b[0m\u001b[1;33m(\u001b[0m\u001b[1;33m)\u001b[0m\u001b[1;33m\u001b[0m\u001b[0m\n\u001b[0m\u001b[0;32m      2\u001b[0m \u001b[0mprint\u001b[0m \u001b[1;33m(\u001b[0m\u001b[1;34m'size was: '\u001b[0m\u001b[1;33m,\u001b[0m \u001b[0mstr\u001b[0m\u001b[1;33m(\u001b[0m\u001b[0mlen\u001b[0m\u001b[1;33m(\u001b[0m\u001b[0mmystack\u001b[0m\u001b[1;33m)\u001b[0m\u001b[1;33m)\u001b[0m\u001b[1;33m)\u001b[0m\u001b[1;33m\u001b[0m\u001b[0m\n\u001b[0;32m      3\u001b[0m \u001b[0mmystack\u001b[0m\u001b[1;33m.\u001b[0m\u001b[0mpush\u001b[0m\u001b[1;33m(\u001b[0m\u001b[1;36m1\u001b[0m\u001b[1;33m)\u001b[0m\u001b[1;33m\u001b[0m\u001b[0m\n\u001b[0;32m      4\u001b[0m \u001b[0mmystack\u001b[0m\u001b[1;33m.\u001b[0m\u001b[0mpush\u001b[0m\u001b[1;33m(\u001b[0m\u001b[1;36m2\u001b[0m\u001b[1;33m)\u001b[0m\u001b[1;33m\u001b[0m\u001b[0m\n\u001b[0;32m      5\u001b[0m \u001b[0mmystack\u001b[0m\u001b[1;33m.\u001b[0m\u001b[0mpush\u001b[0m\u001b[1;33m(\u001b[0m\u001b[1;36m3\u001b[0m\u001b[1;33m)\u001b[0m\u001b[1;33m\u001b[0m\u001b[0m\n",
      "\u001b[1;31mNameError\u001b[0m: name 'LinkedStack' is not defined"
     ]
    }
   ],
   "source": [
    "mystack = LinkedStack()\n",
    "print ('size was: ', str(len(mystack)))\n",
    "mystack.push(1)\n",
    "mystack.push(2)\n",
    "mystack.push(3)\n",
    "mystack.push(4)\n",
    "mystack.push(5)\n",
    "print ('size was: ', str(len(mystack)))\n",
    "mystack.printstack()\n",
    "mystack.pop()\n",
    "mystack.pop()\n",
    "print ('size was: ', str(len(mystack)))\n",
    "mystack.printstack()\n",
    "print(mystack.top())\n",
    "mystack.pop()\n",
    "mystack.pop()\n",
    "mystack.pop()\n",
    "#mystack.pop()"
   ]
  },
  {
   "cell_type": "markdown",
   "metadata": {},
   "source": [
    "# ArrayQueue #"
   ]
  },
  {
   "cell_type": "code",
   "execution_count": 1,
   "metadata": {},
   "outputs": [],
   "source": [
    "class ArrayQueue:\n",
    "    DEFAULT_CAPACITY = 10\n",
    "    def __init__(self):\n",
    "        self._data = [None] * ArrayQueue.DEFAULT_CAPACITY\n",
    "        self._size = 0\n",
    "        self._front = 0\n",
    "        \n",
    "    def __len__(self):\n",
    "        return self._size\n",
    "    \n",
    "    def is_empty(self):\n",
    "        return self._size == 0\n",
    "    \n",
    "    def first(self):\n",
    "        if self.is_empty( ):\n",
    "            raise ValueError( 'Queue is empty' )\n",
    "        return self._data[self._front]\n",
    "    \n",
    "    def dequeue(self):\n",
    "        if self.is_empty( ):\n",
    "            raise ValueError( 'Queue is empty' )\n",
    "        answer = self._data[self._front]\n",
    "        self._data[self._front] = None\n",
    "        self._front = (self._front + 1) % len(self._data)\n",
    "        self._size -= 1\n",
    "        return answer\n",
    "    \n",
    "    def enqueue(self, e):\n",
    "        if self._size == len(self._data):\n",
    "            self._resize(2 * len(self._data))\n",
    "        pos = (self._front + self._size) % len(self._data)\n",
    "        self._data[pos] = e\n",
    "        self._size += 1\n",
    "        \n",
    "    def resize(self, cap):\n",
    "        old = self._data\n",
    "        self._data = [None] * cap\n",
    "        walk = self._front\n",
    "        for k in range(self._size):\n",
    "            self._data[k] = old[walk]\n",
    "            walk = (1 + walk) % len(old)\n",
    "        self._front = 0\n",
    "        \n",
    "    def printqueue(self):\n",
    "        for i in range(self._size):\n",
    "            pos = (self._front + self._size - 1 - i) % len(self._data)\n",
    "            #print(str(i), \": \", str(pos))\n",
    "            print(self._data[pos], end = \" \")  \n",
    "        print()"
   ]
  },
  {
   "cell_type": "code",
   "execution_count": 9,
   "metadata": {},
   "outputs": [
    {
     "name": "stdout",
     "output_type": "stream",
     "text": [
      "size was:  0\n",
      "size was:  5\n",
      "5 4 3 2 1 \n",
      "size was:  3\n",
      "5 4 3 \n",
      "7 6 5 4 3 \n",
      "size was:  3\n",
      "7 6 5 \n",
      "size was:  0\n",
      "\n"
     ]
    }
   ],
   "source": [
    "myqueue = ArrayQueue()\n",
    "print ('size was: ', str(len(myqueue)))\n",
    "myqueue.enqueue(1)\n",
    "myqueue.enqueue(2)\n",
    "myqueue.enqueue(3)\n",
    "myqueue.enqueue(4)\n",
    "myqueue.enqueue(5)\n",
    "print ('size was: ', str(len(myqueue)))\n",
    "myqueue.printqueue()\n",
    "myqueue.dequeue()\n",
    "myqueue.dequeue()\n",
    "print ('size was: ', str(len(myqueue)))\n",
    "myqueue.printqueue()\n",
    "myqueue.enqueue(6)\n",
    "myqueue.enqueue(7)\n",
    "myqueue.printqueue()\n",
    "myqueue.dequeue()\n",
    "myqueue.dequeue()\n",
    "print ('size was: ', str(len(myqueue)))\n",
    "myqueue.printqueue()\n",
    "myqueue.dequeue()\n",
    "myqueue.dequeue()\n",
    "myqueue.dequeue()\n",
    "print ('size was: ', str(len(myqueue)))\n",
    "myqueue.printqueue()\n",
    "#myqueue.dequeue()"
   ]
  },
  {
   "cell_type": "markdown",
   "metadata": {},
   "source": [
    "# LinkedQueue #"
   ]
  },
  {
   "cell_type": "code",
   "execution_count": 11,
   "metadata": {
    "collapsed": true
   },
   "outputs": [],
   "source": [
    "class LinkedQueue(object):\n",
    "    def __init__(self):\n",
    "        self.head = None\n",
    "        self.tail = None\n",
    "        self.count = 0  \n",
    "        \n",
    "    def enqueue(self, value):\n",
    "        new_node = Node(value)\n",
    "\n",
    "        if self.tail is not None:\n",
    "            self.tail.next = new_node\n",
    "\n",
    "        else:\n",
    "            self.head = new_node\n",
    "\n",
    "        self.tail = new_node\n",
    "        self.count += 1\n",
    "\n",
    "    def dequeue(self):\n",
    "        if not self.is_empty():\n",
    "            # point head to next node\n",
    "            tmp = self.head\n",
    "            self.head = self.head.next\n",
    "            print(\"dequeue sucess\")\n",
    "            self.count -= 1\n",
    "            return tmp\n",
    "        else:\n",
    "            raise ValueError(\"Empty QUEUE\")\n",
    "\n",
    "    def is_empty(self):\n",
    "        if self.head is None and self.tail is None:\n",
    "            return True\n",
    "        else:\n",
    "            return False\n",
    "\n",
    "    def peek(self):\n",
    "        return self.head.data\n",
    "\n",
    "        \n",
    "    def __len__(self):\n",
    "        return self.count    \n",
    "\n",
    "    def is_empty(self):\n",
    "        return self.count == 0\n",
    "    \n",
    "    def print(self):\n",
    "        node = self.head\n",
    "        while node:\n",
    "            print(node.value, end = \" \")\n",
    "            node = node.next\n",
    "        print('')        "
   ]
  },
  {
   "cell_type": "code",
   "execution_count": 17,
   "metadata": {},
   "outputs": [
    {
     "name": "stdout",
     "output_type": "stream",
     "text": [
      "size was:  0\n",
      "size was:  5\n",
      "1 2 3 4 5 \n",
      "dequeue sucess\n",
      "1\n",
      "dequeue sucess\n",
      "2\n",
      "size was:  3\n",
      "3 4 5 \n",
      "dequeue sucess\n",
      "dequeue sucess\n",
      "size was:  3\n",
      "5 6 7 \n",
      "dequeue sucess\n",
      "dequeue sucess\n",
      "dequeue sucess\n",
      "size was:  0\n",
      "\n"
     ]
    }
   ],
   "source": [
    "myqueue = LinkedQueue()\n",
    "print ('size was: ', str(len(myqueue)))\n",
    "myqueue.enqueue(1)\n",
    "myqueue.enqueue(2)\n",
    "myqueue.enqueue(3)\n",
    "myqueue.enqueue(4)\n",
    "myqueue.enqueue(5)\n",
    "print ('size was: ', str(len(myqueue)))\n",
    "myqueue.print()\n",
    "print(myqueue.dequeue().value)\n",
    "print(myqueue.dequeue().value)\n",
    "print ('size was: ', str(len(myqueue)))\n",
    "myqueue.print()\n",
    "myqueue.enqueue(6)\n",
    "myqueue.enqueue(7)\n",
    "myqueue.dequeue()\n",
    "myqueue.dequeue()\n",
    "print ('size was: ', str(len(myqueue)))\n",
    "myqueue.print()\n",
    "myqueue.dequeue()\n",
    "myqueue.dequeue()\n",
    "myqueue.dequeue()\n",
    "print ('size was: ', str(len(myqueue)))\n",
    "myqueue.print()\n",
    "#myqueue.dequeue()"
   ]
  },
  {
   "cell_type": "markdown",
   "metadata": {},
   "source": [
    "In this lecture, you will learn:\n",
    "\n",
    "<a href='#Ex1'>Ex.1 Implement Queue using Stacks </a>\n",
    "\n",
    "<a href='#Ex2'>Ex.2 Implement Stack using Queues </a>\n",
    "\n",
    "<a href='#Ex3'>Ex.3 Min Stack </a>\n",
    "\n",
    "<a href='#Ex4'>Ex.4 Two Stack with One Array </a>\n",
    "\n",
    "<a href='#Ex5'>Ex.5 Three Stack with One Array </a>\n",
    "\n",
    "<a href='#Ex6'>Ex.6 Stack Sorting </a>"
   ]
  },
  {
   "cell_type": "markdown",
   "metadata": {},
   "source": [
    "### <a id='Ex1'>Ex.1 Implement Queue using Stacks </a>"
   ]
  },
  {
   "cell_type": "markdown",
   "metadata": {},
   "source": [
    "### <a id='Ex2'>Ex.2 Implement Stack using Queues </a>"
   ]
  },
  {
   "cell_type": "markdown",
   "metadata": {},
   "source": [
    "### <a id='Ex3'>Ex.3 Min Stack</a>\n",
    "\n",
    "Design a stack that supports push, pop, top, and retrieving the minimum element in constant time.\n",
    "\n",
    "getMin() -- Retrieve the minimum element in the stack.\n"
   ]
  },
  {
   "cell_type": "markdown",
   "metadata": {},
   "source": [
    "### <a id='Ex4'>Ex.4 Two Stack with One Array</a>\n",
    "\n",
    "Describe how you could use a single array to implement two stacks"
   ]
  },
  {
   "cell_type": "markdown",
   "metadata": {},
   "source": [
    "### <a id='Ex5'>Ex.5 Three Stack with One Array</a>\n",
    "\n",
    "Describe how you could use a single array to implement three stacks"
   ]
  },
  {
   "cell_type": "markdown",
   "metadata": {},
   "source": [
    "### <a id='Ex6'>Ex.6 Stack Sorting</a>\n",
    "\n",
    "Write a program to sort a stack in ascending order. You should not make any assumptions about how the stack is implemented. The following are the only functions that should be used to write this program: push | pop | peek | isEmpty."
   ]
  },
  {
   "cell_type": "code",
   "execution_count": null,
   "metadata": {},
   "outputs": [],
   "source": []
  }
 ],
 "metadata": {
  "kernelspec": {
   "display_name": "Python 3",
   "language": "python",
   "name": "python3"
  },
  "language_info": {
   "codemirror_mode": {
    "name": "ipython",
    "version": 3
   },
   "file_extension": ".py",
   "mimetype": "text/x-python",
   "name": "python",
   "nbconvert_exporter": "python",
   "pygments_lexer": "ipython3",
   "version": "3.7.0"
  }
 },
 "nbformat": 4,
 "nbformat_minor": 2
}
